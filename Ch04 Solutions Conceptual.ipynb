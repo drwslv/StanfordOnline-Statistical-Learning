{
 "cells": [
  {
   "cell_type": "markdown",
   "metadata": {},
   "source": [
    "# Chapter 4 - Exercise Solutions"
   ]
  },
  {
   "cell_type": "markdown",
   "metadata": {},
   "source": [
    "## Conceptual"
   ]
  },
  {
   "cell_type": "markdown",
   "metadata": {},
   "source": [
    "**(1)** Using a little bit of algebra, prove that (4.2) is equivalent to (4.3). In other words, the logistic function representation and logit representation for the logistic regression model are equivalent.\n",
    "\n",
    "$$ p(X) = \\frac{e^{\\beta_0 + \\beta_1 X}}{1 + e^{\\beta_0 + \\beta_1 X}} $$\n",
    "\n",
    "$$ p(X) + p(X) e^{\\beta_0 + \\beta_1 X} = e^{\\beta_0 + \\beta_1 X} $$\n",
    "\n",
    "$$ p(X) = e^{\\beta_0 + \\beta_1 X} - p(X) e^{\\beta_0 + \\beta_1 X}$$\n",
    "\n",
    "$$ p(X) = (1 - p(X)) e^{\\beta_0 + \\beta_1 X} $$\n",
    "\n",
    "$$ \\frac{p(X)}{1 - p(X)} = e^{\\beta_0 + \\beta_1 X} $$"
   ]
  },
  {
   "cell_type": "markdown",
   "metadata": {},
   "source": [
    "**(2)** It was stated in the text that classifying an observation to the class for which (4.17) is largest is equivalent to classifying an observation to the class for which (4.18) is largest. Prove that this is the case. In other words, under the assumption that the observations in the kth class are drawn from a $ N(μ_k,σ^2) $ distribution, the Bayes classifier assigns an observation to the class for which the discriminant function is maximized.\n",
    "\n",
    "$$ p_k(x) = \\frac{ \\pi_k \\frac{1}{\\sqrt{2 \\pi \\sigma}} \\exp ( -\\frac{1}{2 \\sigma^2} (x - \\mu_k)^2 ) }{ \\sum_{i=1}^{K}  \\pi_i \\frac{1}{\\sqrt{2 \\pi \\theta}} \\exp ( -\\frac{1}{2 \\sigma^2} (x - \\mu_i)^2 )   } $$\n",
    "\n",
    "Taking logs\n",
    "\n",
    "$$ \\log p_k(x) = \\log \\left(  \\pi_k \\frac{1}{\\sqrt{2 \\pi \\sigma}} \\exp ( -\\frac{1}{2 \\sigma^2} (x - \\mu_k)^2 ) \\right) - \\log \\left(   \\sum_{i=1}^{K}  \\pi_i \\frac{1}{\\sqrt{2 \\pi \\sigma}} \\exp ( -\\frac{1}{2 \\sigma^2} (x - \\mu_i)^2 )    \\right)   $$\n",
    "\n",
    "The second term is identical for all $k$, so it does not factor into maximization choice\n",
    "\n",
    "$$ \\log p_k(x) = \\log \\pi_k + \\log \\frac{1}{\\sqrt{2 \\pi \\sigma}}  -\\frac{1}{2 \\sigma^2} (x - \\mu_k)^2  - denominator  $$\n",
    "\n",
    "$$ \\log p_k(x) = \\log \\pi_k + \\log \\frac{1}{\\sqrt{2 \\pi \\sigma}}  -\\frac{1}{2 \\sigma^2} [  x^2  - 2 x \\mu_k + \\mu_k^2  ]  - denominator  $$\n",
    "\n",
    "$$ \\log p_k(x) = \\log \\pi_k + \\log \\frac{1}{\\sqrt{2 \\pi \\sigma}}  -\\frac{x^2}{2 \\sigma^2} + \\frac{ 2x \\mu_k}{2 \\sigma^2}  -\\frac{\\mu_k^2}{2 \\sigma^2}  - denominator  $$\n",
    "\n",
    "$$ \\log p_k(x) = \\log \\pi_k + x \\frac{ \\mu_k}{ \\sigma^2}  -\\frac{\\mu_k^2}{2 \\sigma^2}  + \\Bigl[ \\log \\frac{1}{\\sqrt{2 \\pi \\sigma}}  -\\frac{x^2}{2 \\sigma^2} - denominator \\Bigr] $$\n",
    "\n",
    "The terms in the square brackets are invariant to k, maximization of the following is equivalent\n",
    "\n",
    "$$ \\log p_k(x) = \\delta(x) = \\log \\pi_k + x \\frac{ \\mu_k}{ \\sigma^2}  -\\frac{\\mu_k^2}{2 \\sigma^2} $$\n",
    "\n"
   ]
  },
  {
   "cell_type": "markdown",
   "metadata": {},
   "source": [
    "**(3)** This problem relates to the QDA model, in which the observations within each class are drawn from a normal distribution with a class-specific mean vector and a class-specific covariance matrix. We consider the simple case where *p* = 1; i.e. there is only one feature.\n",
    "\n",
    "Suppose that we have *K* classes, and that if an observation belongs to the *k*th class then *X* comes from a one-dimensional normal dis-tribution, $ X ∼ N(μ_k,σ_k^2) $. Recall that the density function for the one-dimensional normal distribution is given in (4.16). Prove that in this case, the Bayes classifier is not linear. Argue that it is in fact quadratic.\n",
    "\n",
    "Hint: For this problem, you should follow the arguments laid out in Section 4.4.1, but without making the assumption that $ σ_1^2 = \\cdots = σ_K^2 $."
   ]
  },
  {
   "cell_type": "markdown",
   "metadata": {},
   "source": [
    "Modifiying (4.17) so $ \\sigma $ is replaced with $ \\sigma_k $\n",
    "\n",
    "$$ p_k(x) = \\frac{ \\pi_k \\frac{1}{\\sqrt{2 \\pi \\theta}} \\exp ( -\\frac{1}{2 \\sigma_k^2} (x - \\mu_k)^2 ) }{ \\sum_{i=1}^{K}  \\pi_i \\frac{1}{\\sqrt{2 \\pi \\theta}} \\exp ( -\\frac{1}{2 \\sigma_k^2} (x - \\mu_i)^2 )   } $$\n",
    "\n",
    "Taking logs\n",
    "\n",
    "$$ \\log p_k(x) = \\log \\left(  \\pi_k \\frac{1}{\\sqrt{2 \\pi \\theta}} \\exp ( -\\frac{1}{2 \\sigma_k^2} (x - \\mu_k)^2 ) \\right) - \\log \\left(   \\sum_{i=1}^{K}  \\pi_i \\frac{1}{\\sqrt{2 \\pi \\theta}} \\exp ( -\\frac{1}{2 \\sigma_k^2} (x - \\mu_i)^2 )    \\right)   $$\n",
    "\n",
    "As before, the second term is identical for all $k$, so it does not factor into maximization choice. Following the same steps as in (2) we have\n",
    "\n",
    "$$ \\log p_k(x) = \\log \\pi_k + \\log \\frac{1}{\\sqrt{2 \\pi \\sigma_k}}  -\\frac{x^2}{2 \\sigma_k^2} + \\frac{ 2x \\mu_k}{2 \\sigma_k^2}  -\\frac{\\mu_k^2}{2 \\sigma_k^2}  - denominator  $$\n",
    "\n",
    "$$ \\log p_k(x) = x \\frac{ \\mu_k}{ \\sigma_k^2} - x^2 \\frac{1}{ 2 \\sigma_k^2} - \\frac{\\mu_k^2}{2 \\sigma_k^2} + \\log \\pi_k + \\log \\frac{1}{\\sqrt{2 \\pi \\sigma_k}}  - denominator  $$\n",
    "\n",
    "This is equivalent to maximizing\n",
    "\n",
    "$$ \\log p_k(x) = \\delta(x) = x \\frac{ \\mu_k}{ \\sigma_k^2} - x^2 \\frac{1}{ 2 \\sigma_k^2} - \\frac{\\mu_k^2}{2 \\sigma_k^2} + \\log \\pi_k + \\log \\frac{1}{\\sqrt{2 \\pi \\sigma_k}}  $$\n",
    "\n",
    "\n"
   ]
  },
  {
   "cell_type": "markdown",
   "metadata": {},
   "source": [
    "**(4)** When the number of features p is large, there tends to be a deterioration in the performance of KNN and other local approaches that perform prediction using only observations that are near the test observation for which a prediction must be made. This phenomenon is known as the curse of dimensionality, and it ties into the fact that non-parametric approaches often perform poorly when p is large. We will now investigate this curse.\n",
    "\n",
    "**(a)** Suppose that we have a set of observations, each with measurements on *p* = 1 feature, *X*. We assume that *X* is uniformly (evenly) distributed on [0, 1]. Associated with each observation is a response value. Suppose that we wish to predict a test observation’s response using only observations that are within 10 % of the range of X closest to that test observation. For instance, in order to predict the response for a test observation with X = 0.6, we will use observations in the range [0.55,0.65]. On average, what fraction of the available observations will we use to make the prediction?\n",
    "\n",
    "- If *X* is uniform on [0, 1], then the 10% nearest observations used for prediction amount to a bandwidth of 0.1 out of a total possible range of (1 - 0) = 1, in other words 10% of the available observations.\n",
    "\n",
    "**(b)** Now suppose that we have a set of observations, each with measurements on *p* = 2 features, $X_1$ and $X_2$. We assume that ($X_1$ , $X_2$) are uniformly distributed on [0, 1] $\\times$ [0, 1]. We wish to predict a test observation’s response using only observations that are within 10 % of the range of $X_1$ and within 10 % of the range of $X_2$ closest to that test observation. For instance, in order to predict the response for a test observation with $X_1$ = 0.6 and $X_2$ = 0.35, we will use observations in the range [0.55, 0.65] for $X_1$ and in the range [0.3,0.4] for $X_2$. On average, what fraction of the available observations will we use to make the prediction?\n",
    "\n",
    "- The total possible range (area) of data is uniformly distributed on [0, 1] $\\times$ [0, 1], for an area of 1. The interval of prediction is $ 0.1^2 = 0.01$, which is $ 0.01 / 1 = 0.01 $, or 1% of the availalbe observations for any given prediction.\n",
    "\n",
    "**(c)** Now suppose that we have a set of observations on *p* = 100 features. Again the observations are uniformly distributed on each feature, and again each feature ranges in value from 0 to 1. We wish to predict a test observation’s response using observations within the 10 % of each feature’s range that is closest to that test observation. What fraction of the available observations will we use to make the prediction?\n",
    "\n",
    "- If all predictors are on [0, 1], then the total distributional \"volume\" over all predictors is still 1. To predict any given observation 10% of each predictors range over 100 predictors amounts to $ 0.1^{100} = \\frac{1}{10^{100}} = 1 \\times 10^{-100}$, which is also the fraction of available data used for any given prediction.\n",
    "\n",
    "**(d)** Using your answers to parts (a)–(c), argue that a drawback of KNN when *p* is large is that there are very few training observations “near” any given test observation.\n",
    "\n",
    "- It becomes evident that as *p* increases, the fraction of data used declines at an expotential rate to the power of *p*. So, for a 10% of interval for each predictor, the faction of data used for each prediction used is $ 0.1^p = \\frac{1}{10^p} = 10^{-p} $. With more dimensions *p*, being \"near\" all dimensions (for a fixed definition of near) at any given point in probability space becomes increasingly unlikely. Each additional dimension is an additional restriction on which neighbors can be used.\n",
    "\n",
    "**(e)** Now suppose that we wish to make a prediction for a test observation by creating a *p*-dimensional hypercube centered around the test observation that contains, on average, 10 % of the training observations. For p = 1, 2, and 100, what is the length of each side of the hypercube? Comment on your answer.\n",
    "\n",
    "Note: A hypercube is a generalization of a cube to an arbitrary number of dimensions. When *p* = 1, a hypercube is simply a line segment, when *p* = 2 it is a square, and when *p* = 100 it is a 100-dimensional cube.\n",
    "\n",
    "- $ 0.10 = x^p $, or $ \\log_x 0.10 = p $\n",
    "\n",
    "- *p* = 1: $ 0.10 = x^1 $, so $ x = 0.1 $.\n",
    "\n",
    "- *p* = 2: $ 0.10 = x^2 $, so $ x = \\sqrt{0.10} = 0.316 $.\n",
    "\n",
    "- *p* = 100: $ 0.10 = x^{100} $, so $ x = \\sqrt[100]{0.10} = 0.977 $.\n",
    "\n",
    "\n",
    "\n"
   ]
  },
  {
   "cell_type": "markdown",
   "metadata": {},
   "source": [
    "**(5)** We now examine the differences between LDA and QDA.\n",
    "\n",
    "**(a)** If the Bayes decision boundary is linear, do we expect LDA or QDA to perform better on the training set? On the test set?\n",
    "\n",
    "- In training data, QDA will always perform better, as it is a more flexible model, and can be fit to the noise in the training data. On test data, LDA should perform better on the if the decision boundary is linear.\n",
    "\n",
    "**(b)** If the Bayes decision boundary is non-linear, do we expect LDA or QDA to perform better on the training set? On the test set?\n",
    "\n",
    "- In the training data, QDA will perform better if the decision boundary is non-linear. In test data, QDA will also perform better -- it should yield lower bias, if at perhaps the cost of some variance.\n",
    "\n",
    "**(c)** In general, as the sample size *n* increases, do we expect the test prediction accuracy of QDA relative to LDA to improve, decline, or be unchanged? Why?\n",
    "\n",
    "- As *n* increases, the performance of QDA should increase relative to LDA, as there is less of a change that the QDA model will be over-fit. With high *n*, the variance of any particular model will be reduced; QDA in general is a high-variance method, and has more to benefit from large *n* relative to LDA. LDA on the other hand will likely perform better with small *n*.\n",
    "\n",
    "**(d)** True or False: Even if the Bayes decision boundary for a given problem is linear, we will probably achieve a superior test error rate using QDA rather than LDA because QDA is flexible enough to model a linear decision boundary. Justify your answer.\n",
    "\n",
    "- False. This would be true for taining data. For a linear decision boundary, a QDA model will likely be over-fit on training data, and therefore perform poorly on test data. With large *n* over-fitting will be reduced, but LDA will likely still be superior on test data.\n",
    "\n"
   ]
  },
  {
   "cell_type": "markdown",
   "metadata": {},
   "source": [
    "**(6)** Suppose we collect data for a group of students in a statistics class with variables $X_1 =$ hours studied, $X_2 =$ undergrad GPA, and $Y$ = receive an A. We fit a logistic regression and produce estimated coefficient, $ \\hat{\\beta_0} = −6 $, $ \\hat{\\beta_1} = 0.05$, $ \\hat{\\beta_2} = 1 $.\n",
    "\n",
    "**(a)** Estimate the probability that a student who studies for 40 h and has an undergrad GPA of 3.5 gets an A in the class.\n",
    "\n",
    "$$ p(Y|X) = \\frac{e^{\\beta_0 + \\beta_1 X}}{1 + e^{\\beta_0 + \\beta_1 X}} $$\n",
    "\n",
    "$$ p(Y|X) = \\frac{e^{-6 + 0.05(40) + 1(3.5) }}{1 + e^{-6 + 0.05(40) + 1 (3.5) }} $$\n",
    "\n",
    "$$ p(Y|X) = \\frac{e^{4.9}}{1 + e^{4.9}} $$\n",
    "\n",
    "$$ p(Y|X) = 0.3775 $$\n",
    "\n"
   ]
  },
  {
   "cell_type": "code",
   "execution_count": 18,
   "metadata": {},
   "outputs": [
    {
     "data": {
      "text/plain": [
       "0.37754066879814546"
      ]
     },
     "execution_count": 18,
     "metadata": {},
     "output_type": "execute_result"
    }
   ],
   "source": [
    "import numpy as np\n",
    "\n",
    "np.exp(-6 + 0.05*(40) + 1*(3.5)) / (1 + np.exp(-6 + 0.05*(40) + 1*(3.5)) )"
   ]
  },
  {
   "cell_type": "markdown",
   "metadata": {},
   "source": [
    "**(b)** How many hours would the student in part (a) need to study to have a 50 % chance of getting an A in the class?\n",
    "\n",
    "$$ p(Y|X) = 0.50 = \\frac{e^{-6 + 0.05(h) + 1(3.5) }}{1 + e^{-6 + 0.05(h) + 1 (3.5) }} $$\n",
    "\n",
    "$$ \\frac{p(X)}{1 - p(X)} = \\frac{0.5}{1 - 0.5} = e^{-6 + 0.05 h + 1 (3.5)} $$\n",
    "\n",
    "$$ \\log 1 = 0 = -6 + 0.05 h + 1 (3.5) $$\n",
    "\n",
    "$$ 6 - 3.5 = 0.05 h $$\n",
    "\n",
    "$$ h = \\frac{6 - 3.5}{0.05} = 50 $$\n",
    "\n",
    "For the student to have a 50% of getting an A, he/she must study for 50 hours, ceteris paribus."
   ]
  },
  {
   "cell_type": "markdown",
   "metadata": {},
   "source": [
    "**(7)** Suppose that we wish to predict whether a given stock will issue a dividend this year (“Yes” or “No”) based on *X*, last year’s percent profit. We examine a large number of companies and discover that the mean value of *X* for companies that issued a dividend was $\\bar{X} = 10$, while the mean for those that didn’t was $\\bar{X} = 0$. In addition, the variance of *X* for these two sets of companies was $ \\sigma^2 = 36 $. Finally, 80% of companies issued dividends. Assuming that *X* follows a normal distribution, predict the probability that a company will issue a dividend this year given that its percentage profit was *X* = 4 last year.\n",
    "\n",
    "Hint: Recall that the density function for a normal random variable is $f(x) = \\frac{1}{\\sqrt{2 \\pi \\sigma^2}} e^{-(x - \\mu)^2/2 \\sigma^2}$. You will need to use Bayes’ theorem.\n",
    "\n",
    "Bayes Theorem\n",
    "\n",
    "$$ P(D | X) = \\frac{P(X | D) P(D)}{P(X)} $$\n",
    "\n",
    "$$ P(D | X) = \\frac{P(X | D) P(D)}{P(X|D)P(D) + P(X|/D)P(/D)} $$"
   ]
  },
  {
   "cell_type": "markdown",
   "metadata": {},
   "source": [
    "$$ P(D) = P(D = 1) = 0.8 $$\n",
    "\n",
    "$$ P(/D) = P( D = 0 ) = 0.2 $$\n",
    "\n",
    "$$ P(X|D) = f(x) = \\frac{1}{\\sqrt{2 \\pi \\sigma^2}} e^{-(x - \\mu)^2/2 \\sigma^2} $$\n",
    "\n",
    "$$ P(X|D=1) = \\frac{1}{\\sqrt{2 \\pi \\cdot 36}} e^{-(x - 10)^2/2 \\cdot 36} = 0.06649 e^{-(x - 10)^2/72} $$\n",
    "\n",
    "$$ P(X|D=0) = \\frac{1}{\\sqrt{2 \\pi \\cdot 36}} e^{-(x - 0)^2/2 \\cdot 36} = 0.06649 e^{-x^2/72} $$\n",
    "\n",
    "$$ P(X=4|D=1) = 0.06649 e^{-(4 - 10)^2/72} = 0.06649 e^{-1/2} = 0.0403 $$\n",
    "\n",
    "$$ P(X=4|D=0) = 0.06649 e^{-4^2/72} = 0.06649 e^{-0.222} = 0.0533 $$\n"
   ]
  },
  {
   "cell_type": "markdown",
   "metadata": {},
   "source": [
    "$$ P(D=1|X=4) = \\frac{P(X=4|D=1) P(D=1)}{P(X=4|D=1)P(D=1) + P(X=4|D=0)P(D=0)} $$\n",
    "\n",
    "$$ P(D=1|X=4) = \\frac{  0.0403 (0.80) }{ 0.0403 (0.80) + 0.0533 (0.20) } = 0.7515 $$"
   ]
  },
  {
   "cell_type": "code",
   "execution_count": 31,
   "metadata": {},
   "outputs": [
    {
     "data": {
      "text/plain": [
       "0.7515151515151515"
      ]
     },
     "execution_count": 31,
     "metadata": {},
     "output_type": "execute_result"
    }
   ],
   "source": [
    "# 1/ np.sqrt(72 * np.pi) * np.exp(-0.5)\n",
    "\n",
    "# 1/ np.sqrt(72 * np.pi) * np.exp(-0.222)\n",
    "\n",
    "( 0.0403*0.8 )/( 0.0403*0.8 + 0.0533*0.2 )"
   ]
  },
  {
   "cell_type": "markdown",
   "metadata": {},
   "source": [
    "**(8)** Suppose that we take a data set, divide it into equally-sized training and test sets, and then try out two different classification procedures. First we use logistic regression and get an error rate of 20% on the training data and 30% on the test data. Next we use 1-nearest neighbors (i.e. K = 1) and get an average error rate (averaged over both test and training data sets) of 18%. Based on these results, which method should we prefer to use for classification of new observations? Why?\n",
    "\n",
    "The test error rate should be the basis of comparison. For the logistics regression it is 30%.\n",
    "\n",
    "For the KNN model:\n",
    "\n",
    "$$ \\frac{\\epsilon_{training} + \\epsilon_{test}}{2} = 0.18 $$\n",
    "\n",
    "$$ 2 \\cdot 0.18 = \\epsilon_{training} + \\epsilon_{test} $$\n",
    "\n",
    "$\\epsilon_{training} $ for KNN K=1 is 0, because the estimate for the data point is always itself. Therefore \n",
    "\n",
    "$$ \\epsilon_{test} = 2 \\cdot 0.18 = 0.36 $$\n",
    "\n",
    "The KNN (K=1) model has an 36% test error rate, which is higher than the logistic regression. We prefer the logistic regression."
   ]
  },
  {
   "cell_type": "markdown",
   "metadata": {},
   "source": [
    "**(9)** This problem has to do with *odds*.\n",
    "\n",
    "**(a)** On average, what fraction of people with an odds of 0.37 of defaulting on their credit card payment will in fact default?\n",
    "\n",
    "$$ \\frac{p(x)}{1 - p(x)} = 0.37 $$\n",
    "\n",
    "$$ p(x) = 0.37 \\Bigl( 1 - p(x) \\Bigr) $$\n",
    "\n",
    "$$ p(x) + 0.37 p(x) = 0.37  $$\n",
    "\n",
    "$$ p(x) = 0.37 / 1.37 = 0.27 $$\n",
    "\n",
    "**(b)** Suppose that an individual has a 16% chance of defaulting on her credit card payment. What are the odds that she will default?\n",
    "\n",
    "$$ odds = \\frac{p(x)}{1 - p(x)} = \\frac{0.16}{1 - 0.16} = 0.19 $$\n"
   ]
  },
  {
   "cell_type": "markdown",
   "metadata": {},
   "source": [
    "**(10)** Equation 4.32 derived an expression for\n",
    "\n",
    "$$ \\log \\Biggl( \\frac{Pr( Y = k | X = x )}{Pr( Y = K | X = x )} \\Biggr) $$  \n",
    "\n",
    "in the setting where $p > 1$, so that the mean for the *k*th class, $\\mu_k$, is a *p*-dimensional vector, and the shared covariance $\\sum$ is a $p \\times p$ matrix. However, in the setting with $p = 1$, (4.32) takes a simpler form, since the means $\\mu_1, ... , \\mu_K$ and the variance $\\sigma^2$ are scalars. In this simpler setting, repeat the calculation in (4.32), and provide expressions for $a_k$ and $b_{kj}$ in terms of $\\pi_k$, $\\pi_K$, $\\mu_k$, $\\mu_K$, and $\\sigma^2$."
   ]
  },
  {
   "cell_type": "markdown",
   "metadata": {},
   "source": [
    "$$ \\log \\Biggl( \\frac{Pr( Y = k | X = x )}{Pr( Y = K | X = x )} \\Biggr) = \\log \\Biggl( \\frac{ \\pi_k f_k(x) }{ \\pi_K f_K(x) } \\Biggr) = \n",
    "\\log \\Biggl( \\frac{ \\pi_k  }{ \\pi_K } \\Biggr) + \\log f_k(x) - \\log f_K(x) $$\n",
    "\n",
    "Using\n",
    "\n",
    "$$ f(x) = \\frac{1}{\\sqrt{2 \\pi \\sigma^2}} e^{-(x - \\mu)^2/2 \\sigma^2} $$\n",
    "\n",
    "$$ \\log \\Biggl( \\frac{Pr( Y = k | X = x )}{Pr( Y = K | X = x )} \\Biggr) = \\log \\Biggl( \\frac{ \\pi_k  }{ \\pi_K } \\Biggr) + \\log \\Biggl( \\frac{1}{\\sqrt{2 \\pi \\sigma^2}} e^{-(x - \\mu_k)^2/2 \\sigma^2} \\Biggr)  -  \\log \\Biggl( \\frac{1}{\\sqrt{2 \\pi \\sigma^2}} e^{-(x - \\mu_K)^2/2 \\sigma^2} \\Biggr) $$\n",
    "\n",
    "$$  = \\log \\Biggl( \\frac{ \\pi_k  }{ \\pi_K } \\Biggr) +   \\log \\Biggl( \\frac{1}{\\sqrt{2 \\pi \\sigma^2}} \\Biggr) +  \\log \\Biggl( e^{-(x - \\mu_k)^2/2 \\sigma^2} \\Biggr)  -  \\log \\Biggl( \\frac{1}{\\sqrt{2 \\pi \\sigma^2}} \\Biggr)  -  \\log \\Biggl(  e^{-(x - \\mu_K)^2/2 \\sigma^2} \\Biggr) $$\n",
    "\n",
    "$$  = \\log \\Biggl( \\frac{ \\pi_k  }{ \\pi_K } \\Biggr) +  \\log \\Biggl( e^{-(x - \\mu_k)^2/2 \\sigma^2} \\Biggr)  -  \\log \\Biggl(  e^{-(x - \\mu_K)^2/2 \\sigma^2} \\Biggr) $$\n",
    "\n",
    "$$  = \\log \\Biggl( \\frac{ \\pi_k  }{ \\pi_K } \\Biggr) + (-)(x - \\mu_k)^2/2 \\sigma^2 - (-) (x - \\mu_K)^2/2 \\sigma^2 $$\n",
    "\n",
    "$$  = \\log \\Biggl( \\frac{ \\pi_k  }{ \\pi_K } \\Biggr) - (x - \\mu_k)^2/2 \\sigma^2 + (x - \\mu_K)^2/2 \\sigma^2 $$\n",
    "\n",
    "$$  = \\log \\Biggl( \\frac{ \\pi_k  }{ \\pi_K } \\Biggr) - (x^2 -2x\\mu_k + \\mu_k^2)/2 \\sigma^2 + (x^2 -2x\\mu_K + \\mu_K^2)/2 \\sigma^2 $$\n",
    "\n",
    "$$  = \\log \\Biggl( \\frac{ \\pi_k  }{ \\pi_K } \\Biggr) - (x^2/2\\sigma^2 -2x\\mu_k/2\\sigma^2 + \\mu_k^2/2\\sigma^2)  + (x^2/2\\sigma^2 -2x\\mu_K/2\\sigma^2 + \\mu_K^2/2\\sigma^2) $$\n",
    "\n",
    "$$  = \\log \\Biggl( \\frac{ \\pi_k  }{ \\pi_K } \\Biggr) - x^2/2\\sigma^2 + 2x\\mu_k/2\\sigma^2 - \\mu_k^2/2\\sigma^2  + x^2/2\\sigma^2 - 2x\\mu_K/2\\sigma^2 + \\mu_K^2/2\\sigma^2 $$\n",
    "\n",
    "$$  = \\log \\Biggl( \\frac{ \\pi_k  }{ \\pi_K } \\Biggr) + x\\mu_k/\\sigma^2 - \\mu_k^2/2\\sigma^2  - x\\mu_K/\\sigma^2 + \\mu_K^2/2\\sigma^2 $$\n",
    "\n",
    "$$  = \\log \\Biggl( \\frac{ \\pi_k  }{ \\pi_K } \\Biggr) - \\mu_k^2/2\\sigma^2 + \\mu_K^2/2\\sigma^2 + x \\Bigl(\\mu_k/\\sigma^2 - \\mu_K/\\sigma^2 \\Bigr) $$\n",
    "\n",
    "$$ = a_k + b_k x $$\n",
    "\n",
    "Where\n",
    "\n",
    "$$ a_k = \\log \\Biggl( \\frac{ \\pi_k  }{ \\pi_K } \\Biggr) - \\mu_k^2/2\\sigma^2 + \\mu_K^2/2\\sigma^2 $$\n",
    "\n",
    "$$ b_k = \\Bigl(\\mu_k/\\sigma^2 - \\mu_K/\\sigma^2 \\Bigr) $$"
   ]
  },
  {
   "cell_type": "markdown",
   "metadata": {},
   "source": [
    "**(11)** Work out the detailed forms of $a_k$, $b_{kj}$, and $b_{kjl}$ in (4.33). Your answer should involve $\\pi_k$, $\\pi_K$, $\\mu_k$, $\\mu_K$, $\\sum_k$, and $\\sum_K$.\n",
    "\n",
    "$$ \\log \\Biggl( \\frac{Pr( Y = k | X = x )}{Pr( Y = K | X = x )} \\Biggr) = \\log \\Biggl( \\frac{ \\pi_k f_k(x) }{ \\pi_K f_K(x) } \\Biggr) = \n",
    "\\log \\Biggl( \\frac{ \\pi_k  }{ \\pi_K } \\Biggr) + \\log f_k(x) - \\log f_K(x) $$\n",
    "\n",
    "Nothing that $f_k(x)$ has a different variance $\\sigma_k$ for each $k$, and using the multi-variate form of the normal density\n",
    "\n",
    "$$ f_k(x) = \\frac{1}{(2 \\pi)^{p/2} \\left| \\Sigma_k \\right| ^{1/2} }  \\exp \\Biggl( - \\frac{1}{2} (x - \\mu_k)^T  \\Sigma_k^{-1} (x - \\mu_k)   \\Biggr) $$\n",
    "\n",
    "$$ \\log f_k(x)  = - \\log \\Bigl(    (2 \\pi)^{p/2} \\left| \\Sigma_k \\right| ^{1/2}    \\Bigr)   - \\frac{1}{2} (x - \\mu_k)^T  \\Sigma_k^{-1} (x - \\mu_k)   $$\n",
    "\n",
    "$$ \\log f_k(x) = - \\log \\Bigl(   (2 \\pi)^{p/2} \\Bigr)  -  \\log \\Bigl(    \\left| \\Sigma_k \\right| ^{1/2}    \\Bigr)   - \\frac{1}{2} (x - \\mu_k)^T  \\Sigma_k^{-1} (x - \\mu_k)   $$\n",
    "\n",
    "$$ \\log f_k(x) = - \\frac{p}{2} \\log ( 2 \\pi ) -  \\frac{1}{2}   \\log  \\left| \\Sigma_k \\right|  - \\frac{1}{2} (x - \\mu_k)^T  \\Sigma_k^{-1} (x - \\mu_k)   $$\n",
    "\n",
    "And so\n",
    "\n",
    "$$ \\log f_k(x) = - \\frac{p}{2} \\log ( 2 \\pi ) -  \\frac{1}{2}   \\log  \\left| \\Sigma_K \\right|  - \\frac{1}{2} (x - \\mu_K)^T  \\Sigma_K^{-1} (x - \\mu_K)   $$\n",
    "\n",
    "Plugging in\n",
    "\n",
    "$$ \\log \\Biggl( \\frac{Pr( Y = k | X = x )}{Pr( Y = K | X = x )} \\Biggr) = \\log \\Biggl( \\frac{ \\pi_k  }{ \\pi_K } \\Biggr) ... $$\n",
    "\n",
    "$$ - \\frac{p}{2} \\log ( 2 \\pi ) -  \\frac{1}{2}   \\log  \\left| \\Sigma_k \\right|  - \\frac{1}{2} (x - \\mu_k)^T  \\Sigma_k^{-1} (x - \\mu_k)   $$\n",
    "\n",
    "$$ + \\frac{p}{2} \\log ( 2 \\pi ) +  \\frac{1}{2}   \\log  \\left| \\Sigma_K \\right|  + \\frac{1}{2} (x - \\mu_K)^T  \\Sigma_K^{-1} (x - \\mu_K)   $$\n",
    "\n",
    "$$  = \\log \\Biggl( \\frac{ \\pi_k  }{ \\pi_K } \\Biggr) -  \\frac{1}{2}   \\log  \\left| \\Sigma_k \\right|  - \\frac{1}{2} (x - \\mu_k)^T  \\Sigma_k^{-1} (x - \\mu_k) +  \\frac{1}{2}   \\log  \\left| \\Sigma_K \\right|  + \\frac{1}{2} (x - \\mu_K)^T  \\Sigma_K^{-1} (x - \\mu_K)  $$\n",
    "\n",
    "$$  = \\log \\Biggl( \\frac{ \\pi_k  }{ \\pi_K } \\Biggr) -  \\frac{1}{2}   \\log  \\left| \\Sigma_k \\right|  +  \\frac{1}{2} \\log  \\left| \\Sigma_K \\right| \\ \\ \\ \\ \\ \\ \\ \\ \\ \\ \\ \\ \\ \\ \\ - \\frac{1}{2} (x - \\mu_k)^T  \\Sigma_k^{-1} (x - \\mu_k) + \\frac{1}{2} (x - \\mu_K)^T  \\Sigma_K^{-1} (x - \\mu_K)  $$\n",
    "\n"
   ]
  },
  {
   "cell_type": "markdown",
   "metadata": {},
   "source": [
    "Start with simplifying a single matrix product\n",
    "\n",
    "$$ (x - \\mu_k)^T  \\Sigma_k^{-1} (x - \\mu_k) $$\n",
    "\n",
    "$$ (x^T - \\mu_k^T) \\Sigma_k^{-1} (x - \\mu_k)  $$\n",
    "\n",
    "$$ x^T \\Sigma_k^{-1} (x - \\mu_k) - \\Bigl[ \\mu_k^T \\Sigma_k^{-1} (x - \\mu_k) \\Bigr] $$\n",
    "\n",
    "$$ x^T \\Sigma_k^{-1} x - x^T \\Sigma_k^{-1} \\mu_k - \\Bigl[ \\mu_k^T \\Sigma_k^{-1} (x - \\mu_k) \\Bigr] $$\n",
    "\n",
    "$$ x^T \\Sigma_k^{-1} x - x^T \\Sigma_k^{-1} \\mu_k - \\Bigl[ \\mu_k^T \\Sigma_k^{-1} x -  \\mu_k^T \\Sigma_k^{-1} \\mu_k \\Bigr] $$\n",
    "\n",
    "$$ x^T \\Sigma_k^{-1} x - x^T \\Sigma_k^{-1} \\mu_k - \\mu_k^T \\Sigma_k^{-1} x + \\mu_k^T \\Sigma_k^{-1} \\mu_k  $$\n",
    "\n",
    "We have\n",
    "\n",
    "$$ x^T \\Sigma_k^{-1} x = \\sum_{i=1}^p \\sum_{l=1}^p c_{k,il} x_i x_l $$\n",
    "\n",
    "$$ \\mu_k^T \\Sigma_k^{-1} \\mu_k = \\sum_{i=1}^p \\sum_{l=1}^p c_{k,il} \\mu_i \\mu_l $$ \n",
    "\n",
    "where $ c_{k,il} $ are the elements of $ \\Sigma^{-1}_k $, and \n",
    "\n",
    "$$ x^T \\Sigma_k^{-1} \\mu_k = \\mu_k^T \\Sigma_k^{-1} x = \\sum_{j=1}^p b'_{k,j} x_j $$ \n",
    "\n",
    "where $ b'_{k,j} $ are the *j* elements of $ \\Sigma^{-1}_k $ $ (j \\times 1) $, and \n",
    "\n",
    "$$  - x^T \\Sigma_k^{-1} \\mu_k - \\mu_k^T \\Sigma_k^{-1} x = - 2 x^T  \\Sigma_k^{-1} \\mu_k = \\sum^p_{j=1} b_{k,j} x_j $$\n",
    "\n",
    "where $ b_{k,j} $ are the *j* elements of $ -2 \\Sigma^{-1}_k $ $ (j \\times 1) $\n",
    "\n",
    "\n",
    "So $ a_k $, the sum of the terms that do not depend on $x$, is\n",
    "\n",
    "$$ a_k = \\log \\Biggl( \\frac{ \\pi_k  }{ \\pi_K } \\Biggr) -  \\frac{1}{2}   \\log  \\left| \\Sigma_k \\right|  +  \\frac{1}{2} \\log  \\left| \\Sigma_K \\right| + \\sum_{i=1}^p \\sum_{l=1}^p c_{k,il} \\mu_i \\mu_l $$\n",
    "\n",
    "\n",
    "\n"
   ]
  },
  {
   "cell_type": "markdown",
   "metadata": {},
   "source": [
    "And using $b_{k,j}$ and $c_{k,jl}$ defined above, the final form is\n",
    "\n",
    "$$ \\log \\Biggl( \\frac{Pr( Y = k | X = x )}{Pr( Y = K | X = x )} \\Biggr) = a_k + \\sum^p_{j=1} b_{kj} x_j + \\sum^p_{j=1} \\sum^p_{l=1} c_{kjl} x_j x_l $$"
   ]
  },
  {
   "cell_type": "markdown",
   "metadata": {},
   "source": [
    "**(12)** Suppose that you wish to classify an observation $ X \\in R $ into `apples` and `oranges`. You fit a logistic regression model and find that\n",
    "\n",
    "$$ \\hat{Pr}(Y = orange | X = x) = \\frac{ \\exp ( \\hat{\\beta}_0 + \\hat{\\beta}_1 x )  }{ 1 +  \\exp ( \\hat{\\beta}_0 + \\hat{\\beta}_1 x )  } $$\n",
    "\n",
    "Your friend fits a logistic regression model to the same data using the *softmax* formulation in (4.13), and finds that\n",
    "\n",
    "$$ \\hat{Pr}(Y = orange | X = x) = \\frac{ \\exp ( \\hat{\\alpha}_{orange,0} + \\hat{\\alpha}_{orange,1}x ) }{ \\exp ( \\hat{\\alpha}_{orange,0} + \\hat{\\alpha}_{orange,1}x )   +    \\exp ( \\hat{\\alpha}_{apple,0} + \\hat{\\alpha}_{apple,1}x )        } $$"
   ]
  },
  {
   "cell_type": "markdown",
   "metadata": {},
   "source": [
    "**(a)** What is the log odds of `orange` versus `apple` in your model?\n",
    "\n",
    "$$  \\frac{   \\hat{Pr}(Y = orange | X = x)   }{   \\hat{Pr}(Y = apple | X = x)   } = \\frac{   \\hat{Pr}(Y = orange | X = x)   }{   1 - \\hat{Pr}(Y = orange | X = x)   } =  \\exp ( \\hat{\\beta}_0 + \\hat{\\beta}_1 x )  $$ \n",
    "\n",
    "$$  \\log \\Biggl( \\frac{   \\hat{Pr}(Y = orange | X = x)   }{   1 - \\hat{Pr}(Y = orange | X = x)   } \\Biggr)  =  \\hat{\\beta}_0 + \\hat{\\beta}_1 x  $$ "
   ]
  },
  {
   "cell_type": "markdown",
   "metadata": {},
   "source": [
    "**(b)** What is the log odds of `orange` versus `apple` in your friend's model?\n",
    "\n",
    "$$  \\frac{   \\hat{Pr}(Y = orange | X = x)   }{   \\hat{Pr}(Y = apple | X = x)   }\n",
    "= \\frac{ \\exp ( \\hat{\\alpha}_{orange,0} + \\hat{\\alpha}_{orange,1}x ) }{ \\exp ( \\hat{\\alpha}_{orange,0} + \\hat{\\alpha}_{orange,1}x )   +    \\exp ( \\hat{\\alpha}_{apple,0} + \\hat{\\alpha}_{apple,1}x ) }\n",
    "\\cdot \\frac{ \\exp ( \\hat{\\alpha}_{orange,0} + \\hat{\\alpha}_{orange,1}x ) + \\exp ( \\hat{\\alpha}_{apple,0} + \\hat{\\alpha}_{apple,1}x ) }{   \\exp ( \\hat{\\alpha}_{apple,0} + \\hat{\\alpha}_{apple,1}x )    } $$\n",
    "\n",
    "$$ \\frac{   \\hat{Pr}(Y = orange | X = x)   }{ \\hat{Pr}(Y = apple | X = x) } = \\frac{ \\exp ( \\hat{\\alpha}_{orange,0} + \\hat{\\alpha}_{orange,1}x ) }  { \\exp ( \\hat{\\alpha}_{apple,0} + \\hat{\\alpha}_{apple,1}x ) } $$\n",
    "\n",
    "$$ \\log \\Biggl( \\frac{  \\hat{Pr}(Y = orange | X = x)   }{ \\hat{Pr}(Y = apple | X = x) } \\Biggr)   =  \\log \\exp ( \\hat{\\alpha}_{orange,0} + \\hat{\\alpha}_{orange,1}x )  - \\log  \\exp ( \\hat{\\alpha}_{apple,0} + \\hat{\\alpha}_{apple,1}x )  $$\n",
    "\n",
    "$$ \\log \\Biggl( \\frac{  \\hat{Pr}(Y = orange | X = x)   }{ \\hat{Pr}(Y = apple | X = x) } \\Biggr)   =  \\hat{\\alpha}_{orange,0} + \\hat{\\alpha}_{orange,1}x  -  \\Bigl( \\hat{\\alpha}_{apple,0} + \\hat{\\alpha}_{apple,1}x  \\Bigr)  $$\n",
    "\n",
    "$$ \\log \\Biggl( \\frac{  \\hat{Pr}(Y = orange | X = x)   }{ \\hat{Pr}(Y = apple | X = x) } \\Biggr)   = \\Bigl( \\hat{\\alpha}_{orange,0} - \\hat{\\alpha}_{apple,0}  \\Bigr)  + \\Bigl(  \\hat{\\alpha}_{orange,1} - \\hat{\\alpha}_{apple,1} \\Bigr) x $$"
   ]
  },
  {
   "cell_type": "markdown",
   "metadata": {},
   "source": [
    "**(c)** Suppose that in your model, $ \\hat{\\beta}_0 = 2 $ and $ \\hat{\\beta}_1 = -1 $. What are the coefficient estimates in your friend’s model? Be as specific as possible.\n",
    "\n",
    "Softmax coding is equivalent to the relative-category coding used traditional multinomial logistic regression. In this case we can't know the exact coefficients in the softmax coding, but we know that the differnce in $\\alpha$ coefficients for `orange` and `apple` are equal to the coefficients in the normal coding.\n",
    "\n",
    "$ \\hat{\\beta}_0 = \\hat{\\alpha}_{orange,0} - \\hat{\\alpha}_{apple,0} = 2 $, so the coefficient for `orange` is larger than that for `apple`.\n",
    "\n",
    "$ \\hat{\\beta}_1 = \\hat{\\alpha}_{orange,1} - \\hat{\\alpha}_{apple,1} = -1 $, so the coefficient for `orange` is smaller than that for `apple`.\n"
   ]
  },
  {
   "cell_type": "markdown",
   "metadata": {},
   "source": [
    "**(d)** Now suppose that you and your friend fit the same two models on a different data set. This time, your friend gets the coefficient estimates $ \\hat{\\alpha}_{orange,0} = 1.2 $, $ \\hat{\\alpha}_{orange,1} = -2 $, $ \\hat{\\alpha}_{apple,0} = 3 $, $ \\hat{\\alpha}_{apple,1} = 0.6 $. What are the coefficient estimates in your model?\n",
    "\n",
    "\n",
    "$  \\hat{\\alpha}_{orange,0} - \\hat{\\alpha}_{apple,0} = \\hat{\\beta}_0 $, so $ 1.2 - 3 = \\hat{\\beta}_0 = -1.8 $\n",
    "\n",
    "$  \\hat{\\alpha}_{orange,1} - \\hat{\\alpha}_{apple,1} = \\hat{\\beta}_1 $, so $ -2 - 0.6 = \\hat{\\beta}_1 = -2.6   $ "
   ]
  },
  {
   "cell_type": "markdown",
   "metadata": {},
   "source": [
    "**(e)** Finally, suppose you apply both models from (d) to a data set with 2,000 test observations. What fraction of the time do you expect the predicted class labels from your model to agree with those from your friend’s model? Explain your answer.\n",
    "\n",
    "They should completely agree, 100% percent of the time, since only the coding format of the categories changes. Properties of prediction and inference should remain the same."
   ]
  }
 ],
 "metadata": {
  "kernelspec": {
   "display_name": "islp",
   "language": "python",
   "name": "python3"
  },
  "language_info": {
   "codemirror_mode": {
    "name": "ipython",
    "version": 3
   },
   "file_extension": ".py",
   "mimetype": "text/x-python",
   "name": "python",
   "nbconvert_exporter": "python",
   "pygments_lexer": "ipython3",
   "version": "3.11.5"
  }
 },
 "nbformat": 4,
 "nbformat_minor": 2
}
