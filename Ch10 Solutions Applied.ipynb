{
 "cells": [
  {
   "cell_type": "markdown",
   "metadata": {},
   "source": [
    "# Chapter 10 - Exercise Solutions - Applied"
   ]
  },
  {
   "cell_type": "code",
   "execution_count": 2,
   "metadata": {},
   "outputs": [],
   "source": [
    "import numpy as np, pandas as pd\n",
    "from matplotlib.pyplot import subplots\n",
    "from sklearn.linear_model import \\\n",
    "     (LinearRegression,\n",
    "      LogisticRegression,\n",
    "      Lasso)\n",
    "from sklearn.preprocessing import StandardScaler\n",
    "from sklearn.model_selection import KFold\n",
    "from sklearn.pipeline import Pipeline\n",
    "from ISLP import load_data\n",
    "from ISLP.models import ModelSpec as MS\n",
    "from ISLP.torch import rec_num_workers\n",
    "# from ISLP.torch import ErrorTracker\n",
    "from sklearn.model_selection import \\\n",
    "     (train_test_split,\n",
    "      GridSearchCV)\n",
    "from sklearn.metrics import mean_squared_error"
   ]
  },
  {
   "cell_type": "code",
   "execution_count": 49,
   "metadata": {},
   "outputs": [],
   "source": [
    "import torch\n",
    "import torchinfo\n",
    "from torch import nn, concat # Added concat\n",
    "from torch.utils.data import TensorDataset\n",
    "from torch.optim import RMSprop\n",
    "from torch.utils.data import DataLoader # Added\n",
    "from torch.utils.data import Dataset # Added\n",
    "from torch.utils.data import random_split # Added\n",
    "from pytorch_lightning.callbacks import Callback # Added\n",
    "from torchmetrics import (MeanAbsoluteError,\n",
    "                          R2Score,\n",
    "                          Accuracy, # Added\n",
    "                          MeanSquaredError) # Added\n",
    "from torchinfo import summary # To summarize models"
   ]
  },
  {
   "cell_type": "code",
   "execution_count": 4,
   "metadata": {},
   "outputs": [],
   "source": [
    "from pytorch_lightning import LightningDataModule # Added\n",
    "from pytorch_lightning import LightningModule # Added\n",
    "from pytorch_lightning.utilities import rank_zero_only # Added\n",
    "from pytorch_lightning.loggers import CSVLogger\n",
    "from pytorch_lightning import Trainer"
   ]
  },
  {
   "cell_type": "code",
   "execution_count": 54,
   "metadata": {},
   "outputs": [],
   "source": [
    "from torchvision.io import read_image\n",
    "# from torchvision.datasets import MNIST, CIFAR100\n",
    "# from torchvision.models import (resnet50, ResNet50_Weights)\n",
    "from torchvision.transforms import (Resize, Normalize, CenterCrop) # ToTensor\n",
    "from torchvision.models import (resnet50, ResNet50_Weights) # Resnet weights\n",
    "from glob import glob\n",
    "import json"
   ]
  },
  {
   "cell_type": "code",
   "execution_count": 5,
   "metadata": {},
   "outputs": [],
   "source": [
    "# staticmethod fromarrays removed\n",
    "class BasicDataModule(LightningDataModule):\n",
    "\n",
    "    def __init__(self, train_dataset, test_dataset, batch_size=32, num_workers=0, persistent_workers=True, validation=None, seed=0):\n",
    "\n",
    "        super(BasicDataModule, self).__init__()\n",
    "\n",
    "        ntrain = len(train_dataset)\n",
    "        if type(validation) == float:\n",
    "            nvalidation = int(validation * len(train_dataset))\n",
    "        elif type(validation) == int:\n",
    "            nvalidation = validation\n",
    "        elif validation is None:\n",
    "            nvalidation = 0\n",
    "\n",
    "        if isinstance(validation, Dataset):\n",
    "            (self.train_dataset, self.validation_dataset) = (train_dataset, validation)\n",
    "        else:\n",
    "            (self.train_dataset, self.validation_dataset) = random_split(train_dataset, [ntrain - nvalidation, nvalidation], generator=Generator().manual_seed(seed))\n",
    "                \n",
    "        self.test_dataset = test_dataset\n",
    "        self.batch_size = batch_size\n",
    "        self.num_workers = num_workers\n",
    "        self.persistent_workers = persistent_workers and num_workers > 0\n",
    "        self.seed = seed\n",
    "        \n",
    "    def train_dataloader(self):\n",
    "        return DataLoader(self.train_dataset, shuffle=True, batch_size=self.batch_size, num_workers=self.num_workers, persistent_workers=self.persistent_workers)\n",
    "\n",
    "    # For validation, test, and predict we load the entire data at once in this simple module. Otherwise metrics get averaged over minibatch\n",
    "\n",
    "    def val_dataloader(self):\n",
    "        return DataLoader(self.validation_dataset, shuffle=False, batch_size=self.batch_size, num_workers=self.num_workers, persistent_workers=self.persistent_workers)\n",
    "\n",
    "    def test_dataloader(self):\n",
    "        return DataLoader(self.test_dataset, batch_size=self.batch_size, num_workers=self.num_workers, persistent_workers=self.persistent_workers)\n",
    "\n",
    "    def predict_dataloader(self):\n",
    "        return DataLoader(self.test_dataset, batch_size=len(self.test_dataset), num_workers=self.num_workers, persistent_workers=self.persistent_workers)\n"
   ]
  },
  {
   "cell_type": "code",
   "execution_count": 6,
   "metadata": {},
   "outputs": [],
   "source": [
    "class BasicModule(LightningModule):\n",
    "\n",
    "    \"\"\"\n",
    "    A simple `pytorch_lightning` module for regression problems.\n",
    "    \"\"\"\n",
    "\n",
    "    def __init__(self, model, loss, optimizer=None, metrics=None, on_epoch=True, pre_process_y_for_metrics=lambda y: y):\n",
    "\n",
    "        super(BasicModule, self).__init__()\n",
    "\n",
    "        self.model = model\n",
    "        self.loss = loss\n",
    "\n",
    "        optimizer = optimizer or RMSprop(model.parameters())\n",
    "        self._optimizer = optimizer\n",
    "        self.metrics = metrics\n",
    "        self.on_epoch = on_epoch\n",
    "        self.pre_process_y_for_metrics = pre_process_y_for_metrics\n",
    "        \n",
    "    def forward(self, x):\n",
    "        return self.model(x)\n",
    "\n",
    "    def training_step(self, batch, batch_idx):\n",
    "        x, y = batch\n",
    "        preds = self.forward(x)\n",
    "        loss = self.loss(preds, y)\n",
    "        self.log(\"train_loss\", loss, on_epoch=self.on_epoch, on_step=False)\n",
    "\n",
    "        y_ = self.pre_process_y_for_metrics(y)\n",
    "        for _metric in self.metrics.keys():\n",
    "            pl_metric = self.metrics[_metric]\n",
    "            self.log(f\"train_{_metric}\", pl_metric(preds.to(pl_metric.device), y_.to(pl_metric.device)), on_epoch=self.on_epoch)\n",
    "        return loss\n",
    "\n",
    "    def test_step(self, batch, batch_idx):\n",
    "        x, y = batch\n",
    "\n",
    "    @rank_zero_only\n",
    "    def validation_step(self, batch, batch_idx):\n",
    "        x, y = batch\n",
    "\n",
    "    def predict_step(self, batch, batch_idx):\n",
    "        x, y = batch\n",
    "        return y, self.forward(x)\n",
    "\n",
    "    def configure_optimizers(self):\n",
    "        return self._optimizer\n",
    "\n",
    "    @staticmethod\n",
    "    def regression(model, metrics=None, device='cpu', **kwargs):\n",
    "\n",
    "        if metrics is None:\n",
    "            metrics = {}\n",
    "\n",
    "        loss = nn.MSELoss().to(device)\n",
    "        if device is not None:\n",
    "            for key, metric in metrics.items():\n",
    "                metrics[key] = metric.to(device)\n",
    "        return BasicModule(model, loss, metrics=metrics, **kwargs)\n",
    "\n",
    "    @staticmethod\n",
    "    def binary_classification(model, metrics=None, device='cpu', **kwargs):\n",
    "\n",
    "        if metrics is None:\n",
    "            metrics = {}\n",
    "\n",
    "        loss = nn.BCEWithLogitsLoss()\n",
    "        if 'accuracy' not in metrics:\n",
    "            metrics['accuracy'] = Accuracy('binary')\n",
    "        if device is not None:\n",
    "            for key, metric in metrics.items():\n",
    "                metrics[key] = metric.to(device)\n",
    "        return BasicModule(model, loss, metrics=metrics, pre_process_y_for_metrics = lambda x: x.int(), **kwargs)\n",
    "\n",
    "    @staticmethod\n",
    "    def classification(model, num_classes, metrics=None, device='cpu', **kwargs):\n",
    "        if metrics is None:\n",
    "            metrics = {}\n",
    "        loss = nn.CrossEntropyLoss().to(device)\n",
    "        if 'accuracy' not in metrics:\n",
    "            metrics['accuracy'] = Accuracy('multiclass', num_classes=num_classes)\n",
    "        if device is not None:\n",
    "            for key, metric in metrics.items():\n",
    "                metrics[key] = metric.to(device)\n",
    "\n",
    "        return BasicModule(model, loss, metrics=metrics, **kwargs)"
   ]
  },
  {
   "cell_type": "code",
   "execution_count": 19,
   "metadata": {},
   "outputs": [],
   "source": [
    "class BasicErrorTracker(Callback):\n",
    "\n",
    "    def on_validation_epoch_start(self, trainer, pl_module):\n",
    "        self.val_preds = []\n",
    "        self.val_targets = []\n",
    "\n",
    "    def on_validation_batch_start(self, trainer, pl_module, batch, batch_idx, dataloader_idx=0):\n",
    "        x, y = batch\n",
    "        self.val_preds.append(pl_module.forward(x))\n",
    "        self.val_targets.append(y)\n",
    "\n",
    "    def on_validation_epoch_end(self, trainer, pl_module):\n",
    "        preds = concat(self.val_preds)\n",
    "        targets = concat(self.val_targets)\n",
    "        targets_ = pl_module.pre_process_y_for_metrics(targets)\n",
    "\n",
    "        loss = pl_module.loss(preds, targets)\n",
    "        pl_module.log(\"valid_loss\", loss, on_epoch=pl_module.on_epoch)\n",
    "\n",
    "        for _metric in pl_module.metrics.keys():\n",
    "            pl_metric = pl_module.metrics[_metric]\n",
    "            pl_module.log(f\"valid_{_metric}\",\n",
    "                          pl_metric(preds.to(pl_metric.device), targets_.to(pl_metric.device)),\n",
    "                          on_epoch=pl_module.on_epoch)\n",
    "\n",
    "    def on_test_epoch_start(self, trainer, pl_module):\n",
    "        self.test_preds = []\n",
    "        self.test_targets = []\n",
    "\n",
    "    def on_test_batch_start(self, trainer, pl_module, batch, batch_idx, dataloader_idx=0):\n",
    "        x, y = batch\n",
    "        self.test_preds.append(pl_module.forward(x))\n",
    "        self.test_targets.append(y)\n",
    "\n",
    "    def on_test_epoch_end(self, trainer, pl_module):\n",
    "        preds = concat(self.test_preds)\n",
    "        targets = concat(self.test_targets)\n",
    "        targets_ = pl_module.pre_process_y_for_metrics(targets)\n",
    "        \n",
    "        loss = pl_module.loss(preds, targets)\n",
    "        pl_module.log(\"test_loss\", loss, on_epoch=pl_module.on_epoch)\n",
    "\n",
    "        for _metric in pl_module.metrics.keys():\n",
    "            pl_metric = pl_module.metrics[_metric]\n",
    "            pl_module.log(f\"test_{_metric}\",\n",
    "                          pl_metric(preds.to(pl_metric.device), targets_.to(pl_metric.device)),\n",
    "                          on_epoch=pl_module.on_epoch)"
   ]
  },
  {
   "cell_type": "markdown",
   "metadata": {},
   "source": [
    "## 6\n",
    "\n",
    "Consider the simple function $ R(\\beta) = sin(\\beta) + \\beta/10 $."
   ]
  },
  {
   "cell_type": "markdown",
   "metadata": {},
   "source": [
    "**(a)** Draw a graph of this function over the range $ \\beta \\in [−6, 6] $.\n"
   ]
  },
  {
   "cell_type": "code",
   "execution_count": 42,
   "metadata": {},
   "outputs": [
    {
     "data": {
      "image/png": "[encoded data removed]",
      "text/plain": [
       "<Figure size 600x400 with 1 Axes>"
      ]
     },
     "metadata": {},
     "output_type": "display_data"
    }
   ],
   "source": [
    "beta_series = np.linspace(-6, 6, 100)\n",
    "R_series = np.sin(beta_series) + beta_series/10\n",
    "\n",
    "fig, ax = subplots(1, 1, figsize=(6,4))\n",
    "ax.plot(beta_series, R_series)\n",
    "ax.set_xlabel(r'$\\beta$')\n",
    "ax.set_ylabel(r'$R(\\beta)$');"
   ]
  },
  {
   "cell_type": "markdown",
   "metadata": {},
   "source": [
    "**(b)** What is the derivative of this function?"
   ]
  },
  {
   "cell_type": "markdown",
   "metadata": {},
   "source": [
    "$$ \\frac{\\partial}{\\partial \\beta} R(\\beta) = \\frac{\\partial}{\\partial \\beta} \\left[ sin(\\beta) + \\beta/10 \\right] $$\n",
    "\n",
    "$$ \\frac{\\partial}{\\partial \\beta} R(\\beta) = cos(\\beta) + 1/10  $$"
   ]
  },
  {
   "cell_type": "markdown",
   "metadata": {},
   "source": [
    "Plot of $R(\\beta)$ and its derivative. We can see that when $R(\\beta)$ slopes downward, its derivative is negative."
   ]
  },
  {
   "cell_type": "code",
   "execution_count": 70,
   "metadata": {},
   "outputs": [
    {
     "data": {
      "image/png": "[encoded data removed]",
      "text/plain": [
       "<Figure size 600x400 with 1 Axes>"
      ]
     },
     "metadata": {},
     "output_type": "display_data"
    }
   ],
   "source": [
    "h = beta_series[1] - beta_series[0]\n",
    "dR_dbeta = np.full_like(beta_series, np.nan)\n",
    "dR_dbeta[1:-1] = (R_series[2:] - R_series[:-2]) / (2*h)\n",
    "\n",
    "fig, ax = subplots(1, 1, figsize=(6,4))\n",
    "ax.plot(beta_series, R_series, label=r'$R(\\beta)$')\n",
    "ax.plot(beta_series, dR_dbeta, label=r'd$R$/d$\\beta$')\n",
    "ax.set_xlabel(r'$\\beta$')\n",
    "ax.legend();"
   ]
  },
  {
   "cell_type": "markdown",
   "metadata": {},
   "source": [
    "**(c)** Given $\\beta_0 = 2.3$, run gradient descent to find a local minimum of $R(\\beta)$ using a learning rate of $\\rho = 0.1$. Show each of $\\beta_0, \\beta_1, ...$ in your plot, as well as the final answer."
   ]
  },
  {
   "cell_type": "markdown",
   "metadata": {},
   "source": [
    "Gradient descent involves updating the parameter $\\beta$ by the gradient of $R(\\beta)$ multiplied by a factor $\\rho$.\n",
    "\n",
    "$$ \\beta^{m+1} \\leftarrow \\beta^{m} + \\rho \\nabla R(\\beta^{m}) $$\n",
    "\n",
    "In this case, $ \\nabla R(\\beta) $ is the simple partial derivative of $R$ with respect to $\\beta$ evlauated at our intitial point $\\beta_0$.\n",
    "\n",
    "$$ \\nabla R(\\beta^{m}) = \\frac{\\partial}{\\partial \\beta} R(\\beta) |_{\\beta=\\beta_0} $$\n",
    "\n",
    "The initial position is $ \\beta_0 = 2.3 $.\n",
    "\n",
    "The first iteration is:\n",
    "\n",
    "$ \\frac{\\partial}{\\partial \\beta} R(\\beta) |_{\\beta_0=2.3} = cos(\\beta_0) + 1/10 = cos(2.3) + 1/10 = -0.66 + 1/10 = -0.56 $\n",
    "\n",
    "$ \\beta_{1} \\leftarrow \\beta_{0} - \\rho \\nabla R(\\beta_{0}) $\n",
    "\n",
    "$ \\beta_{1} \\leftarrow 2.3 - (0.1) (-0.56) $\n",
    "\n",
    "$ \\beta_{1} = 2.24 $"
   ]
  },
  {
   "cell_type": "markdown",
   "metadata": {},
   "source": [
    "Test plot with the first two iterations:"
   ]
  },
  {
   "cell_type": "code",
   "execution_count": 135,
   "metadata": {},
   "outputs": [
    {
     "data": {
      "image/png": "[encoded data removed]",
      "text/plain": [
       "<Figure size 800x400 with 1 Axes>"
      ]
     },
     "metadata": {},
     "output_type": "display_data"
    }
   ],
   "source": [
    "beta_0 = 2.3\n",
    "R_0 = np.sin(beta_0) + beta_0/10\n",
    "\n",
    "beta_1 = 2.24\n",
    "R_1= np.sin(beta_1) + beta_1/10\n",
    "\n",
    "fig, ax = subplots(1, 1, figsize=(8,4))\n",
    "ax.plot(beta_series, R_series, label=r'$R(\\beta)$')\n",
    "ax.plot(beta_0, R_0, 'ro', markersize=2)\n",
    "ax.text(beta_0, R_0 + 0.05, r'$\\beta_0$', fontsize=10, verticalalignment='bottom', horizontalalignment='center')\n",
    "ax.plot(beta_1, R_1, 'ro', markersize=2)\n",
    "ax.text(beta_1, R_1 - 0.05, r'$\\beta_1$', fontsize=10, verticalalignment='top', horizontalalignment='center')\n",
    "ax.set_xlabel(r'$\\beta$')\n",
    "ax.legend();"
   ]
  },
  {
   "cell_type": "markdown",
   "metadata": {},
   "source": [
    "Plot of the full descent series"
   ]
  },
  {
   "cell_type": "code",
   "execution_count": 201,
   "metadata": {},
   "outputs": [
    {
     "data": {
      "text/plain": [
       "42"
      ]
     },
     "execution_count": 201,
     "metadata": {},
     "output_type": "execute_result"
    }
   ],
   "source": [
    "gradient = 10 # Start with an arbitrarily large value\n",
    "beta_list = [2.3]\n",
    "rho = 0.1\n",
    "while abs(gradient) > 0.1:\n",
    "    gradient = np.cos(beta_list[-1]) + 1/10\n",
    "    beta_list.append(beta_list[-1] - rho * gradient)\n",
    "\n",
    "len(beta_list)"
   ]
  },
  {
   "cell_type": "code",
   "execution_count": 203,
   "metadata": {},
   "outputs": [
    {
     "data": {
      "image/png": "[encoded data removed]",
      "text/plain": [
       "<Figure size 800x400 with 1 Axes>"
      ]
     },
     "metadata": {},
     "output_type": "display_data"
    }
   ],
   "source": [
    "beta_array = np.array(beta_list)\n",
    "R_array= np.sin(beta_array) + beta_array/10\n",
    "\n",
    "fig, ax = subplots(1, 1, figsize=(8,4))\n",
    "ax.plot(beta_series, R_series, label=r'$R(\\beta)$')\n",
    "ax.scatter(beta_array, R_array, color='r', marker='.', label='Gradient descent path')\n",
    "ax.plot(beta_array[0], R_array[0], 'ro', markersize=2)\n",
    "ax.text(beta_array[0], R_array[0] + 0.07, r'$\\beta_0$', fontsize=10, verticalalignment='bottom', horizontalalignment='center')\n",
    "ax.plot(beta_array[-1], R_array[-1], 'ro', markersize=2)\n",
    "ax.text(beta_array[-1], R_array[-1] - 0.07, r'$\\beta_{sol}$', fontsize=10, verticalalignment='top', horizontalalignment='center')\n",
    "ax.set_xlabel(r'$\\beta$')\n",
    "ax.set_ylabel(r'$R(\\beta)$')\n",
    "ax.set_title(r'Gradient descent for $\\beta_0$=2.3')\n",
    "ax.legend(loc='upper left');"
   ]
  },
  {
   "cell_type": "markdown",
   "metadata": {},
   "source": [
    "**(d)** Repeat with $\\beta_0 = 1.4$."
   ]
  },
  {
   "cell_type": "code",
   "execution_count": 205,
   "metadata": {},
   "outputs": [
    {
     "data": {
      "text/plain": [
       "52"
      ]
     },
     "execution_count": 205,
     "metadata": {},
     "output_type": "execute_result"
    }
   ],
   "source": [
    "gradient = 10 # Start with an arbitrarily large value\n",
    "beta_list = [1.4]\n",
    "rho = 0.1\n",
    "while abs(gradient) > 0.1:\n",
    "    gradient = np.cos(beta_list[-1]) + 1/10\n",
    "    beta_list.append(beta_list[-1] - rho * gradient)\n",
    "\n",
    "len(beta_list)"
   ]
  },
  {
   "cell_type": "code",
   "execution_count": 206,
   "metadata": {},
   "outputs": [
    {
     "data": {
      "image/png": "[encoded data removed]",
      "text/plain": [
       "<Figure size 800x400 with 1 Axes>"
      ]
     },
     "metadata": {},
     "output_type": "display_data"
    }
   ],
   "source": [
    "beta_array = np.array(beta_list)\n",
    "R_array= np.sin(beta_array) + beta_array/10\n",
    "\n",
    "fig, ax = subplots(1, 1, figsize=(8,4))\n",
    "ax.plot(beta_series, R_series, label=r'$R(\\beta)$')\n",
    "ax.scatter(beta_array, R_array, color='r', marker='.', label='Gradient descent path')\n",
    "ax.plot(beta_array[0], R_array[0], 'ro', markersize=2)\n",
    "ax.text(beta_array[0], R_array[0] - 0.07, r'$\\beta_0$', fontsize=10, verticalalignment='top', horizontalalignment='center')\n",
    "ax.plot(beta_array[-1], R_array[-1], 'ro', markersize=2)\n",
    "ax.text(beta_array[-1], R_array[-1] + 0.07, r'$\\beta_{sol}$', fontsize=10, verticalalignment='bottom', horizontalalignment='center')\n",
    "ax.set_xlabel(r'$\\beta$')\n",
    "ax.set_ylabel(r'$R(\\beta)$')\n",
    "ax.set_title(r'Gradient descent for $\\beta_0$=1.4')\n",
    "ax.legend(loc='upper left');"
   ]
  },
  {
   "cell_type": "markdown",
   "metadata": {},
   "source": [
    "## 7\n",
    "\n",
    "Fit a neural network to the `Default` data. Use a single hidden layer with 10 units, and dropout regularization. Have a look at Labs 10.9.1–10.9.2 for guidance. Compare the classification performance of your model with that of linear logistic regression."
   ]
  },
  {
   "cell_type": "code",
   "execution_count": 7,
   "metadata": {},
   "outputs": [],
   "source": [
    "Default = load_data('Default')\n",
    "Default = pd.get_dummies(Default.iloc[:,0:2]).merge(Default.iloc[:,2:4], left_index=True, right_index=True)"
   ]
  },
  {
   "cell_type": "code",
   "execution_count": 8,
   "metadata": {},
   "outputs": [],
   "source": [
    "Default['intercept'] = 1\n",
    "Default = Default.drop(columns=['default_No', 'student_No'])"
   ]
  },
  {
   "cell_type": "code",
   "execution_count": 9,
   "metadata": {},
   "outputs": [],
   "source": [
    "Y = Default['default_Yes'].to_numpy()\n",
    "X = Default.drop(columns='default_Yes').to_numpy()"
   ]
  },
  {
   "cell_type": "code",
   "execution_count": 10,
   "metadata": {},
   "outputs": [],
   "source": [
    "(X_train, X_test, Y_train, Y_test) = train_test_split(X, Y, test_size=1/3, random_state=1)"
   ]
  },
  {
   "cell_type": "markdown",
   "metadata": {},
   "source": [
    "### Linear Model"
   ]
  },
  {
   "cell_type": "code",
   "execution_count": 11,
   "metadata": {},
   "outputs": [
    {
     "data": {
      "text/plain": [
       "0.026045203197352523"
      ]
     },
     "execution_count": 11,
     "metadata": {},
     "output_type": "execute_result"
    }
   ],
   "source": [
    "Default_lin = LinearRegression().fit(X_train, Y_train)\n",
    "Yhat_test = Default_lin.predict(X_test)\n",
    "mean_squared_error(Y_test, Yhat_test)"
   ]
  },
  {
   "cell_type": "markdown",
   "metadata": {},
   "source": [
    "### Logistic Model"
   ]
  },
  {
   "cell_type": "code",
   "execution_count": 12,
   "metadata": {},
   "outputs": [
    {
     "data": {
      "text/plain": [
       "0.027294541091781643"
      ]
     },
     "execution_count": 12,
     "metadata": {},
     "output_type": "execute_result"
    }
   ],
   "source": [
    "Default_log = LogisticRegression().fit(X_train, Y_train)\n",
    "Yhat_test = Default_log.predict(X_test)\n",
    "mean_squared_error(Y_test, Yhat_test)"
   ]
  },
  {
   "cell_type": "markdown",
   "metadata": {},
   "source": [
    "### Lasso Model"
   ]
  },
  {
   "cell_type": "code",
   "execution_count": 13,
   "metadata": {},
   "outputs": [],
   "source": [
    "scaler = StandardScaler(with_mean=True, with_std=True)\n",
    "lasso = Lasso(warm_start=True, max_iter=30000)"
   ]
  },
  {
   "cell_type": "code",
   "execution_count": 15,
   "metadata": {},
   "outputs": [],
   "source": [
    "X_train_scaled = scaler.fit_transform(X_train)\n",
    "n = X_train_scaled.shape[0]\n",
    "lam_max = np.fabs(X_train_scaled.T.dot(Y_train - Y_train.mean())).max() / n\n",
    "param_grid = {'alpha': np.exp(np.linspace(0, np.log(0.01), 100)) * lam_max}"
   ]
  },
  {
   "cell_type": "code",
   "execution_count": 16,
   "metadata": {},
   "outputs": [],
   "source": [
    "cv = KFold(10, shuffle=True, random_state=1)\n",
    "grid = GridSearchCV(lasso, param_grid, cv=cv, scoring='neg_mean_absolute_error')\n",
    "grid.fit(X_train, Y_train);"
   ]
  },
  {
   "cell_type": "code",
   "execution_count": 17,
   "metadata": {},
   "outputs": [
    {
     "data": {
      "text/plain": [
       "0.026034929072466143"
      ]
     },
     "execution_count": 17,
     "metadata": {},
     "output_type": "execute_result"
    }
   ],
   "source": [
    "trained_lasso = grid.best_estimator_\n",
    "Yhat_test = trained_lasso.predict(X_test)\n",
    "# np.fabs(Yhat_test - Y_test).mean()\n",
    "mean_squared_error(Y_test, Yhat_test)"
   ]
  },
  {
   "cell_type": "markdown",
   "metadata": {},
   "source": [
    "### Single Layer Neural Network"
   ]
  },
  {
   "cell_type": "code",
   "execution_count": 31,
   "metadata": {},
   "outputs": [],
   "source": [
    "class DefaultSingleLayer(nn.Module):\n",
    "\n",
    "    def __init__(self, input_size):\n",
    "        super(DefaultSingleLayer, self).__init__()\n",
    "        self.flatten = nn.Flatten()\n",
    "        self.layer1 = nn.Sequential(\n",
    "            nn.Linear(input_size, 10), # input_size x 10 parameters + 10 (bias)\n",
    "            nn.ReLU(),\n",
    "            nn.Dropout(0.3),\n",
    "            nn.Linear(10, 1)) # 10 parameters + 1 (bias)\n",
    "\n",
    "    def forward(self, x):\n",
    "        x = self.flatten(x)\n",
    "        x = self.layer1(x)\n",
    "        x = torch.flatten(x)\n",
    "        return x"
   ]
  },
  {
   "cell_type": "code",
   "execution_count": 32,
   "metadata": {},
   "outputs": [],
   "source": [
    "Default_nn = DefaultSingleLayer(X.shape[1]) # input_size = 4"
   ]
  },
  {
   "cell_type": "code",
   "execution_count": 33,
   "metadata": {},
   "outputs": [
    {
     "data": {
      "text/plain": [
       "===================================================================================================================\n",
       "Layer (type:depth-idx)                   Input Shape               Output Shape              Param #\n",
       "===================================================================================================================\n",
       "DefaultSingleLayer                       [6666, 4]                 [6666]                    --\n",
       "├─Flatten: 1-1                           [6666, 4]                 [6666, 4]                 --\n",
       "├─Sequential: 1-2                        [6666, 4]                 [6666, 1]                 --\n",
       "│    └─Linear: 2-1                       [6666, 4]                 [6666, 10]                50\n",
       "│    └─ReLU: 2-2                         [6666, 10]                [6666, 10]                --\n",
       "│    └─Dropout: 2-3                      [6666, 10]                [6666, 10]                --\n",
       "│    └─Linear: 2-4                       [6666, 10]                [6666, 1]                 11\n",
       "===================================================================================================================\n",
       "Total params: 61\n",
       "Trainable params: 61\n",
       "Non-trainable params: 0\n",
       "Total mult-adds (Units.MEGABYTES): 0.41\n",
       "===================================================================================================================\n",
       "Input size (MB): 0.11\n",
       "Forward/backward pass size (MB): 0.59\n",
       "Params size (MB): 0.00\n",
       "Estimated Total Size (MB): 0.69\n",
       "==================================================================================================================="
      ]
     },
     "execution_count": 33,
     "metadata": {},
     "output_type": "execute_result"
    }
   ],
   "source": [
    "torchinfo.summary(Default_nn, input_size=X_train.shape, col_names=['input_size', 'output_size', 'num_params'])"
   ]
  },
  {
   "cell_type": "code",
   "execution_count": 34,
   "metadata": {},
   "outputs": [],
   "source": [
    "X_train_t = torch.tensor(X_train.astype(np.float32))\n",
    "Y_train_t = torch.tensor(Y_train.astype(np.float32))\n",
    "Default_train = TensorDataset(X_train_t, Y_train_t)"
   ]
  },
  {
   "cell_type": "code",
   "execution_count": 35,
   "metadata": {},
   "outputs": [],
   "source": [
    "X_test_t = torch.tensor(X_test.astype(np.float32))\n",
    "Y_test_t = torch.tensor(Y_test.astype(np.float32))\n",
    "Default_test = TensorDataset(X_test_t, Y_test_t)"
   ]
  },
  {
   "cell_type": "code",
   "execution_count": 36,
   "metadata": {},
   "outputs": [],
   "source": [
    "max_num_workers = rec_num_workers()"
   ]
  },
  {
   "cell_type": "code",
   "execution_count": 37,
   "metadata": {},
   "outputs": [],
   "source": [
    "Default_DataModule = BasicDataModule(Default_train, Default_test, batch_size=32, num_workers=min(4, max_num_workers), validation=Default_test)"
   ]
  },
  {
   "cell_type": "code",
   "execution_count": 38,
   "metadata": {},
   "outputs": [],
   "source": [
    "# Default_Module = BasicModule.regression(Default_nn, metrics={'mae':MeanAbsoluteError()})\n",
    "Default_Module = BasicModule.regression(Default_nn, metrics={'mse':MeanSquaredError()})"
   ]
  },
  {
   "cell_type": "code",
   "execution_count": 39,
   "metadata": {},
   "outputs": [],
   "source": [
    "Default_logger = CSVLogger('logs', name='DefaultDatasetQ7')"
   ]
  },
  {
   "cell_type": "markdown",
   "metadata": {},
   "source": [
    "Note custom `BasicErrorTracker()` function"
   ]
  },
  {
   "cell_type": "code",
   "execution_count": 40,
   "metadata": {},
   "outputs": [
    {
     "name": "stderr",
     "output_type": "stream",
     "text": [
      "GPU available: True (mps), used: True\n",
      "TPU available: False, using: 0 TPU cores\n",
      "IPU available: False, using: 0 IPUs\n",
      "HPU available: False, using: 0 HPUs\n",
      "\n",
      "  | Name  | Type               | Params\n",
      "---------------------------------------------\n",
      "0 | model | DefaultSingleLayer | 61    \n",
      "1 | loss  | MSELoss            | 0     \n",
      "---------------------------------------------\n",
      "61        Trainable params\n",
      "0         Non-trainable params\n",
      "61        Total params\n",
      "0.000     Total estimated model params size (MB)\n"
     ]
    },
    {
     "name": "stdout",
     "output_type": "stream",
     "text": [
      "Epoch 49: 100%|██████████| 209/209 [00:01<00:00, 166.49it/s, v_num=1]       "
     ]
    },
    {
     "name": "stderr",
     "output_type": "stream",
     "text": [
      "`Trainer.fit` stopped: `max_epochs=50` reached.\n"
     ]
    },
    {
     "name": "stdout",
     "output_type": "stream",
     "text": [
      "Epoch 49: 100%|██████████| 209/209 [00:01<00:00, 165.75it/s, v_num=1]\n"
     ]
    }
   ],
   "source": [
    "Default_Trainer = Trainer(deterministic=True, max_epochs=50, log_every_n_steps=5, logger=Default_logger, callbacks=[BasicErrorTracker()])\n",
    "Default_Trainer.fit(Default_Module, datamodule=Default_DataModule)"
   ]
  },
  {
   "cell_type": "code",
   "execution_count": 41,
   "metadata": {},
   "outputs": [
    {
     "name": "stdout",
     "output_type": "stream",
     "text": [
      "Testing DataLoader 0: 100%|██████████| 105/105 [00:00<00:00, 688.10it/s]\n",
      "────────────────────────────────────────────────────────────────────────────────────────────────────────────────────────\n",
      "       Test metric             DataLoader 0\n",
      "────────────────────────────────────────────────────────────────────────────────────────────────────────────────────────\n",
      "        test_loss          0.029709739610552788\n",
      "        test_mse            0.02970973588526249\n",
      "────────────────────────────────────────────────────────────────────────────────────────────────────────────────────────\n"
     ]
    },
    {
     "data": {
      "text/plain": [
       "[{'test_loss': 0.029709739610552788, 'test_mse': 0.02970973588526249}]"
      ]
     },
     "execution_count": 41,
     "metadata": {},
     "output_type": "execute_result"
    }
   ],
   "source": [
    "Default_Trainer.test(Default_Module, datamodule=Default_DataModule, verbose=True)"
   ]
  },
  {
   "cell_type": "markdown",
   "metadata": {},
   "source": [
    "## 8\n",
    "\n",
    "From your collection of personal photographs, pick 10 images of animals (such as dogs, cats, birds, farm animals, etc.). If the subject does not occupy a reasonable part of the image, then crop the image. Now use a pretrained image classification CNN as in Lab 10.9.4 to predict the class of each of your images, and report the probabilities for the top five predicted classes for each image."
   ]
  },
  {
   "cell_type": "markdown",
   "metadata": {},
   "source": [
    "### Format the imput images\n",
    "\n",
    "Resize, crop, and nomralize (according to ResNet means and standard deviations)"
   ]
  },
  {
   "cell_type": "code",
   "execution_count": 45,
   "metadata": {},
   "outputs": [
    {
     "data": {
      "text/plain": [
       "torch.Size([10, 3, 224, 224])"
      ]
     },
     "execution_count": 45,
     "metadata": {},
     "output_type": "execute_result"
    }
   ],
   "source": [
    "resize = Resize((232,232), antialias=True)\n",
    "crop = CenterCrop(224)\n",
    "normalize = Normalize([0.485,0.456,0.406], [0.229,0.224,0.225])\n",
    "imgfiles = sorted([f for f in glob('images/*')])\n",
    "imgs = torch.stack([torch.div(crop(resize(read_image(f))), 255) for f in imgfiles])\n",
    "imgs = normalize(imgs)\n",
    "imgs.size()"
   ]
  },
  {
   "cell_type": "markdown",
   "metadata": {},
   "source": [
    "### Load the pre-trained weights\n",
    "\n",
    "Proviced by `torchvision.models`"
   ]
  },
  {
   "cell_type": "code",
   "execution_count": 50,
   "metadata": {},
   "outputs": [
    {
     "data": {
      "text/plain": [
       "===================================================================================================================\n",
       "Layer (type:depth-idx)                   Input Shape               Output Shape              Param #\n",
       "===================================================================================================================\n",
       "ResNet                                   [10, 3, 224, 224]         [10, 1000]                --\n",
       "├─Conv2d: 1-1                            [10, 3, 224, 224]         [10, 64, 112, 112]        9,408\n",
       "├─BatchNorm2d: 1-2                       [10, 64, 112, 112]        [10, 64, 112, 112]        128\n",
       "├─ReLU: 1-3                              [10, 64, 112, 112]        [10, 64, 112, 112]        --\n",
       "├─MaxPool2d: 1-4                         [10, 64, 112, 112]        [10, 64, 56, 56]          --\n",
       "├─Sequential: 1-5                        [10, 64, 56, 56]          [10, 256, 56, 56]         --\n",
       "│    └─Bottleneck: 2-1                   [10, 64, 56, 56]          [10, 256, 56, 56]         --\n",
       "│    │    └─Conv2d: 3-1                  [10, 64, 56, 56]          [10, 64, 56, 56]          4,096\n",
       "│    │    └─BatchNorm2d: 3-2             [10, 64, 56, 56]          [10, 64, 56, 56]          128\n",
       "│    │    └─ReLU: 3-3                    [10, 64, 56, 56]          [10, 64, 56, 56]          --\n",
       "│    │    └─Conv2d: 3-4                  [10, 64, 56, 56]          [10, 64, 56, 56]          36,864\n",
       "│    │    └─BatchNorm2d: 3-5             [10, 64, 56, 56]          [10, 64, 56, 56]          128\n",
       "│    │    └─ReLU: 3-6                    [10, 64, 56, 56]          [10, 64, 56, 56]          --\n",
       "│    │    └─Conv2d: 3-7                  [10, 64, 56, 56]          [10, 256, 56, 56]         16,384\n",
       "│    │    └─BatchNorm2d: 3-8             [10, 256, 56, 56]         [10, 256, 56, 56]         512\n",
       "│    │    └─Sequential: 3-9              [10, 64, 56, 56]          [10, 256, 56, 56]         16,896\n",
       "│    │    └─ReLU: 3-10                   [10, 256, 56, 56]         [10, 256, 56, 56]         --\n",
       "│    └─Bottleneck: 2-2                   [10, 256, 56, 56]         [10, 256, 56, 56]         --\n",
       "│    │    └─Conv2d: 3-11                 [10, 256, 56, 56]         [10, 64, 56, 56]          16,384\n",
       "│    │    └─BatchNorm2d: 3-12            [10, 64, 56, 56]          [10, 64, 56, 56]          128\n",
       "│    │    └─ReLU: 3-13                   [10, 64, 56, 56]          [10, 64, 56, 56]          --\n",
       "│    │    └─Conv2d: 3-14                 [10, 64, 56, 56]          [10, 64, 56, 56]          36,864\n",
       "│    │    └─BatchNorm2d: 3-15            [10, 64, 56, 56]          [10, 64, 56, 56]          128\n",
       "│    │    └─ReLU: 3-16                   [10, 64, 56, 56]          [10, 64, 56, 56]          --\n",
       "│    │    └─Conv2d: 3-17                 [10, 64, 56, 56]          [10, 256, 56, 56]         16,384\n",
       "│    │    └─BatchNorm2d: 3-18            [10, 256, 56, 56]         [10, 256, 56, 56]         512\n",
       "│    │    └─ReLU: 3-19                   [10, 256, 56, 56]         [10, 256, 56, 56]         --\n",
       "│    └─Bottleneck: 2-3                   [10, 256, 56, 56]         [10, 256, 56, 56]         --\n",
       "│    │    └─Conv2d: 3-20                 [10, 256, 56, 56]         [10, 64, 56, 56]          16,384\n",
       "│    │    └─BatchNorm2d: 3-21            [10, 64, 56, 56]          [10, 64, 56, 56]          128\n",
       "│    │    └─ReLU: 3-22                   [10, 64, 56, 56]          [10, 64, 56, 56]          --\n",
       "│    │    └─Conv2d: 3-23                 [10, 64, 56, 56]          [10, 64, 56, 56]          36,864\n",
       "│    │    └─BatchNorm2d: 3-24            [10, 64, 56, 56]          [10, 64, 56, 56]          128\n",
       "│    │    └─ReLU: 3-25                   [10, 64, 56, 56]          [10, 64, 56, 56]          --\n",
       "│    │    └─Conv2d: 3-26                 [10, 64, 56, 56]          [10, 256, 56, 56]         16,384\n",
       "│    │    └─BatchNorm2d: 3-27            [10, 256, 56, 56]         [10, 256, 56, 56]         512\n",
       "│    │    └─ReLU: 3-28                   [10, 256, 56, 56]         [10, 256, 56, 56]         --\n",
       "├─Sequential: 1-6                        [10, 256, 56, 56]         [10, 512, 28, 28]         --\n",
       "│    └─Bottleneck: 2-4                   [10, 256, 56, 56]         [10, 512, 28, 28]         --\n",
       "│    │    └─Conv2d: 3-29                 [10, 256, 56, 56]         [10, 128, 56, 56]         32,768\n",
       "│    │    └─BatchNorm2d: 3-30            [10, 128, 56, 56]         [10, 128, 56, 56]         256\n",
       "│    │    └─ReLU: 3-31                   [10, 128, 56, 56]         [10, 128, 56, 56]         --\n",
       "│    │    └─Conv2d: 3-32                 [10, 128, 56, 56]         [10, 128, 28, 28]         147,456\n",
       "│    │    └─BatchNorm2d: 3-33            [10, 128, 28, 28]         [10, 128, 28, 28]         256\n",
       "│    │    └─ReLU: 3-34                   [10, 128, 28, 28]         [10, 128, 28, 28]         --\n",
       "│    │    └─Conv2d: 3-35                 [10, 128, 28, 28]         [10, 512, 28, 28]         65,536\n",
       "│    │    └─BatchNorm2d: 3-36            [10, 512, 28, 28]         [10, 512, 28, 28]         1,024\n",
       "│    │    └─Sequential: 3-37             [10, 256, 56, 56]         [10, 512, 28, 28]         132,096\n",
       "│    │    └─ReLU: 3-38                   [10, 512, 28, 28]         [10, 512, 28, 28]         --\n",
       "│    └─Bottleneck: 2-5                   [10, 512, 28, 28]         [10, 512, 28, 28]         --\n",
       "│    │    └─Conv2d: 3-39                 [10, 512, 28, 28]         [10, 128, 28, 28]         65,536\n",
       "│    │    └─BatchNorm2d: 3-40            [10, 128, 28, 28]         [10, 128, 28, 28]         256\n",
       "│    │    └─ReLU: 3-41                   [10, 128, 28, 28]         [10, 128, 28, 28]         --\n",
       "│    │    └─Conv2d: 3-42                 [10, 128, 28, 28]         [10, 128, 28, 28]         147,456\n",
       "│    │    └─BatchNorm2d: 3-43            [10, 128, 28, 28]         [10, 128, 28, 28]         256\n",
       "│    │    └─ReLU: 3-44                   [10, 128, 28, 28]         [10, 128, 28, 28]         --\n",
       "│    │    └─Conv2d: 3-45                 [10, 128, 28, 28]         [10, 512, 28, 28]         65,536\n",
       "│    │    └─BatchNorm2d: 3-46            [10, 512, 28, 28]         [10, 512, 28, 28]         1,024\n",
       "│    │    └─ReLU: 3-47                   [10, 512, 28, 28]         [10, 512, 28, 28]         --\n",
       "│    └─Bottleneck: 2-6                   [10, 512, 28, 28]         [10, 512, 28, 28]         --\n",
       "│    │    └─Conv2d: 3-48                 [10, 512, 28, 28]         [10, 128, 28, 28]         65,536\n",
       "│    │    └─BatchNorm2d: 3-49            [10, 128, 28, 28]         [10, 128, 28, 28]         256\n",
       "│    │    └─ReLU: 3-50                   [10, 128, 28, 28]         [10, 128, 28, 28]         --\n",
       "│    │    └─Conv2d: 3-51                 [10, 128, 28, 28]         [10, 128, 28, 28]         147,456\n",
       "│    │    └─BatchNorm2d: 3-52            [10, 128, 28, 28]         [10, 128, 28, 28]         256\n",
       "│    │    └─ReLU: 3-53                   [10, 128, 28, 28]         [10, 128, 28, 28]         --\n",
       "│    │    └─Conv2d: 3-54                 [10, 128, 28, 28]         [10, 512, 28, 28]         65,536\n",
       "│    │    └─BatchNorm2d: 3-55            [10, 512, 28, 28]         [10, 512, 28, 28]         1,024\n",
       "│    │    └─ReLU: 3-56                   [10, 512, 28, 28]         [10, 512, 28, 28]         --\n",
       "│    └─Bottleneck: 2-7                   [10, 512, 28, 28]         [10, 512, 28, 28]         --\n",
       "│    │    └─Conv2d: 3-57                 [10, 512, 28, 28]         [10, 128, 28, 28]         65,536\n",
       "│    │    └─BatchNorm2d: 3-58            [10, 128, 28, 28]         [10, 128, 28, 28]         256\n",
       "│    │    └─ReLU: 3-59                   [10, 128, 28, 28]         [10, 128, 28, 28]         --\n",
       "│    │    └─Conv2d: 3-60                 [10, 128, 28, 28]         [10, 128, 28, 28]         147,456\n",
       "│    │    └─BatchNorm2d: 3-61            [10, 128, 28, 28]         [10, 128, 28, 28]         256\n",
       "│    │    └─ReLU: 3-62                   [10, 128, 28, 28]         [10, 128, 28, 28]         --\n",
       "│    │    └─Conv2d: 3-63                 [10, 128, 28, 28]         [10, 512, 28, 28]         65,536\n",
       "│    │    └─BatchNorm2d: 3-64            [10, 512, 28, 28]         [10, 512, 28, 28]         1,024\n",
       "│    │    └─ReLU: 3-65                   [10, 512, 28, 28]         [10, 512, 28, 28]         --\n",
       "├─Sequential: 1-7                        [10, 512, 28, 28]         [10, 1024, 14, 14]        --\n",
       "│    └─Bottleneck: 2-8                   [10, 512, 28, 28]         [10, 1024, 14, 14]        --\n",
       "│    │    └─Conv2d: 3-66                 [10, 512, 28, 28]         [10, 256, 28, 28]         131,072\n",
       "│    │    └─BatchNorm2d: 3-67            [10, 256, 28, 28]         [10, 256, 28, 28]         512\n",
       "│    │    └─ReLU: 3-68                   [10, 256, 28, 28]         [10, 256, 28, 28]         --\n",
       "│    │    └─Conv2d: 3-69                 [10, 256, 28, 28]         [10, 256, 14, 14]         589,824\n",
       "│    │    └─BatchNorm2d: 3-70            [10, 256, 14, 14]         [10, 256, 14, 14]         512\n",
       "│    │    └─ReLU: 3-71                   [10, 256, 14, 14]         [10, 256, 14, 14]         --\n",
       "│    │    └─Conv2d: 3-72                 [10, 256, 14, 14]         [10, 1024, 14, 14]        262,144\n",
       "│    │    └─BatchNorm2d: 3-73            [10, 1024, 14, 14]        [10, 1024, 14, 14]        2,048\n",
       "│    │    └─Sequential: 3-74             [10, 512, 28, 28]         [10, 1024, 14, 14]        526,336\n",
       "│    │    └─ReLU: 3-75                   [10, 1024, 14, 14]        [10, 1024, 14, 14]        --\n",
       "│    └─Bottleneck: 2-9                   [10, 1024, 14, 14]        [10, 1024, 14, 14]        --\n",
       "│    │    └─Conv2d: 3-76                 [10, 1024, 14, 14]        [10, 256, 14, 14]         262,144\n",
       "│    │    └─BatchNorm2d: 3-77            [10, 256, 14, 14]         [10, 256, 14, 14]         512\n",
       "│    │    └─ReLU: 3-78                   [10, 256, 14, 14]         [10, 256, 14, 14]         --\n",
       "│    │    └─Conv2d: 3-79                 [10, 256, 14, 14]         [10, 256, 14, 14]         589,824\n",
       "│    │    └─BatchNorm2d: 3-80            [10, 256, 14, 14]         [10, 256, 14, 14]         512\n",
       "│    │    └─ReLU: 3-81                   [10, 256, 14, 14]         [10, 256, 14, 14]         --\n",
       "│    │    └─Conv2d: 3-82                 [10, 256, 14, 14]         [10, 1024, 14, 14]        262,144\n",
       "│    │    └─BatchNorm2d: 3-83            [10, 1024, 14, 14]        [10, 1024, 14, 14]        2,048\n",
       "│    │    └─ReLU: 3-84                   [10, 1024, 14, 14]        [10, 1024, 14, 14]        --\n",
       "│    └─Bottleneck: 2-10                  [10, 1024, 14, 14]        [10, 1024, 14, 14]        --\n",
       "│    │    └─Conv2d: 3-85                 [10, 1024, 14, 14]        [10, 256, 14, 14]         262,144\n",
       "│    │    └─BatchNorm2d: 3-86            [10, 256, 14, 14]         [10, 256, 14, 14]         512\n",
       "│    │    └─ReLU: 3-87                   [10, 256, 14, 14]         [10, 256, 14, 14]         --\n",
       "│    │    └─Conv2d: 3-88                 [10, 256, 14, 14]         [10, 256, 14, 14]         589,824\n",
       "│    │    └─BatchNorm2d: 3-89            [10, 256, 14, 14]         [10, 256, 14, 14]         512\n",
       "│    │    └─ReLU: 3-90                   [10, 256, 14, 14]         [10, 256, 14, 14]         --\n",
       "│    │    └─Conv2d: 3-91                 [10, 256, 14, 14]         [10, 1024, 14, 14]        262,144\n",
       "│    │    └─BatchNorm2d: 3-92            [10, 1024, 14, 14]        [10, 1024, 14, 14]        2,048\n",
       "│    │    └─ReLU: 3-93                   [10, 1024, 14, 14]        [10, 1024, 14, 14]        --\n",
       "│    └─Bottleneck: 2-11                  [10, 1024, 14, 14]        [10, 1024, 14, 14]        --\n",
       "│    │    └─Conv2d: 3-94                 [10, 1024, 14, 14]        [10, 256, 14, 14]         262,144\n",
       "│    │    └─BatchNorm2d: 3-95            [10, 256, 14, 14]         [10, 256, 14, 14]         512\n",
       "│    │    └─ReLU: 3-96                   [10, 256, 14, 14]         [10, 256, 14, 14]         --\n",
       "│    │    └─Conv2d: 3-97                 [10, 256, 14, 14]         [10, 256, 14, 14]         589,824\n",
       "│    │    └─BatchNorm2d: 3-98            [10, 256, 14, 14]         [10, 256, 14, 14]         512\n",
       "│    │    └─ReLU: 3-99                   [10, 256, 14, 14]         [10, 256, 14, 14]         --\n",
       "│    │    └─Conv2d: 3-100                [10, 256, 14, 14]         [10, 1024, 14, 14]        262,144\n",
       "│    │    └─BatchNorm2d: 3-101           [10, 1024, 14, 14]        [10, 1024, 14, 14]        2,048\n",
       "│    │    └─ReLU: 3-102                  [10, 1024, 14, 14]        [10, 1024, 14, 14]        --\n",
       "│    └─Bottleneck: 2-12                  [10, 1024, 14, 14]        [10, 1024, 14, 14]        --\n",
       "│    │    └─Conv2d: 3-103                [10, 1024, 14, 14]        [10, 256, 14, 14]         262,144\n",
       "│    │    └─BatchNorm2d: 3-104           [10, 256, 14, 14]         [10, 256, 14, 14]         512\n",
       "│    │    └─ReLU: 3-105                  [10, 256, 14, 14]         [10, 256, 14, 14]         --\n",
       "│    │    └─Conv2d: 3-106                [10, 256, 14, 14]         [10, 256, 14, 14]         589,824\n",
       "│    │    └─BatchNorm2d: 3-107           [10, 256, 14, 14]         [10, 256, 14, 14]         512\n",
       "│    │    └─ReLU: 3-108                  [10, 256, 14, 14]         [10, 256, 14, 14]         --\n",
       "│    │    └─Conv2d: 3-109                [10, 256, 14, 14]         [10, 1024, 14, 14]        262,144\n",
       "│    │    └─BatchNorm2d: 3-110           [10, 1024, 14, 14]        [10, 1024, 14, 14]        2,048\n",
       "│    │    └─ReLU: 3-111                  [10, 1024, 14, 14]        [10, 1024, 14, 14]        --\n",
       "│    └─Bottleneck: 2-13                  [10, 1024, 14, 14]        [10, 1024, 14, 14]        --\n",
       "│    │    └─Conv2d: 3-112                [10, 1024, 14, 14]        [10, 256, 14, 14]         262,144\n",
       "│    │    └─BatchNorm2d: 3-113           [10, 256, 14, 14]         [10, 256, 14, 14]         512\n",
       "│    │    └─ReLU: 3-114                  [10, 256, 14, 14]         [10, 256, 14, 14]         --\n",
       "│    │    └─Conv2d: 3-115                [10, 256, 14, 14]         [10, 256, 14, 14]         589,824\n",
       "│    │    └─BatchNorm2d: 3-116           [10, 256, 14, 14]         [10, 256, 14, 14]         512\n",
       "│    │    └─ReLU: 3-117                  [10, 256, 14, 14]         [10, 256, 14, 14]         --\n",
       "│    │    └─Conv2d: 3-118                [10, 256, 14, 14]         [10, 1024, 14, 14]        262,144\n",
       "│    │    └─BatchNorm2d: 3-119           [10, 1024, 14, 14]        [10, 1024, 14, 14]        2,048\n",
       "│    │    └─ReLU: 3-120                  [10, 1024, 14, 14]        [10, 1024, 14, 14]        --\n",
       "├─Sequential: 1-8                        [10, 1024, 14, 14]        [10, 2048, 7, 7]          --\n",
       "│    └─Bottleneck: 2-14                  [10, 1024, 14, 14]        [10, 2048, 7, 7]          --\n",
       "│    │    └─Conv2d: 3-121                [10, 1024, 14, 14]        [10, 512, 14, 14]         524,288\n",
       "│    │    └─BatchNorm2d: 3-122           [10, 512, 14, 14]         [10, 512, 14, 14]         1,024\n",
       "│    │    └─ReLU: 3-123                  [10, 512, 14, 14]         [10, 512, 14, 14]         --\n",
       "│    │    └─Conv2d: 3-124                [10, 512, 14, 14]         [10, 512, 7, 7]           2,359,296\n",
       "│    │    └─BatchNorm2d: 3-125           [10, 512, 7, 7]           [10, 512, 7, 7]           1,024\n",
       "│    │    └─ReLU: 3-126                  [10, 512, 7, 7]           [10, 512, 7, 7]           --\n",
       "│    │    └─Conv2d: 3-127                [10, 512, 7, 7]           [10, 2048, 7, 7]          1,048,576\n",
       "│    │    └─BatchNorm2d: 3-128           [10, 2048, 7, 7]          [10, 2048, 7, 7]          4,096\n",
       "│    │    └─Sequential: 3-129            [10, 1024, 14, 14]        [10, 2048, 7, 7]          2,101,248\n",
       "│    │    └─ReLU: 3-130                  [10, 2048, 7, 7]          [10, 2048, 7, 7]          --\n",
       "│    └─Bottleneck: 2-15                  [10, 2048, 7, 7]          [10, 2048, 7, 7]          --\n",
       "│    │    └─Conv2d: 3-131                [10, 2048, 7, 7]          [10, 512, 7, 7]           1,048,576\n",
       "│    │    └─BatchNorm2d: 3-132           [10, 512, 7, 7]           [10, 512, 7, 7]           1,024\n",
       "│    │    └─ReLU: 3-133                  [10, 512, 7, 7]           [10, 512, 7, 7]           --\n",
       "│    │    └─Conv2d: 3-134                [10, 512, 7, 7]           [10, 512, 7, 7]           2,359,296\n",
       "│    │    └─BatchNorm2d: 3-135           [10, 512, 7, 7]           [10, 512, 7, 7]           1,024\n",
       "│    │    └─ReLU: 3-136                  [10, 512, 7, 7]           [10, 512, 7, 7]           --\n",
       "│    │    └─Conv2d: 3-137                [10, 512, 7, 7]           [10, 2048, 7, 7]          1,048,576\n",
       "│    │    └─BatchNorm2d: 3-138           [10, 2048, 7, 7]          [10, 2048, 7, 7]          4,096\n",
       "│    │    └─ReLU: 3-139                  [10, 2048, 7, 7]          [10, 2048, 7, 7]          --\n",
       "│    └─Bottleneck: 2-16                  [10, 2048, 7, 7]          [10, 2048, 7, 7]          --\n",
       "│    │    └─Conv2d: 3-140                [10, 2048, 7, 7]          [10, 512, 7, 7]           1,048,576\n",
       "│    │    └─BatchNorm2d: 3-141           [10, 512, 7, 7]           [10, 512, 7, 7]           1,024\n",
       "│    │    └─ReLU: 3-142                  [10, 512, 7, 7]           [10, 512, 7, 7]           --\n",
       "│    │    └─Conv2d: 3-143                [10, 512, 7, 7]           [10, 512, 7, 7]           2,359,296\n",
       "│    │    └─BatchNorm2d: 3-144           [10, 512, 7, 7]           [10, 512, 7, 7]           1,024\n",
       "│    │    └─ReLU: 3-145                  [10, 512, 7, 7]           [10, 512, 7, 7]           --\n",
       "│    │    └─Conv2d: 3-146                [10, 512, 7, 7]           [10, 2048, 7, 7]          1,048,576\n",
       "│    │    └─BatchNorm2d: 3-147           [10, 2048, 7, 7]          [10, 2048, 7, 7]          4,096\n",
       "│    │    └─ReLU: 3-148                  [10, 2048, 7, 7]          [10, 2048, 7, 7]          --\n",
       "├─AdaptiveAvgPool2d: 1-9                 [10, 2048, 7, 7]          [10, 2048, 1, 1]          --\n",
       "├─Linear: 1-10                           [10, 2048]                [10, 1000]                2,049,000\n",
       "===================================================================================================================\n",
       "Total params: 25,557,032\n",
       "Trainable params: 25,557,032\n",
       "Non-trainable params: 0\n",
       "Total mult-adds (Units.GIGABYTES): 40.89\n",
       "===================================================================================================================\n",
       "Input size (MB): 6.02\n",
       "Forward/backward pass size (MB): 1778.32\n",
       "Params size (MB): 102.23\n",
       "Estimated Total Size (MB): 1886.57\n",
       "==================================================================================================================="
      ]
     },
     "execution_count": 50,
     "metadata": {},
     "output_type": "execute_result"
    }
   ],
   "source": [
    "resnet_model = resnet50(weights=ResNet50_Weights.DEFAULT)\n",
    "summary(resnet_model, input_data=imgs, col_names=['input_size', 'output_size', 'num_params']) "
   ]
  },
  {
   "cell_type": "code",
   "execution_count": 51,
   "metadata": {},
   "outputs": [
    {
     "data": {
      "text/plain": [
       "ResNet(\n",
       "  (conv1): Conv2d(3, 64, kernel_size=(7, 7), stride=(2, 2), padding=(3, 3), bias=False)\n",
       "  (bn1): BatchNorm2d(64, eps=1e-05, momentum=0.1, affine=True, track_running_stats=True)\n",
       "  (relu): ReLU(inplace=True)\n",
       "  (maxpool): MaxPool2d(kernel_size=3, stride=2, padding=1, dilation=1, ceil_mode=False)\n",
       "  (layer1): Sequential(\n",
       "    (0): Bottleneck(\n",
       "      (conv1): Conv2d(64, 64, kernel_size=(1, 1), stride=(1, 1), bias=False)\n",
       "      (bn1): BatchNorm2d(64, eps=1e-05, momentum=0.1, affine=True, track_running_stats=True)\n",
       "      (conv2): Conv2d(64, 64, kernel_size=(3, 3), stride=(1, 1), padding=(1, 1), bias=False)\n",
       "      (bn2): BatchNorm2d(64, eps=1e-05, momentum=0.1, affine=True, track_running_stats=True)\n",
       "      (conv3): Conv2d(64, 256, kernel_size=(1, 1), stride=(1, 1), bias=False)\n",
       "      (bn3): BatchNorm2d(256, eps=1e-05, momentum=0.1, affine=True, track_running_stats=True)\n",
       "      (relu): ReLU(inplace=True)\n",
       "      (downsample): Sequential(\n",
       "        (0): Conv2d(64, 256, kernel_size=(1, 1), stride=(1, 1), bias=False)\n",
       "        (1): BatchNorm2d(256, eps=1e-05, momentum=0.1, affine=True, track_running_stats=True)\n",
       "      )\n",
       "    )\n",
       "    (1): Bottleneck(\n",
       "      (conv1): Conv2d(256, 64, kernel_size=(1, 1), stride=(1, 1), bias=False)\n",
       "      (bn1): BatchNorm2d(64, eps=1e-05, momentum=0.1, affine=True, track_running_stats=True)\n",
       "      (conv2): Conv2d(64, 64, kernel_size=(3, 3), stride=(1, 1), padding=(1, 1), bias=False)\n",
       "      (bn2): BatchNorm2d(64, eps=1e-05, momentum=0.1, affine=True, track_running_stats=True)\n",
       "      (conv3): Conv2d(64, 256, kernel_size=(1, 1), stride=(1, 1), bias=False)\n",
       "      (bn3): BatchNorm2d(256, eps=1e-05, momentum=0.1, affine=True, track_running_stats=True)\n",
       "      (relu): ReLU(inplace=True)\n",
       "    )\n",
       "    (2): Bottleneck(\n",
       "      (conv1): Conv2d(256, 64, kernel_size=(1, 1), stride=(1, 1), bias=False)\n",
       "      (bn1): BatchNorm2d(64, eps=1e-05, momentum=0.1, affine=True, track_running_stats=True)\n",
       "      (conv2): Conv2d(64, 64, kernel_size=(3, 3), stride=(1, 1), padding=(1, 1), bias=False)\n",
       "      (bn2): BatchNorm2d(64, eps=1e-05, momentum=0.1, affine=True, track_running_stats=True)\n",
       "      (conv3): Conv2d(64, 256, kernel_size=(1, 1), stride=(1, 1), bias=False)\n",
       "      (bn3): BatchNorm2d(256, eps=1e-05, momentum=0.1, affine=True, track_running_stats=True)\n",
       "      (relu): ReLU(inplace=True)\n",
       "    )\n",
       "  )\n",
       "  (layer2): Sequential(\n",
       "    (0): Bottleneck(\n",
       "      (conv1): Conv2d(256, 128, kernel_size=(1, 1), stride=(1, 1), bias=False)\n",
       "      (bn1): BatchNorm2d(128, eps=1e-05, momentum=0.1, affine=True, track_running_stats=True)\n",
       "      (conv2): Conv2d(128, 128, kernel_size=(3, 3), stride=(2, 2), padding=(1, 1), bias=False)\n",
       "      (bn2): BatchNorm2d(128, eps=1e-05, momentum=0.1, affine=True, track_running_stats=True)\n",
       "      (conv3): Conv2d(128, 512, kernel_size=(1, 1), stride=(1, 1), bias=False)\n",
       "      (bn3): BatchNorm2d(512, eps=1e-05, momentum=0.1, affine=True, track_running_stats=True)\n",
       "      (relu): ReLU(inplace=True)\n",
       "      (downsample): Sequential(\n",
       "        (0): Conv2d(256, 512, kernel_size=(1, 1), stride=(2, 2), bias=False)\n",
       "        (1): BatchNorm2d(512, eps=1e-05, momentum=0.1, affine=True, track_running_stats=True)\n",
       "      )\n",
       "    )\n",
       "    (1): Bottleneck(\n",
       "      (conv1): Conv2d(512, 128, kernel_size=(1, 1), stride=(1, 1), bias=False)\n",
       "      (bn1): BatchNorm2d(128, eps=1e-05, momentum=0.1, affine=True, track_running_stats=True)\n",
       "      (conv2): Conv2d(128, 128, kernel_size=(3, 3), stride=(1, 1), padding=(1, 1), bias=False)\n",
       "      (bn2): BatchNorm2d(128, eps=1e-05, momentum=0.1, affine=True, track_running_stats=True)\n",
       "      (conv3): Conv2d(128, 512, kernel_size=(1, 1), stride=(1, 1), bias=False)\n",
       "      (bn3): BatchNorm2d(512, eps=1e-05, momentum=0.1, affine=True, track_running_stats=True)\n",
       "      (relu): ReLU(inplace=True)\n",
       "    )\n",
       "    (2): Bottleneck(\n",
       "      (conv1): Conv2d(512, 128, kernel_size=(1, 1), stride=(1, 1), bias=False)\n",
       "      (bn1): BatchNorm2d(128, eps=1e-05, momentum=0.1, affine=True, track_running_stats=True)\n",
       "      (conv2): Conv2d(128, 128, kernel_size=(3, 3), stride=(1, 1), padding=(1, 1), bias=False)\n",
       "      (bn2): BatchNorm2d(128, eps=1e-05, momentum=0.1, affine=True, track_running_stats=True)\n",
       "      (conv3): Conv2d(128, 512, kernel_size=(1, 1), stride=(1, 1), bias=False)\n",
       "      (bn3): BatchNorm2d(512, eps=1e-05, momentum=0.1, affine=True, track_running_stats=True)\n",
       "      (relu): ReLU(inplace=True)\n",
       "    )\n",
       "    (3): Bottleneck(\n",
       "      (conv1): Conv2d(512, 128, kernel_size=(1, 1), stride=(1, 1), bias=False)\n",
       "      (bn1): BatchNorm2d(128, eps=1e-05, momentum=0.1, affine=True, track_running_stats=True)\n",
       "      (conv2): Conv2d(128, 128, kernel_size=(3, 3), stride=(1, 1), padding=(1, 1), bias=False)\n",
       "      (bn2): BatchNorm2d(128, eps=1e-05, momentum=0.1, affine=True, track_running_stats=True)\n",
       "      (conv3): Conv2d(128, 512, kernel_size=(1, 1), stride=(1, 1), bias=False)\n",
       "      (bn3): BatchNorm2d(512, eps=1e-05, momentum=0.1, affine=True, track_running_stats=True)\n",
       "      (relu): ReLU(inplace=True)\n",
       "    )\n",
       "  )\n",
       "  (layer3): Sequential(\n",
       "    (0): Bottleneck(\n",
       "      (conv1): Conv2d(512, 256, kernel_size=(1, 1), stride=(1, 1), bias=False)\n",
       "      (bn1): BatchNorm2d(256, eps=1e-05, momentum=0.1, affine=True, track_running_stats=True)\n",
       "      (conv2): Conv2d(256, 256, kernel_size=(3, 3), stride=(2, 2), padding=(1, 1), bias=False)\n",
       "      (bn2): BatchNorm2d(256, eps=1e-05, momentum=0.1, affine=True, track_running_stats=True)\n",
       "      (conv3): Conv2d(256, 1024, kernel_size=(1, 1), stride=(1, 1), bias=False)\n",
       "      (bn3): BatchNorm2d(1024, eps=1e-05, momentum=0.1, affine=True, track_running_stats=True)\n",
       "      (relu): ReLU(inplace=True)\n",
       "      (downsample): Sequential(\n",
       "        (0): Conv2d(512, 1024, kernel_size=(1, 1), stride=(2, 2), bias=False)\n",
       "        (1): BatchNorm2d(1024, eps=1e-05, momentum=0.1, affine=True, track_running_stats=True)\n",
       "      )\n",
       "    )\n",
       "    (1): Bottleneck(\n",
       "      (conv1): Conv2d(1024, 256, kernel_size=(1, 1), stride=(1, 1), bias=False)\n",
       "      (bn1): BatchNorm2d(256, eps=1e-05, momentum=0.1, affine=True, track_running_stats=True)\n",
       "      (conv2): Conv2d(256, 256, kernel_size=(3, 3), stride=(1, 1), padding=(1, 1), bias=False)\n",
       "      (bn2): BatchNorm2d(256, eps=1e-05, momentum=0.1, affine=True, track_running_stats=True)\n",
       "      (conv3): Conv2d(256, 1024, kernel_size=(1, 1), stride=(1, 1), bias=False)\n",
       "      (bn3): BatchNorm2d(1024, eps=1e-05, momentum=0.1, affine=True, track_running_stats=True)\n",
       "      (relu): ReLU(inplace=True)\n",
       "    )\n",
       "    (2): Bottleneck(\n",
       "      (conv1): Conv2d(1024, 256, kernel_size=(1, 1), stride=(1, 1), bias=False)\n",
       "      (bn1): BatchNorm2d(256, eps=1e-05, momentum=0.1, affine=True, track_running_stats=True)\n",
       "      (conv2): Conv2d(256, 256, kernel_size=(3, 3), stride=(1, 1), padding=(1, 1), bias=False)\n",
       "      (bn2): BatchNorm2d(256, eps=1e-05, momentum=0.1, affine=True, track_running_stats=True)\n",
       "      (conv3): Conv2d(256, 1024, kernel_size=(1, 1), stride=(1, 1), bias=False)\n",
       "      (bn3): BatchNorm2d(1024, eps=1e-05, momentum=0.1, affine=True, track_running_stats=True)\n",
       "      (relu): ReLU(inplace=True)\n",
       "    )\n",
       "    (3): Bottleneck(\n",
       "      (conv1): Conv2d(1024, 256, kernel_size=(1, 1), stride=(1, 1), bias=False)\n",
       "      (bn1): BatchNorm2d(256, eps=1e-05, momentum=0.1, affine=True, track_running_stats=True)\n",
       "      (conv2): Conv2d(256, 256, kernel_size=(3, 3), stride=(1, 1), padding=(1, 1), bias=False)\n",
       "      (bn2): BatchNorm2d(256, eps=1e-05, momentum=0.1, affine=True, track_running_stats=True)\n",
       "      (conv3): Conv2d(256, 1024, kernel_size=(1, 1), stride=(1, 1), bias=False)\n",
       "      (bn3): BatchNorm2d(1024, eps=1e-05, momentum=0.1, affine=True, track_running_stats=True)\n",
       "      (relu): ReLU(inplace=True)\n",
       "    )\n",
       "    (4): Bottleneck(\n",
       "      (conv1): Conv2d(1024, 256, kernel_size=(1, 1), stride=(1, 1), bias=False)\n",
       "      (bn1): BatchNorm2d(256, eps=1e-05, momentum=0.1, affine=True, track_running_stats=True)\n",
       "      (conv2): Conv2d(256, 256, kernel_size=(3, 3), stride=(1, 1), padding=(1, 1), bias=False)\n",
       "      (bn2): BatchNorm2d(256, eps=1e-05, momentum=0.1, affine=True, track_running_stats=True)\n",
       "      (conv3): Conv2d(256, 1024, kernel_size=(1, 1), stride=(1, 1), bias=False)\n",
       "      (bn3): BatchNorm2d(1024, eps=1e-05, momentum=0.1, affine=True, track_running_stats=True)\n",
       "      (relu): ReLU(inplace=True)\n",
       "    )\n",
       "    (5): Bottleneck(\n",
       "      (conv1): Conv2d(1024, 256, kernel_size=(1, 1), stride=(1, 1), bias=False)\n",
       "      (bn1): BatchNorm2d(256, eps=1e-05, momentum=0.1, affine=True, track_running_stats=True)\n",
       "      (conv2): Conv2d(256, 256, kernel_size=(3, 3), stride=(1, 1), padding=(1, 1), bias=False)\n",
       "      (bn2): BatchNorm2d(256, eps=1e-05, momentum=0.1, affine=True, track_running_stats=True)\n",
       "      (conv3): Conv2d(256, 1024, kernel_size=(1, 1), stride=(1, 1), bias=False)\n",
       "      (bn3): BatchNorm2d(1024, eps=1e-05, momentum=0.1, affine=True, track_running_stats=True)\n",
       "      (relu): ReLU(inplace=True)\n",
       "    )\n",
       "  )\n",
       "  (layer4): Sequential(\n",
       "    (0): Bottleneck(\n",
       "      (conv1): Conv2d(1024, 512, kernel_size=(1, 1), stride=(1, 1), bias=False)\n",
       "      (bn1): BatchNorm2d(512, eps=1e-05, momentum=0.1, affine=True, track_running_stats=True)\n",
       "      (conv2): Conv2d(512, 512, kernel_size=(3, 3), stride=(2, 2), padding=(1, 1), bias=False)\n",
       "      (bn2): BatchNorm2d(512, eps=1e-05, momentum=0.1, affine=True, track_running_stats=True)\n",
       "      (conv3): Conv2d(512, 2048, kernel_size=(1, 1), stride=(1, 1), bias=False)\n",
       "      (bn3): BatchNorm2d(2048, eps=1e-05, momentum=0.1, affine=True, track_running_stats=True)\n",
       "      (relu): ReLU(inplace=True)\n",
       "      (downsample): Sequential(\n",
       "        (0): Conv2d(1024, 2048, kernel_size=(1, 1), stride=(2, 2), bias=False)\n",
       "        (1): BatchNorm2d(2048, eps=1e-05, momentum=0.1, affine=True, track_running_stats=True)\n",
       "      )\n",
       "    )\n",
       "    (1): Bottleneck(\n",
       "      (conv1): Conv2d(2048, 512, kernel_size=(1, 1), stride=(1, 1), bias=False)\n",
       "      (bn1): BatchNorm2d(512, eps=1e-05, momentum=0.1, affine=True, track_running_stats=True)\n",
       "      (conv2): Conv2d(512, 512, kernel_size=(3, 3), stride=(1, 1), padding=(1, 1), bias=False)\n",
       "      (bn2): BatchNorm2d(512, eps=1e-05, momentum=0.1, affine=True, track_running_stats=True)\n",
       "      (conv3): Conv2d(512, 2048, kernel_size=(1, 1), stride=(1, 1), bias=False)\n",
       "      (bn3): BatchNorm2d(2048, eps=1e-05, momentum=0.1, affine=True, track_running_stats=True)\n",
       "      (relu): ReLU(inplace=True)\n",
       "    )\n",
       "    (2): Bottleneck(\n",
       "      (conv1): Conv2d(2048, 512, kernel_size=(1, 1), stride=(1, 1), bias=False)\n",
       "      (bn1): BatchNorm2d(512, eps=1e-05, momentum=0.1, affine=True, track_running_stats=True)\n",
       "      (conv2): Conv2d(512, 512, kernel_size=(3, 3), stride=(1, 1), padding=(1, 1), bias=False)\n",
       "      (bn2): BatchNorm2d(512, eps=1e-05, momentum=0.1, affine=True, track_running_stats=True)\n",
       "      (conv3): Conv2d(512, 2048, kernel_size=(1, 1), stride=(1, 1), bias=False)\n",
       "      (bn3): BatchNorm2d(2048, eps=1e-05, momentum=0.1, affine=True, track_running_stats=True)\n",
       "      (relu): ReLU(inplace=True)\n",
       "    )\n",
       "  )\n",
       "  (avgpool): AdaptiveAvgPool2d(output_size=(1, 1))\n",
       "  (fc): Linear(in_features=2048, out_features=1000, bias=True)\n",
       ")"
      ]
     },
     "execution_count": 51,
     "metadata": {},
     "output_type": "execute_result"
    }
   ],
   "source": [
    "resnet_model.eval()"
   ]
  },
  {
   "cell_type": "markdown",
   "metadata": {},
   "source": [
    "### Feed the images into the network\n",
    "\n",
    "Obtain predictions and predicted probabilities, normalized with a `softamax()` function"
   ]
  },
  {
   "cell_type": "code",
   "execution_count": 53,
   "metadata": {},
   "outputs": [],
   "source": [
    "img_preds = resnet_model(imgs)\n",
    "img_probs = np.exp(np.asarray(img_preds.detach()))\n",
    "img_probs /= img_probs.sum(1)[:,None]"
   ]
  },
  {
   "cell_type": "code",
   "execution_count": 60,
   "metadata": {},
   "outputs": [
    {
     "data": {
      "text/plain": [
       "torch.Size([10, 1000])"
      ]
     },
     "execution_count": 60,
     "metadata": {},
     "output_type": "execute_result"
    }
   ],
   "source": [
    "img_preds.shape"
   ]
  },
  {
   "cell_type": "markdown",
   "metadata": {},
   "source": [
    "### Apply data labels"
   ]
  },
  {
   "cell_type": "code",
   "execution_count": 56,
   "metadata": {},
   "outputs": [],
   "source": [
    "labs = json.load(open('Data/imagenet_class_index.json'))\n",
    "class_labels = pd.DataFrame([(int(k), v[1]) for k, v in labs.items()], columns=['idx', 'label'])\n",
    "class_labels = class_labels.set_index('idx')\n",
    "class_labels = class_labels.sort_index()"
   ]
  },
  {
   "cell_type": "code",
   "execution_count": 61,
   "metadata": {},
   "outputs": [
    {
     "data": {
      "text/html": [
       "<div>\n",
       "<style scoped>\n",
       "    .dataframe tbody tr th:only-of-type {\n",
       "        vertical-align: middle;\n",
       "    }\n",
       "\n",
       "    .dataframe tbody tr th {\n",
       "        vertical-align: top;\n",
       "    }\n",
       "\n",
       "    .dataframe thead th {\n",
       "        text-align: right;\n",
       "    }\n",
       "</style>\n",
       "<table border=\"1\" class=\"dataframe\">\n",
       "  <thead>\n",
       "    <tr style=\"text-align: right;\">\n",
       "      <th></th>\n",
       "      <th>label</th>\n",
       "    </tr>\n",
       "    <tr>\n",
       "      <th>idx</th>\n",
       "      <th></th>\n",
       "    </tr>\n",
       "  </thead>\n",
       "  <tbody>\n",
       "    <tr>\n",
       "      <th>0</th>\n",
       "      <td>tench</td>\n",
       "    </tr>\n",
       "    <tr>\n",
       "      <th>1</th>\n",
       "      <td>goldfish</td>\n",
       "    </tr>\n",
       "    <tr>\n",
       "      <th>2</th>\n",
       "      <td>great_white_shark</td>\n",
       "    </tr>\n",
       "    <tr>\n",
       "      <th>3</th>\n",
       "      <td>tiger_shark</td>\n",
       "    </tr>\n",
       "    <tr>\n",
       "      <th>4</th>\n",
       "      <td>hammerhead</td>\n",
       "    </tr>\n",
       "    <tr>\n",
       "      <th>...</th>\n",
       "      <td>...</td>\n",
       "    </tr>\n",
       "    <tr>\n",
       "      <th>995</th>\n",
       "      <td>earthstar</td>\n",
       "    </tr>\n",
       "    <tr>\n",
       "      <th>996</th>\n",
       "      <td>hen-of-the-woods</td>\n",
       "    </tr>\n",
       "    <tr>\n",
       "      <th>997</th>\n",
       "      <td>bolete</td>\n",
       "    </tr>\n",
       "    <tr>\n",
       "      <th>998</th>\n",
       "      <td>ear</td>\n",
       "    </tr>\n",
       "    <tr>\n",
       "      <th>999</th>\n",
       "      <td>toilet_tissue</td>\n",
       "    </tr>\n",
       "  </tbody>\n",
       "</table>\n",
       "<p>1000 rows × 1 columns</p>\n",
       "</div>"
      ],
      "text/plain": [
       "                 label\n",
       "idx                   \n",
       "0                tench\n",
       "1             goldfish\n",
       "2    great_white_shark\n",
       "3          tiger_shark\n",
       "4           hammerhead\n",
       "..                 ...\n",
       "995          earthstar\n",
       "996   hen-of-the-woods\n",
       "997             bolete\n",
       "998                ear\n",
       "999      toilet_tissue\n",
       "\n",
       "[1000 rows x 1 columns]"
      ]
     },
     "execution_count": 61,
     "metadata": {},
     "output_type": "execute_result"
    }
   ],
   "source": [
    "class_labels"
   ]
  },
  {
   "cell_type": "code",
   "execution_count": 127,
   "metadata": {},
   "outputs": [
    {
     "data": {
      "text/html": [
       "<div>\n",
       "<style scoped>\n",
       "    .dataframe tbody tr th:only-of-type {\n",
       "        vertical-align: middle;\n",
       "    }\n",
       "\n",
       "    .dataframe tbody tr th {\n",
       "        vertical-align: top;\n",
       "    }\n",
       "\n",
       "    .dataframe thead tr th {\n",
       "        text-align: left;\n",
       "    }\n",
       "</style>\n",
       "<table border=\"1\" class=\"dataframe\">\n",
       "  <thead>\n",
       "    <tr>\n",
       "      <th></th>\n",
       "      <th colspan=\"2\" halign=\"left\">images/cat-2.jpg</th>\n",
       "      <th colspan=\"2\" halign=\"left\">images/cat.jpg</th>\n",
       "      <th colspan=\"2\" halign=\"left\">images/cow-2.jpg</th>\n",
       "      <th colspan=\"2\" halign=\"left\">images/cow.jpg</th>\n",
       "      <th colspan=\"2\" halign=\"left\">images/crab.jpg</th>\n",
       "      <th colspan=\"2\" halign=\"left\">images/dog-2.jpg</th>\n",
       "      <th colspan=\"2\" halign=\"left\">images/dog.jpg</th>\n",
       "      <th colspan=\"2\" halign=\"left\">images/fish.jpg</th>\n",
       "      <th colspan=\"2\" halign=\"left\">images/lion.jpg</th>\n",
       "      <th colspan=\"2\" halign=\"left\">images/monkey.jpg</th>\n",
       "    </tr>\n",
       "    <tr>\n",
       "      <th></th>\n",
       "      <th>label</th>\n",
       "      <th>prob</th>\n",
       "      <th>label</th>\n",
       "      <th>prob</th>\n",
       "      <th>label</th>\n",
       "      <th>prob</th>\n",
       "      <th>label</th>\n",
       "      <th>prob</th>\n",
       "      <th>label</th>\n",
       "      <th>prob</th>\n",
       "      <th>label</th>\n",
       "      <th>prob</th>\n",
       "      <th>label</th>\n",
       "      <th>prob</th>\n",
       "      <th>label</th>\n",
       "      <th>prob</th>\n",
       "      <th>label</th>\n",
       "      <th>prob</th>\n",
       "      <th>label</th>\n",
       "      <th>prob</th>\n",
       "    </tr>\n",
       "  </thead>\n",
       "  <tbody>\n",
       "    <tr>\n",
       "      <th>0</th>\n",
       "      <td>jigsaw_puzzle</td>\n",
       "      <td>0.535954</td>\n",
       "      <td>tiger_cat</td>\n",
       "      <td>0.077034</td>\n",
       "      <td>ox</td>\n",
       "      <td>0.255884</td>\n",
       "      <td>ox</td>\n",
       "      <td>0.246795</td>\n",
       "      <td>rock_crab</td>\n",
       "      <td>0.385034</td>\n",
       "      <td>Shih-Tzu</td>\n",
       "      <td>0.234479</td>\n",
       "      <td>Bernese_mountain_dog</td>\n",
       "      <td>0.225948</td>\n",
       "      <td>reel</td>\n",
       "      <td>0.145235</td>\n",
       "      <td>lion</td>\n",
       "      <td>0.350197</td>\n",
       "      <td>squirrel_monkey</td>\n",
       "      <td>0.054868</td>\n",
       "    </tr>\n",
       "    <tr>\n",
       "      <th>1</th>\n",
       "      <td>tile_roof</td>\n",
       "      <td>0.131623</td>\n",
       "      <td>tabby</td>\n",
       "      <td>0.045406</td>\n",
       "      <td>bison</td>\n",
       "      <td>0.029800</td>\n",
       "      <td>oxcart</td>\n",
       "      <td>0.062597</td>\n",
       "      <td>Dungeness_crab</td>\n",
       "      <td>0.069247</td>\n",
       "      <td>Tibetan_terrier</td>\n",
       "      <td>0.158301</td>\n",
       "      <td>Appenzeller</td>\n",
       "      <td>0.079797</td>\n",
       "      <td>barracouta</td>\n",
       "      <td>0.084449</td>\n",
       "      <td>cougar</td>\n",
       "      <td>0.007326</td>\n",
       "      <td>spider_monkey</td>\n",
       "      <td>0.029701</td>\n",
       "    </tr>\n",
       "    <tr>\n",
       "      <th>2</th>\n",
       "      <td>Egyptian_cat</td>\n",
       "      <td>0.043090</td>\n",
       "      <td>space_heater</td>\n",
       "      <td>0.037731</td>\n",
       "      <td>plow</td>\n",
       "      <td>0.026854</td>\n",
       "      <td>impala</td>\n",
       "      <td>0.043976</td>\n",
       "      <td>king_crab</td>\n",
       "      <td>0.040805</td>\n",
       "      <td>Lhasa</td>\n",
       "      <td>0.061553</td>\n",
       "      <td>Border_collie</td>\n",
       "      <td>0.030536</td>\n",
       "      <td>goldfish</td>\n",
       "      <td>0.075501</td>\n",
       "      <td>lynx</td>\n",
       "      <td>0.001593</td>\n",
       "      <td>birdhouse</td>\n",
       "      <td>0.026647</td>\n",
       "    </tr>\n",
       "    <tr>\n",
       "      <th>3</th>\n",
       "      <td>tabby</td>\n",
       "      <td>0.028779</td>\n",
       "      <td>Egyptian_cat</td>\n",
       "      <td>0.034630</td>\n",
       "      <td>water_buffalo</td>\n",
       "      <td>0.025040</td>\n",
       "      <td>gazelle</td>\n",
       "      <td>0.032080</td>\n",
       "      <td>fiddler_crab</td>\n",
       "      <td>0.023331</td>\n",
       "      <td>Old_English_sheepdog</td>\n",
       "      <td>0.008568</td>\n",
       "      <td>collie</td>\n",
       "      <td>0.022082</td>\n",
       "      <td>coho</td>\n",
       "      <td>0.059539</td>\n",
       "      <td>Chesapeake_Bay_retriever</td>\n",
       "      <td>0.001286</td>\n",
       "      <td>macaque</td>\n",
       "      <td>0.023472</td>\n",
       "    </tr>\n",
       "    <tr>\n",
       "      <th>4</th>\n",
       "      <td>barrow</td>\n",
       "      <td>0.024349</td>\n",
       "      <td>window_screen</td>\n",
       "      <td>0.025140</td>\n",
       "      <td>oxcart</td>\n",
       "      <td>0.021786</td>\n",
       "      <td>bison</td>\n",
       "      <td>0.013497</td>\n",
       "      <td>hermit_crab</td>\n",
       "      <td>0.014947</td>\n",
       "      <td>collie</td>\n",
       "      <td>0.004085</td>\n",
       "      <td>EntleBucher</td>\n",
       "      <td>0.010465</td>\n",
       "      <td>tench</td>\n",
       "      <td>0.050141</td>\n",
       "      <td>chow</td>\n",
       "      <td>0.001237</td>\n",
       "      <td>pot</td>\n",
       "      <td>0.016415</td>\n",
       "    </tr>\n",
       "    <tr>\n",
       "      <th>5</th>\n",
       "      <td>tiger_cat</td>\n",
       "      <td>0.014563</td>\n",
       "      <td>doormat</td>\n",
       "      <td>0.020901</td>\n",
       "      <td>lion</td>\n",
       "      <td>0.017926</td>\n",
       "      <td>plow</td>\n",
       "      <td>0.013443</td>\n",
       "      <td>isopod</td>\n",
       "      <td>0.002910</td>\n",
       "      <td>English_springer</td>\n",
       "      <td>0.003311</td>\n",
       "      <td>Shetland_sheepdog</td>\n",
       "      <td>0.009034</td>\n",
       "      <td>sturgeon</td>\n",
       "      <td>0.005425</td>\n",
       "      <td>Egyptian_cat</td>\n",
       "      <td>0.001236</td>\n",
       "      <td>titi</td>\n",
       "      <td>0.015670</td>\n",
       "    </tr>\n",
       "    <tr>\n",
       "      <th>6</th>\n",
       "      <td>Siamese_cat</td>\n",
       "      <td>0.003936</td>\n",
       "      <td>seat_belt</td>\n",
       "      <td>0.015976</td>\n",
       "      <td>hartebeest</td>\n",
       "      <td>0.008663</td>\n",
       "      <td>water_buffalo</td>\n",
       "      <td>0.009232</td>\n",
       "      <td>crayfish</td>\n",
       "      <td>0.002881</td>\n",
       "      <td>wire-haired_fox_terrier</td>\n",
       "      <td>0.002795</td>\n",
       "      <td>Greater_Swiss_Mountain_dog</td>\n",
       "      <td>0.007772</td>\n",
       "      <td>pole</td>\n",
       "      <td>0.005136</td>\n",
       "      <td>bloodhound</td>\n",
       "      <td>0.001227</td>\n",
       "      <td>three-toed_sloth</td>\n",
       "      <td>0.015586</td>\n",
       "    </tr>\n",
       "    <tr>\n",
       "      <th>7</th>\n",
       "      <td>shield</td>\n",
       "      <td>0.002509</td>\n",
       "      <td>strainer</td>\n",
       "      <td>0.014132</td>\n",
       "      <td>worm_fence</td>\n",
       "      <td>0.008205</td>\n",
       "      <td>worm_fence</td>\n",
       "      <td>0.007827</td>\n",
       "      <td>spiny_lobster</td>\n",
       "      <td>0.001462</td>\n",
       "      <td>Border_collie</td>\n",
       "      <td>0.002775</td>\n",
       "      <td>Pembroke</td>\n",
       "      <td>0.007709</td>\n",
       "      <td>gar</td>\n",
       "      <td>0.003758</td>\n",
       "      <td>jaguar</td>\n",
       "      <td>0.001167</td>\n",
       "      <td>orangutan</td>\n",
       "      <td>0.015328</td>\n",
       "    </tr>\n",
       "    <tr>\n",
       "      <th>8</th>\n",
       "      <td>lynx</td>\n",
       "      <td>0.002357</td>\n",
       "      <td>wok</td>\n",
       "      <td>0.010606</td>\n",
       "      <td>muzzle</td>\n",
       "      <td>0.007023</td>\n",
       "      <td>ram</td>\n",
       "      <td>0.006527</td>\n",
       "      <td>American_lobster</td>\n",
       "      <td>0.001424</td>\n",
       "      <td>Cardigan</td>\n",
       "      <td>0.002433</td>\n",
       "      <td>Tibetan_mastiff</td>\n",
       "      <td>0.005109</td>\n",
       "      <td>long-horned_beetle</td>\n",
       "      <td>0.002162</td>\n",
       "      <td>hyena</td>\n",
       "      <td>0.001131</td>\n",
       "      <td>langur</td>\n",
       "      <td>0.014299</td>\n",
       "    </tr>\n",
       "    <tr>\n",
       "      <th>9</th>\n",
       "      <td>manhole_cover</td>\n",
       "      <td>0.002329</td>\n",
       "      <td>chain_mail</td>\n",
       "      <td>0.007755</td>\n",
       "      <td>sorrel</td>\n",
       "      <td>0.006862</td>\n",
       "      <td>sorrel</td>\n",
       "      <td>0.003413</td>\n",
       "      <td>dough</td>\n",
       "      <td>0.001362</td>\n",
       "      <td>miniature_schnauzer</td>\n",
       "      <td>0.002253</td>\n",
       "      <td>Cardigan</td>\n",
       "      <td>0.003796</td>\n",
       "      <td>boathouse</td>\n",
       "      <td>0.002144</td>\n",
       "      <td>tiger_cat</td>\n",
       "      <td>0.001110</td>\n",
       "      <td>proboscis_monkey</td>\n",
       "      <td>0.013859</td>\n",
       "    </tr>\n",
       "  </tbody>\n",
       "</table>\n",
       "</div>"
      ],
      "text/plain": [
       "  images/cat-2.jpg           images/cat.jpg           images/cow-2.jpg  \\\n",
       "             label      prob          label      prob            label   \n",
       "0    jigsaw_puzzle  0.535954      tiger_cat  0.077034               ox   \n",
       "1        tile_roof  0.131623          tabby  0.045406            bison   \n",
       "2     Egyptian_cat  0.043090   space_heater  0.037731             plow   \n",
       "3            tabby  0.028779   Egyptian_cat  0.034630    water_buffalo   \n",
       "4           barrow  0.024349  window_screen  0.025140           oxcart   \n",
       "5        tiger_cat  0.014563        doormat  0.020901             lion   \n",
       "6      Siamese_cat  0.003936      seat_belt  0.015976       hartebeest   \n",
       "7           shield  0.002509       strainer  0.014132       worm_fence   \n",
       "8             lynx  0.002357            wok  0.010606           muzzle   \n",
       "9    manhole_cover  0.002329     chain_mail  0.007755           sorrel   \n",
       "\n",
       "            images/cow.jpg             images/crab.jpg            \\\n",
       "       prob          label      prob             label      prob   \n",
       "0  0.255884             ox  0.246795         rock_crab  0.385034   \n",
       "1  0.029800         oxcart  0.062597    Dungeness_crab  0.069247   \n",
       "2  0.026854         impala  0.043976         king_crab  0.040805   \n",
       "3  0.025040        gazelle  0.032080      fiddler_crab  0.023331   \n",
       "4  0.021786          bison  0.013497       hermit_crab  0.014947   \n",
       "5  0.017926           plow  0.013443            isopod  0.002910   \n",
       "6  0.008663  water_buffalo  0.009232          crayfish  0.002881   \n",
       "7  0.008205     worm_fence  0.007827     spiny_lobster  0.001462   \n",
       "8  0.007023            ram  0.006527  American_lobster  0.001424   \n",
       "9  0.006862         sorrel  0.003413             dough  0.001362   \n",
       "\n",
       "          images/dog-2.jpg                        images/dog.jpg            \\\n",
       "                     label      prob                       label      prob   \n",
       "0                 Shih-Tzu  0.234479        Bernese_mountain_dog  0.225948   \n",
       "1          Tibetan_terrier  0.158301                 Appenzeller  0.079797   \n",
       "2                    Lhasa  0.061553               Border_collie  0.030536   \n",
       "3     Old_English_sheepdog  0.008568                      collie  0.022082   \n",
       "4                   collie  0.004085                 EntleBucher  0.010465   \n",
       "5         English_springer  0.003311           Shetland_sheepdog  0.009034   \n",
       "6  wire-haired_fox_terrier  0.002795  Greater_Swiss_Mountain_dog  0.007772   \n",
       "7            Border_collie  0.002775                    Pembroke  0.007709   \n",
       "8                 Cardigan  0.002433             Tibetan_mastiff  0.005109   \n",
       "9      miniature_schnauzer  0.002253                    Cardigan  0.003796   \n",
       "\n",
       "      images/fish.jpg                     images/lion.jpg            \\\n",
       "                label      prob                     label      prob   \n",
       "0                reel  0.145235                      lion  0.350197   \n",
       "1          barracouta  0.084449                    cougar  0.007326   \n",
       "2            goldfish  0.075501                      lynx  0.001593   \n",
       "3                coho  0.059539  Chesapeake_Bay_retriever  0.001286   \n",
       "4               tench  0.050141                      chow  0.001237   \n",
       "5            sturgeon  0.005425              Egyptian_cat  0.001236   \n",
       "6                pole  0.005136                bloodhound  0.001227   \n",
       "7                 gar  0.003758                    jaguar  0.001167   \n",
       "8  long-horned_beetle  0.002162                     hyena  0.001131   \n",
       "9           boathouse  0.002144                 tiger_cat  0.001110   \n",
       "\n",
       "  images/monkey.jpg            \n",
       "              label      prob  \n",
       "0   squirrel_monkey  0.054868  \n",
       "1     spider_monkey  0.029701  \n",
       "2         birdhouse  0.026647  \n",
       "3           macaque  0.023472  \n",
       "4               pot  0.016415  \n",
       "5              titi  0.015670  \n",
       "6  three-toed_sloth  0.015586  \n",
       "7         orangutan  0.015328  \n",
       "8            langur  0.014299  \n",
       "9  proboscis_monkey  0.013859  "
      ]
     },
     "execution_count": 127,
     "metadata": {},
     "output_type": "execute_result"
    }
   ],
   "source": [
    "result = []\n",
    "\n",
    "for i, imgfile in enumerate(imgfiles):\n",
    "    img_df = class_labels.copy()\n",
    "    img_df['prob'] = img_probs[i]\n",
    "    img_df = img_df.sort_values(by='prob', ascending=False)[:10]\n",
    "    img_df.reset_index(drop=True, inplace=True)\n",
    "    img_df.columns = pd.MultiIndex.from_product([[f'{imgfiles[i]}'], img_df.columns])\n",
    "    result.append(img_df)\n",
    "\n",
    "result_df = pd.concat(result, axis=1)\n",
    "result_df"
   ]
  }
 ],
 "metadata": {
  "language_info": {
   "name": "python"
  }
 },
 "nbformat": 4,
 "nbformat_minor": 2
}
