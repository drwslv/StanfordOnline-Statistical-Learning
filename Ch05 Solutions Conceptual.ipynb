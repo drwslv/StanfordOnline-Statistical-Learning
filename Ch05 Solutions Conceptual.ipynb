{
 "cells": [
  {
   "cell_type": "markdown",
   "metadata": {},
   "source": [
    "# Chapter 5 - Conceptual Exercise Solutions"
   ]
  },
  {
   "cell_type": "markdown",
   "metadata": {},
   "source": [
    "### 1"
   ]
  },
  {
   "cell_type": "markdown",
   "metadata": {},
   "source": [
    "Using basic statistical properties of the variance, as well as single- variable calculus, derive (5.6). In other words, prove that $\\alpha$ given by (5.6) does indeed minimize $ Var(\\alpha X + (1 − \\alpha)Y )$.\n",
    "\n",
    "$$ Var(\\alpha X + (1 − \\alpha)Y) $$\n",
    "\n",
    "$$ \\alpha^2 Var(X) + (1 - \\alpha)^2 Var(Y) + 2 \\alpha (1 - \\alpha) Cov(X, Y) $$\n",
    "\n",
    "$$ \\alpha^2 Var(X) + (1 - 2 \\alpha + \\alpha^2) Var(Y) + (2 \\alpha - 2 \\alpha^2) Cov(X, Y) $$\n",
    "\n",
    "$$ Var(Y) + 2 \\alpha Cov(X, Y) - 2 \\alpha Var(Y) +  \\alpha^2 Var(X) + \\alpha^2 Var(Y) - 2 \\alpha^2 Cov(X, Y) $$\n",
    "\n",
    "$$ Var(Y) + 2 \\alpha \\Bigl[ Cov(X, Y) - Var(Y) \\Bigl] + \\alpha^2 \\Bigl[ Var(X) + Var(Y) - 2 Cov(X, Y) \\Bigl] $$\n",
    "\n",
    "\n",
    "Maximixe w.r.t $\\alpha$\n",
    "\n",
    "$$ \\frac{d}{d \\alpha} \\Bigl[ ... \\Bigl] = 0 $$\n",
    "\n",
    "$$ 2 \\Bigl[ Cov(X, Y) - Var(Y) \\Bigl] + 2 \\alpha \\Bigl[ Var(X) + Var(Y) - 2 Cov(X, Y) \\Bigl] = 0 $$\n",
    "\n",
    "$$ \\alpha \\Bigl[ Var(X) + Var(Y) - 2 Cov(X, Y) \\Bigl] = - \\Bigl[ Cov(X, Y) - Var(Y) \\Bigl] $$\n",
    "\n",
    "$$ \\alpha \\Bigl[ Var(X) + Var(Y) - 2 Cov(X, Y) \\Bigl] = \\Bigl[ Var(Y) - Cov(X, Y) \\Bigl] $$\n",
    "\n",
    "$$ \\alpha = \\frac{ \\Bigl[ Var(Y) - Cov(X, Y) \\Bigl] }{ \\Bigl[ Var(X) + Var(Y) - 2 Cov(X, Y) \\Bigl] } $$\n",
    "\n",
    "$$ \\alpha = \\frac{ \\Bigl[ \\sigma^2_Y - \\sigma_{XY} \\Bigl] }{ \\Bigl[ \\sigma^2_X + \\sigma^2_Y - 2 \\sigma_{XY} \\Bigl] } $$\n",
    "\n",
    "\n",
    "\n"
   ]
  },
  {
   "cell_type": "markdown",
   "metadata": {},
   "source": [
    "### 2"
   ]
  },
  {
   "cell_type": "markdown",
   "metadata": {},
   "source": [
    "We will now derive the probability that a given observation is part of a bootstrap sample. Suppose that we obtain a bootstrap sample from a set of *n* observations."
   ]
  },
  {
   "cell_type": "markdown",
   "metadata": {},
   "source": [
    "**(a)** What is the probability that the first bootstrap observation is *not* the jth observation from the original sample? Justify your answer.\n",
    "\n",
    "Because boostrap samples are drawn at random with replacement, any observation (*j*th) has equal probability of being the first boostrap observation, i.e. with probability $ 1/n $.\n",
    "\n",
    "$$ P( \\bar{j} ) = 1 - P(j) = 1 - \\frac{1}{n} = \\frac{n - 1}{n} $$"
   ]
  },
  {
   "cell_type": "markdown",
   "metadata": {},
   "source": [
    "**(b)** What is the probability that the second bootstrap observation is not the jth observation from the original sample?\n",
    "\n",
    "The probability is the same, as the first and second boostrap observation have equal probabiility of being drawn, as we draw at random, and with replacement.\n",
    "\n",
    "\n"
   ]
  },
  {
   "cell_type": "markdown",
   "metadata": {},
   "source": [
    "**(c)** Argue that the probability that the *j*th observation is not in the bootstrap sample is $ (1 − 1/n)^n $.\n",
    "\n",
    "For the *j*th observation to not be in the bootstrap sample, it must not be the first boostrap observation, nor the second boostrap observation, etc. up to the *n*th bootstrap observation. The probability that each of these instances is true, jointly is the product of each of the individual probabilities (because each event is independent).\n",
    "\n",
    "$$ P( \\bar{j}_{obs-1} ) = 1 - \\frac{1}{n} $$\n",
    "\n",
    "$$ P( \\bar{j}_{obs-2} ) = 1 - \\frac{1}{n} $$\n",
    "\n",
    "$$ ... $$\n",
    "\n",
    "$$ P( \\bar{j}_{obs-n} ) = 1 - \\frac{1}{n} $$\n",
    "\n",
    "So\n",
    "\n",
    "$$ P( \\bar{j}_{obs-1} ) P( \\bar{j}_{obs-2} ) ... P( \\bar{j}_{obs-n} ) = \\Bigl( 1 - \\frac{1}{n} \\Bigr)^n $$\n",
    "\n",
    "\n"
   ]
  },
  {
   "cell_type": "markdown",
   "metadata": {},
   "source": [
    "**(d)** When $n = 5$, what is the probability that the *j*th observation is in the bootstrap sample?\n",
    "\n",
    "The probability that the *j*th observation is *not* in a boostrap sample of 5 is:\n",
    "\n",
    "$$ P( \\bar{j}_{obs-1} ) P( \\bar{j}_{obs-2} ) ... P( \\bar{j}_{obs-5} ) = \\Bigl( 1 - \\frac{1}{5} \\Bigr)^5 $$\n",
    "\n",
    "So, the probability that the *j*th observation *is* in a boostrap sample of 5 is:\n",
    "\n",
    "$$ 1 - \\Bigl( 1 - \\frac{1}{5} \\Bigr)^5 $$ \n"
   ]
  },
  {
   "cell_type": "code",
   "execution_count": 2,
   "metadata": {},
   "outputs": [
    {
     "data": {
      "text/plain": [
       "0.6723199999999999"
      ]
     },
     "execution_count": 2,
     "metadata": {},
     "output_type": "execute_result"
    }
   ],
   "source": [
    "1 - (1 - 1/5)**5"
   ]
  },
  {
   "cell_type": "markdown",
   "metadata": {},
   "source": [
    "**(e)** When $ n = 100 $, what is the probability that the *j*th observation is in the bootstrap sample?\n",
    "\n",
    "The probability that the *j*th observation is *not* in a boostrap sample of 100 is:\n",
    "\n",
    "$$ P( \\bar{j}_{obs-1} ) P( \\bar{j}_{obs-2} ) ... P( \\bar{j}_{obs-100} ) = \\Bigl( 1 - \\frac{1}{100} \\Bigr)^{100} $$\n",
    "\n",
    "So, the probability that the *j*th observation *is* in a boostrap sample of 100 is:\n",
    "\n",
    "$$ 1 - \\Bigl( 1 - \\frac{1}{100} \\Bigr)^{100} $$ \n"
   ]
  },
  {
   "cell_type": "code",
   "execution_count": 3,
   "metadata": {},
   "outputs": [
    {
     "data": {
      "text/plain": [
       "0.6339676587267709"
      ]
     },
     "execution_count": 3,
     "metadata": {},
     "output_type": "execute_result"
    }
   ],
   "source": [
    "1 - (1 - 1/100)**100"
   ]
  },
  {
   "cell_type": "markdown",
   "metadata": {},
   "source": [
    "**(f)** When $n = 10,000$, what is the probability that the *j*th observation is in the bootstrap sample?\n",
    "\n",
    "$$ 1 - \\Bigl( 1 - \\frac{1}{10000} \\Bigr)^{10000} $$ \n"
   ]
  },
  {
   "cell_type": "code",
   "execution_count": 20,
   "metadata": {},
   "outputs": [
    {
     "data": {
      "text/plain": [
       "0.6321389535670295"
      ]
     },
     "execution_count": 20,
     "metadata": {},
     "output_type": "execute_result"
    }
   ],
   "source": [
    "1 - (1 - 1/10000)**10000"
   ]
  },
  {
   "cell_type": "markdown",
   "metadata": {},
   "source": [
    "Similar to (e)!"
   ]
  },
  {
   "cell_type": "markdown",
   "metadata": {},
   "source": [
    "**(g)** Create a plot that displays, for each integer value of *n* from 1 to 100,000, the probability that the *j*th observation is in the bootstrap sample. Comment on what you observe."
   ]
  },
  {
   "cell_type": "markdown",
   "metadata": {},
   "source": [
    "The probability that the *j*th observation is not drawn is always less than 1. For large samples, on the one hand, there are more chances to draw it (increases probability), on the ther hand, the probabilities it is drawn (< 1) are exponentially multiplied (decreases probability). These two tendencies seem to balance out, and the series converges around 0.37, or around 0.632125 for the probability of being in the sample."
   ]
  },
  {
   "cell_type": "code",
   "execution_count": 29,
   "metadata": {},
   "outputs": [
    {
     "name": "stderr",
     "output_type": "stream",
     "text": [
      "/var/folders/04/x6phf57n2c7d0_05mhjff6cm0000gn/T/ipykernel_94011/1535529086.py:6: RuntimeWarning: invalid value encountered in power\n",
      "  y = 1 - (1 - 1/x)**x\n"
     ]
    },
    {
     "data": {
      "image/png": "[encoded data removed]",
      "text/plain": [
       "<Figure size 500x500 with 1 Axes>"
      ]
     },
     "metadata": {},
     "output_type": "display_data"
    }
   ],
   "source": [
    "import numpy as np\n",
    "import matplotlib.pyplot as plt\n",
    "from matplotlib.pyplot import subplots\n",
    "\n",
    "x = np.linspace(0.1,100000,100)\n",
    "y = 1 - (1 - 1/x)**x\n",
    "\n",
    "fig, ax = subplots(figsize=(5,5))\n",
    "ax.plot(x, y);"
   ]
  },
  {
   "cell_type": "markdown",
   "metadata": {},
   "source": [
    "**(h)** We will now investigate numerically the probability that a bootstrap sample of size *n* = 100 contains the *j*th observation. Here *j* = 4. We first create an array `store` with values that will subsequently be overwritten using the function `np.empty()`. We then repeatedly create bootstrap samples, and each time we record whether or not the fifth observation is contained in the bootstrap sample.\n",
    "\n",
    "```\n",
    "rng = np.random.default_rng(10)\n",
    "store = np.empty(10000)\n",
    "for i in range(10000):\n",
    "    store[i] = np.sum(rng.choice(100, replace=True) == 4) > 0\n",
    "\n",
    "np.mean(store)\n",
    "```\n",
    "\n",
    "Comment on the results obtained."
   ]
  },
  {
   "cell_type": "code",
   "execution_count": 149,
   "metadata": {},
   "outputs": [
    {
     "data": {
      "text/plain": [
       "0.0089"
      ]
     },
     "execution_count": 149,
     "metadata": {},
     "output_type": "execute_result"
    }
   ],
   "source": [
    "# Textbook code\n",
    "\n",
    "rng = np.random.default_rng(10)\n",
    "store = np.empty(10000)\n",
    "for i in range(10000):\n",
    "    store[i] = np.sum(rng.choice(100, replace=True) == 4) > 0\n",
    "\n",
    "np.mean(store)"
   ]
  },
  {
   "cell_type": "code",
   "execution_count": 148,
   "metadata": {},
   "outputs": [
    {
     "data": {
      "text/plain": [
       "0.629"
      ]
     },
     "execution_count": 148,
     "metadata": {},
     "output_type": "execute_result"
    }
   ],
   "source": [
    "# My edits\n",
    "\n",
    "rng = np.random\n",
    "store = np.empty(10000)\n",
    "storeIn = np.empty(100)\n",
    "count = 0\n",
    "\n",
    "for i in range(10000):\n",
    "    for j in range(100):\n",
    "        storeIn[j] = rng.choice(100, replace=True)\n",
    "\n",
    "    if (4 in storeIn):\n",
    "        store[i] = 1\n",
    "    else:\n",
    "        store[i] = 0\n",
    "\n",
    "\n",
    "np.mean(store)"
   ]
  },
  {
   "cell_type": "code",
   "execution_count": 147,
   "metadata": {},
   "outputs": [
    {
     "name": "stdout",
     "output_type": "stream",
     "text": [
      "0.6365\n"
     ]
    }
   ],
   "source": [
    "# Another version\n",
    "\n",
    "import random\n",
    "count = 0\n",
    "for _ in range(10000):\n",
    "    # True equals 1 in Python\n",
    "    # choices(l, k=k) takes k samples from the list l with replacement\n",
    "    count += 4 in random.choices(range(1, 100+1), k=100) \n",
    "\n",
    "print(count/10000)"
   ]
  },
  {
   "cell_type": "markdown",
   "metadata": {},
   "source": [
    "### 3"
   ]
  },
  {
   "cell_type": "markdown",
   "metadata": {},
   "source": [
    "We now review k-fold cross-validation."
   ]
  },
  {
   "cell_type": "markdown",
   "metadata": {},
   "source": [
    "**(a)** Explain how *k*-fold cross-validation is implemented.\n",
    "\n",
    "The sample is divided into *k* subsamples. *k*-1 of those samples are used to train the model, and the remaining *k*th sample is used to test (evaluate) the trained model. This is repeated *k* times, until each of the *k* subsamples is used for testing and evaluation, and the remaining *k*-1 subsamples used for training."
   ]
  },
  {
   "cell_type": "markdown",
   "metadata": {},
   "source": [
    "**(b)** What are the advantages and disadvantages of *k*-fold cross-validation relative to:\n",
    "\n",
    "- i. The validation set approach?\n",
    "\n",
    "**Advantages**: *k*-fold ultimately uses all data in training, therefor fit is more representative of the available data. Validation tends to overestimate the test error, as it only uses half the data for evaluation.\n",
    "\n",
    "**Disadvantages**: *k*-fold is more computationally intensive (*k* times more inensive).\n",
    "\n",
    "- ii. LOOCV?\n",
    "\n",
    "**Advantages**: *k*-fold is less computationally intensive (the exception being LOOCV for linear models); *k*-fold has less variance, as LOOCV samples overlap substantially, which raises the variance of the method.\n",
    "\n",
    "\"the mean of many highly correlated quantities has higher variance than does the mean of many quantities that are not as highly correlated\"\n",
    "\n",
    "**Disadvantages**: *k*-fold uses less of the available data for each training run thatn LOOCV, making LOOCV potentially less biased."
   ]
  },
  {
   "cell_type": "markdown",
   "metadata": {},
   "source": [
    "### 4"
   ]
  },
  {
   "cell_type": "markdown",
   "metadata": {},
   "source": [
    "Suppose that we use some statistical learning method to make a prediction for the response *Y* for a particular value of the predictor *X*. Carefully describe how we might estimate the standard deviation of our prediction.\n",
    "\n",
    "The standard deviation of the prediction is referred to as the standard error:\n",
    "\n",
    "$$ \\sqrt{ \\frac{1}{n-1} \\sum^n_i ( \\hat{y} - \\bar{y} )^2 }  $$\n",
    "\n",
    "The standard error is simply the standard deviation of the estimates for the response, $\\hat{y}$.\n",
    "\n",
    "To produce an estimate (a boostrapped estimate of the standard error):\n",
    "\n",
    "1. Draw *n* observations, with replacement, from a sample (which could also be size *n*).\n",
    "\n",
    "2. Compute the prediction using the model of choice. Record prediction *i* it as $ \\hat{y}_i$.\n",
    "\n",
    "3. Repeat steps 1. and 2. a large amount of times, say *N*, which could be 1000 or more.\n",
    "\n",
    "4. With estimates $ \\hat{y}_1 $ through $ \\hat{y}_n $, compute the standard error using the formula above."
   ]
  }
 ],
 "metadata": {
  "kernelspec": {
   "display_name": "islp",
   "language": "python",
   "name": "python3"
  },
  "language_info": {
   "codemirror_mode": {
    "name": "ipython",
    "version": 3
   },
   "file_extension": ".py",
   "mimetype": "text/x-python",
   "name": "python",
   "nbconvert_exporter": "python",
   "pygments_lexer": "ipython3",
   "version": "3.11.5"
  }
 },
 "nbformat": 4,
 "nbformat_minor": 2
}
