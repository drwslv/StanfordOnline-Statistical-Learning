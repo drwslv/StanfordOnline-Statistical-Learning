{
 "cells": [
  {
   "cell_type": "markdown",
   "metadata": {},
   "source": [
    "# Chapter 6 - Exercise Solutions"
   ]
  },
  {
   "cell_type": "markdown",
   "metadata": {},
   "source": [
    "## Conceptual"
   ]
  },
  {
   "cell_type": "markdown",
   "metadata": {},
   "source": [
    "### 1\n",
    "\n",
    "We perform best subset, forward stepwise, and backward stepwise selection on a single data set. For each approach, we obtain *p* + 1 models, containing 0, 1, 2, . . . , *p* predictors. Explain your answers:"
   ]
  },
  {
   "cell_type": "markdown",
   "metadata": {},
   "source": [
    "**(a)** Which of the three models with *k* predictors has the smallest training RSS?\n",
    "\n",
    "Best subset selection will likely result in the smallest *training* RSS, because it considers all possible combinations $ {p \\choose k} = \\frac{p!}{k!(p-k)!}$, and chooses the one with the lowest RSS. Forward and backward selection iterate through $ 1 + p(p+1)/2 $ models and *could* result in selecting the same set of *k* predictors, but also could possibly miss the combinations that yield the lowest RSS in the selection algorithm."
   ]
  },
  {
   "cell_type": "markdown",
   "metadata": {},
   "source": [
    "**(b)** Which of the three models with *k* predictors has the smallest test RSS?\n",
    "\n",
    "The test RSS can't be directly known, but can be estimated by the training RSS or by cross validation. Likely best subset selention will again select the model with the lowest RSS. To avoid overfitting, AIC, BIC, or adjusted $R^2$ can be used to evaluate the models in cross validation."
   ]
  },
  {
   "cell_type": "markdown",
   "metadata": {},
   "source": [
    "**(c)** True or False:\n",
    "\n",
    "- i. The predictors in the *k*-variable model identified by forward stepwise are a subset of the predictors in the (*k*+1)-variable model identified by forward stepwise selection.\n",
    "\n",
    "TRUE\n",
    "\n",
    "- ii. The predictors in the *k*-variable model identified by backward stepwise are a subset of the predictors in the (*k*+1)-variable model identified by backward stepwise selection.\n",
    "\n",
    "TRUE\n",
    "\n",
    "- iii. The predictors in the *k*-variable model identified by backward stepwise are a subset of the predictors in the (*k*+1)-variable model identified by forward stepwise selection.\n",
    "\n",
    "FALSE\n",
    "\n",
    "- iv. The predictors in the *k*-variable model identified by forward stepwise are a subset of the predictors in the (*k*+1)-variable model identified by backward stepwise selection.\n",
    "\n",
    "FALSE\n",
    "\n",
    "- v. The predictors in the *k*-variable model identified by best subset are a subset of the predictors in the (*k*+1)-variable model identified by best subset selection.\n",
    "\n",
    "FALSE\n"
   ]
  },
  {
   "cell_type": "markdown",
   "metadata": {},
   "source": [
    "### 2\n",
    "\n",
    "For parts (a) through (c), indicate which of i. through iv. is correct. Justify your answer."
   ]
  },
  {
   "cell_type": "markdown",
   "metadata": {},
   "source": [
    "**(a)** The lasso, relative to least squares, is:\n",
    "\n",
    "- i. More flexible and hence will give improved prediction accuracy when its increase in bias is less than its decrease in variance.\n",
    "\n",
    "    - FALSE. The lasso is less flexible.\n",
    "\n",
    "- ii. More flexible and hence will give improved prediction accuracy when its increase in variance is less than its decrease in bias.\n",
    "\n",
    "    - FALSE. The lasso is less flexible.\n",
    "\n",
    "- iii. Less flexible and hence will give improved prediction accuracy when its increase in bias is less than its decrease in variance.\n",
    "\n",
    "    - TRUE. The lasso is less flexible, because it puts constraings on coefficient magnitudes, and in some cases shrinking them to zero. This means the model will have lower variance at the cost of potentially higher bias. But it is true that the lasso could provide higher accuracy if the increase in bias is less than the decrease in variance.\n",
    "\n",
    "- iv. Less flexible and hence will give improved prediction accuracy when its increase in variance is less than its decrease in bias.\n",
    "\n",
    "    - FALSE. Less flexible models will have lower variance at the cost of higher bias."
   ]
  },
  {
   "cell_type": "markdown",
   "metadata": {},
   "source": [
    "**(b)** Repeat (a) for ridge regression relative to least squares.\n",
    "\n",
    "- i. FALSE. (Same as lasso.)\n",
    "\n",
    "- ii. FALSE. (Same as lasso.)\n",
    "\n",
    "- iii. TRUE. Ridge regression is less flexible, in that it puts constraints on coefficient size. It will have lower variance, and higher bias. (Same as lasso.)\n",
    "\n",
    "- iv. FALSE. (Same as lasso.)"
   ]
  },
  {
   "cell_type": "markdown",
   "metadata": {},
   "source": [
    "**(c)** Repeat (a) for non-linear methods relative to least squares.\n",
    "\n",
    "- i. FALSE. More flexible models typically have lower bias and higher variance.\n",
    "\n",
    "- ii. TRUE. Non-linear methods are more flexible than least squares, and therefore have lower bias at the cost of higher variance. If the rise in variance is less than the reduction in bias, the model will provide higher accuracty in predictions.\n",
    "\n",
    "- iii. FALSE.\n",
    "\n",
    "- iv. FALSE."
   ]
  },
  {
   "cell_type": "markdown",
   "metadata": {},
   "source": [
    "### 3\n",
    "\n",
    "Suppose we estimate the regression coefficients in a linear regression model by minimizing\n",
    "\n",
    "$$ \\sum_{i=1}^n \\Biggl( y_i - \\beta_0 - \\sum_{j=1}^p \\beta_j x_{ij} \\Biggr) ^2 \\textrm{subject to} \\sum_{j=1}^p | \\beta_j | \\le s $$\n",
    "\n",
    "for a particular value of *s*. For parts (a) through (e), indicate which of i. through v. is correct. Justify your answer."
   ]
  },
  {
   "cell_type": "markdown",
   "metadata": {},
   "source": [
    "**(a)** As we increase *s* from 0, the training RSS will:\n",
    "\n",
    "- i. Increase initially, and then eventually start decreasing in an inverted U shape.\n",
    "\n",
    "- ii. Decrease initially, and then eventually start increasing in a U shape.\n",
    "\n",
    "- iii. Steadily increase.\n",
    "\n",
    "- iv. Steadily decrease.\n",
    "\n",
    "- v. Remain constant.\n",
    "\n",
    "At *s* = 0, *s* is binding and the expression is equivalent to a lasso regression with $ \\lambda = \\infty $, in which $ \\beta_j = 0 $ for all *j*. In this case, the prediction for any $y_i$ is the mean of the datas series, $ \\beta_0 $, which will likely have a fairly high RSS. As *s* increases, $ \\beta_j $ incrrease, and the RSS is reduced. This should happen steadily until the $ \\beta_j $ are equal to the OLS coefficients, at which point the RSS will saturate/stabilize. The answer is (iv.) Steadily decrease."
   ]
  },
  {
   "cell_type": "markdown",
   "metadata": {},
   "source": [
    "**(b)** Test RSS\n",
    "\n",
    "We have less certainty about the test RSS, but we can say that at *s* = 0 it will likely be high. With some ease of the contstraint, $ | \\beta_j | $ increase and the RSS is reduced, but with enough increase in *s* and $ | \\beta_j | $ we could possibly overfit the model, and the RSS begins to increases. The answer is (ii.) Decrease initially, and then eventually start increaseing in a U shape."
   ]
  },
  {
   "cell_type": "markdown",
   "metadata": {},
   "source": [
    "**(c)** Variance (componenet of MSE)\n",
    "\n",
    "At *s* = 0, the variance of the model is at a minimum -- it will only be a function of $ \\beta_0 $ (which could vary from sample to sample, so the variance of the estimator is not zero). Any increase in *s*, and therefore $ | \\beta_j | $, will increase the variance, and continue to increase the variance until the constraint is no longer binding. The answer is (iii.) Steadily increase.\n"
   ]
  },
  {
   "cell_type": "markdown",
   "metadata": {},
   "source": [
    "**(d)** Squared bias (componenet of MSE)\n",
    "\n",
    "The bias should decrease with more flexibility in the model, i.e. a model with smaller *s* and larger $ | \\beta_j | $. The answer is (iv.) Steadily decrease.\n"
   ]
  },
  {
   "cell_type": "markdown",
   "metadata": {},
   "source": [
    "**(e)** Irreducible error (componenet of MSE)\n",
    "\n",
    "This is the lowest possible (Bayesian) error, and is constant. The answer is (v.) remain constant."
   ]
  },
  {
   "cell_type": "markdown",
   "metadata": {},
   "source": [
    "### 4\n",
    "\n",
    "Suppose we estimate the regression coefficients in a linear regression model by minimizing\n",
    "\n",
    "$$ \\sum_{i=1}^n \\Biggl( y_i - \\beta_0 - \\sum_{j=1}^p \\beta_j x_{ij} \\Biggr) ^2 + \\lambda \\sum_{j=1}^p \\beta_j^2 $$\n",
    "\n",
    "for a particular value of $ \\lambda $. For parts (a) through (e), indicate which of i. through v. is correct. Justify your answer."
   ]
  },
  {
   "cell_type": "markdown",
   "metadata": {},
   "source": [
    "**(a)** As we increase $ \\lambda $ from 0, the training RSS will:\n",
    "\n",
    "- i. Increase initially, and then eventually start decreasing in an inverted U shape.\n",
    "\n",
    "- ii. Decrease initially, and then eventually start increasing in a U shape.\n",
    "\n",
    "- iii. Steadily increase.\n",
    "\n",
    "- iv. Steadily decrease.\n",
    "\n",
    "- v. Remain constant.\n",
    "\n",
    "At $ \\lambda = 0 $, minimizing the expression is equivalent to OLS, and RSS is at a minimum. As $ \\lambda $ increases, a constraint is placed on the size of the $ \\beta_j $, the fit of the model becomes less flexible, and the RSS increases. The answer is (iii.) Steadily increase."
   ]
  },
  {
   "cell_type": "markdown",
   "metadata": {},
   "source": [
    "**(b)** Test RSS\n",
    "\n",
    "Increasing $ \\lambda $ from 0 (OLS equivalent) likely improves performance, reducing test RSS. But increasing $ \\lambda $ too high leads to increasing test RSS again. The answer is (ii.) Decrease initially, and then eventually start increasing in a U shape.\n"
   ]
  },
  {
   "cell_type": "markdown",
   "metadata": {},
   "source": [
    "**(c)** Variance (componenet of MSE)\n",
    "\n",
    "Increasing $ \\lambda $ from 0 (OLS equivalent) reduces variance until $ \\lambda $ is large enough to reduce $ \\beta_j $ to zero, at which point the variance is at a minimum. The answer is (iv.) Steadily decrease.\n"
   ]
  },
  {
   "cell_type": "markdown",
   "metadata": {},
   "source": [
    "**(d)** Squared bias (componenet of MSE)\n",
    "\n",
    "Increasing $ \\lambda $ from 0 (OLS equivalent), the bias will increase with less flexibility in the model. The answer is (iii.) Steadily increase.\n"
   ]
  },
  {
   "cell_type": "markdown",
   "metadata": {},
   "source": [
    "**(e)** Irreducible error (componenet of MSE)\n",
    "\n",
    "This is the lowest possible (Bayesian) error, and is constant. The answer is (v.) remain constant."
   ]
  },
  {
   "cell_type": "markdown",
   "metadata": {},
   "source": [
    "### 5\n",
    "\n",
    "It is well-known that ridge regression tends to give similar coefficient values to correlated variables, whereas the lasso may give quite different coefficient values to correlated variables. We will now explore this property in a very simple setting.\n",
    "\n",
    "Suppose that $ n = 2, p = 2, x_{11} = x_{12}, x_{21} = x_{22} $. Furthermore, suppose that $ y_1 + y_2 = 0 $ and $ x_{11} + x_{21} = 0 $ and $ x_{12} + x_{22} = 0 $, so that the estimate for the intercept in a least squares, ridge regression, or lasso model is zero: $ \\hat{\\beta}_0 = 0 $."
   ]
  },
  {
   "cell_type": "markdown",
   "metadata": {},
   "source": [
    "**(a)**\n",
    "\n",
    "Write out the ridge regression optimization problem in this setting.\n",
    "\n",
    "$$ \\hat{\\beta} = \\argmin_{\\beta} \\Biggl( \\sum_{j=1}^p (y_j - X \\beta_j)^2 + \\lambda \\sum_{j=1}^p \\beta_j^2 \\Biggr) $$ \n",
    "\n",
    "$$ \\hat{\\beta} = \\argmin_{\\beta} \\Biggl( (y_1 - [x_{11} x_{12}] [\\beta_1 \\beta_2]^T)^2 + (y_2 - [x_{21} x_{22}] [\\beta_1 \\beta_2]^T )^2 + \\lambda (  \\beta_1^2 + \\beta_2^2) \\Biggr) $$ \n",
    "\n",
    "$$ \\hat{\\beta} = \\argmin_{\\beta} \\Biggl( (y_1 - \\beta_1 x_{11} - \\beta_2 x_{12})^2 + (y_2 - \\beta_1 x_{21} - \\beta_2x_{22})^2 + \\lambda \\beta_1^2 + \\lambda \\beta_2^2 \\Biggr) $$ "
   ]
  },
  {
   "cell_type": "markdown",
   "metadata": {},
   "source": [
    "Using the fact that $ x_{11} = x_{12} = x_1 $ and $ x_{21} = x_{22} = x_2 $ and $ y_1 + y_2 = 0 $\n",
    "\n",
    "$$ \\hat{\\beta} = \\argmin_{\\beta} \\Biggl( (y_1 - x_1 ( \\beta_1 + \\beta_2 ) )^2 + (y_2 - x_2 (\\beta_1 +\\beta_2) )^2 + \\lambda \\beta_1^2 + \\lambda \\beta_2^2 \\Biggr) $$\n",
    "\n",
    "$$ \\hat{\\beta} = \\argmin_{\\beta} \\Biggl( y_1^2 + x_1^2 ( \\beta_1 + \\beta_2 )^2 - 2 y_1 x_1 (\\beta_1 + \\beta_2)  + y_2^2 + x_2^2 (\\beta_1 +\\beta_2)^2 -2 y_2 x_2 (\\beta_1 +\\beta_2) + \\lambda \\beta_1^2 + \\lambda \\beta_2^2 \\Biggr) $$\n",
    "\n",
    "$$ \\hat{\\beta} = \\argmin_{\\beta} \\Biggl( y_1^2 + x_1^2 ( \\beta_1^2 + \\beta_2^2 + 2 \\beta_1 \\beta_2 ) - 2 y_1 x_1 (\\beta_1 + \\beta_2)  + y_2^2 + x_2^2 (\\beta_1^2 + \\beta_2^2 + 2 \\beta_1 \\beta_2) -2 y_2 x_2 (\\beta_1 +\\beta_2) + \\lambda \\beta_1^2 + \\lambda \\beta_2^2 \\Biggr) $$\n",
    "\n",
    "$$ \\hat{\\beta} = \\argmin_{\\beta} \\Biggl( y_1^2 + ( \\beta_1^2 x_1^2 + \\beta_2^2 x_1^2 + 2 \\beta_1 \\beta_2 x_1^2 ) - 2 y_1 x_1 \\beta_1 - 2 y_1 x_1  \\beta_2  + y_2^2 + (\\beta_1^2 x_2^2 + \\beta_2^2 x_2^2 + 2 \\beta_1 \\beta_2 x_2^2) -2 y_2 x_2 \\beta_1 -2 y_2 x_2 \\beta_2 + \\lambda \\beta_1^2 + \\lambda \\beta_2^2 \\Biggr) $$\n"
   ]
  },
  {
   "cell_type": "markdown",
   "metadata": {},
   "source": [
    "Taking the partial derivative with respect to $ \\beta_1 $\n",
    "\n",
    "$$ 0 = \\frac{\\partial}{\\partial \\beta_1} \\Biggl( y_1^2 + ( \\beta_1^2 x_1^2 + \\beta_2^2 x_1^2 + 2 \\beta_1 \\beta_2 x_1^2 ) - 2 y_1 x_1 \\beta_1 - 2 y_1 x_1  \\beta_2  + y_2^2 + (\\beta_1^2 x_2^2 + \\beta_2^2 x_2^2 + 2 \\beta_1 \\beta_2 x_2^2) -2 y_2 x_2 \\beta_1 -2 y_2 x_2 \\beta_2 + \\lambda \\beta_1^2 + \\lambda \\beta_2^2 \\Biggr) $$\n",
    "\n",
    "$$ 0 =  ( 2 \\beta_1 x_1^2 + 2 \\beta_2 x_1^2 ) - 2 y_1 x_1 + ( 2 \\beta_1 x_2^2 + 2 \\beta_2 x_2^2) - 2 y_2 x_2 + 2 \\lambda \\beta_1   $$\n",
    "\n",
    "$$ 0 =  \\beta_1 (x_1^2 + x_2^2 + \\lambda) + \\beta_2 (x_1^2 + x_2^2 ) - y_1 x_1  - y_2 x_2   $$"
   ]
  },
  {
   "cell_type": "markdown",
   "metadata": {},
   "source": [
    "Taking the partial derivative with respect to $ \\beta_2 $\n",
    "\n",
    "$$ 0 = \\frac{\\partial}{\\partial \\beta_2} \\Biggl( y_1^2 + ( \\beta_1^2 x_1^2 + \\beta_2^2 x_1^2 + 2 \\beta_1 \\beta_2 x_1^2 ) - 2 y_1 x_1 \\beta_1 - 2 y_1 x_1  \\beta_2  + y_2^2 + (\\beta_1^2 x_2^2 + \\beta_2^2 x_2^2 + 2 \\beta_1 \\beta_2 x_2^2) -2 y_2 x_2 \\beta_1 -2 y_2 x_2 \\beta_2 + \\lambda \\beta_1^2 + \\lambda \\beta_2^2 \\Biggr) $$\n",
    "\n",
    "$$ 0 =  2 \\beta_2 x_1^2 + 2 \\beta_1 x_1^2 - 2 y_1 x_1 + 2 \\beta_2 x_2^2 + 2 \\beta_1 x_2^2 - 2 y_2 x_2 + 2 \\lambda \\beta_2  $$\n",
    "\n",
    "$$ 0 =  \\beta_2 ( x_1^2 + x_2^2 + \\lambda) + \\beta_1 ( x_1^2 + x_2^2 ) - y_1 x_1 - y_2 x_2 $$"
   ]
  },
  {
   "cell_type": "markdown",
   "metadata": {},
   "source": [
    "The optimization system is\n",
    "\n",
    "$$ 0 =  \\beta_1 (x_1^2 + x_2^2 + \\lambda) + \\beta_2 (x_1^2 + x_2^2 ) - y_1 x_1  - y_2 x_2   $$\n",
    "\n",
    "$$ 0 =  \\beta_2 ( x_1^2 + x_2^2 + \\lambda) + \\beta_1 ( x_1^2 + x_2^2 ) - y_1 x_1 - y_2 x_2 $$"
   ]
  },
  {
   "cell_type": "markdown",
   "metadata": {},
   "source": [
    "Substitute\n",
    "\n",
    "$$ (x_1^2 + x_2^2) = (x_1^2 - x_2^2) + 2 x_2^2 $$\n",
    "\n",
    "And can factor\n",
    "\n",
    "$$ (x_1^2 - x_2^2) $$\n",
    "\n",
    "$$ (x_1 + x_2) (x_1 - x_2) $$\n",
    "\n",
    "Using the fact that $ x_1 + x_2 = 0 $, we know that $ (x_1^2 - x_2^2) = 0 $, and so in this special case\n",
    "\n",
    "$$ (x_1^2 + x_2^2) = 2 x_2^2 $$\n"
   ]
  },
  {
   "cell_type": "markdown",
   "metadata": {},
   "source": [
    "We can rewdrite the optimization system as\n",
    "\n",
    "$$ 0 =  \\beta_1 (2x_2^2 + \\lambda) + \\beta_2 (2x_2^2 ) - y_1 x_1  - y_2 x_2   $$\n",
    "\n",
    "$$ 0 =  \\beta_2 (2x_2^2 + \\lambda) + \\beta_1 ( 2x_2^2 ) - y_1 x_1 - y_2 x_2 $$"
   ]
  },
  {
   "cell_type": "markdown",
   "metadata": {},
   "source": [
    "**(b)** Argue that in this setting, the ridge coefficient estimates satisfy $ \\hat{\\beta}_1 = \\hat{\\beta}_2 $.\n",
    "\n",
    "Write the system as\n",
    "\n",
    "$$ 0 =  a \\beta_1 + b \\beta_2 + c $$\n",
    "\n",
    "$$ 0 =  a \\beta_2 + b \\beta_1 + c $$\n"
   ]
  },
  {
   "cell_type": "markdown",
   "metadata": {},
   "source": [
    "Set the two sides equal to one another\n",
    "\n",
    "$$  a \\beta_1 + b \\beta_2 = a \\beta_2 + b \\beta_1  $$\n",
    "\n",
    "$$  a \\beta_1 - b \\beta_1  = a \\beta_2  - b \\beta_2 $$\n",
    "\n",
    "$$  \\beta_1 (a - b )  = \\beta_2 (a - b) $$\n",
    "\n",
    "$$  \\beta_1  = \\beta_2 $$\n",
    "\n",
    "\n",
    "SO, there are many solutions, as longa as $ \\beta_1  = \\beta_2 $.\n"
   ]
  },
  {
   "cell_type": "markdown",
   "metadata": {},
   "source": [
    "**Algibraically** \n",
    "\n",
    "Solve 2nd equation for $ \\beta_1 $\n",
    "\n",
    "$$  b \\beta_1 = - a \\beta_2 - c $$\n",
    "\n",
    "$$  \\beta_1 = - (a/b) \\beta_2 - c/b $$\n"
   ]
  },
  {
   "cell_type": "markdown",
   "metadata": {},
   "source": [
    "Substitute $ \\beta_1 $ into 2st equation\n",
    "\n",
    "$$ 0 =  a \\biggl[ (a/b) \\beta_2 - c/b \\biggr] + b \\beta_2 + c $$\n",
    "\n",
    "$$ 0 =  (aa/b) \\beta_2 - c/b + b \\beta_2 + c $$\n",
    "\n",
    "$$ (aa/b) \\beta_2 + b \\beta_2  = c/b - c $$\n",
    "\n",
    "$$  \\beta_2 \\biggl[  (aa/b) + b \\biggr]  = c/b - c $$\n",
    "\n",
    "$$  \\beta_2  = \\biggl[ c/b - c \\biggr] / \\biggl[  (aa/b) + b \\biggr] $$\n",
    "\n",
    "Solve for $ \\beta_1 $\n",
    "\n",
    "$$  \\beta_1 = - (a/b) \\beta_2 - c/b $$\n",
    "\n",
    "$$  \\beta_1 = - (a/b)      \\biggl[ c/b - c \\biggr] / \\biggl[  (aa/b) + b \\biggr]       - c/b $$\n",
    "\n",
    "$$  \\beta_1 =     \\biggl[ - ac/bb + ac/b \\biggr] / \\biggl[  (aa/b) + b \\biggr]       - c/b $$\n",
    "\n",
    "$$  \\beta_1 =     \\biggl[ - ac/b + ac \\biggr] / \\biggl[  (aa) + bb \\biggr]       - c/b $$\n",
    "\n",
    "(What a mess...)\n"
   ]
  },
  {
   "cell_type": "markdown",
   "metadata": {},
   "source": [
    "**(c)** Write out the lasso optimization problem in this setting.\n",
    "\n",
    "$$ \\hat{\\beta} = \\argmin_{\\beta} \\Biggl( \\sum_{j=1}^p (y_j - X \\beta_j)^2 + \\lambda \\sum_{j=1}^p | \\beta_j | \\Biggr) $$ \n"
   ]
  },
  {
   "cell_type": "markdown",
   "metadata": {},
   "source": [
    "Using the fact that $ x_{11} = x_{12} = x_1 $ and $ x_{21} = x_{22} = x_2 $ and $ y_1 + y_2 = 0 $\n",
    "\n",
    "$$ \\hat{\\beta} = \\argmin_{\\beta} \\Biggl( y_1^2 + ( \\beta_1^2 x_1^2 + \\beta_2^2 x_1^2 + 2 \\beta_1 \\beta_2 x_1^2 ) - 2 y_1 x_1 \\beta_1 - 2 y_1 x_1  \\beta_2  + y_2^2 + (\\beta_1^2 x_2^2 + \\beta_2^2 x_2^2 + 2 \\beta_1 \\beta_2 x_2^2) -2 y_2 x_2 \\beta_1 -2 y_2 x_2 \\beta_2 + \\lambda | \\beta_1 | + \\lambda | \\beta_2 | \\Biggr) $$\n",
    "\n"
   ]
  },
  {
   "cell_type": "markdown",
   "metadata": {},
   "source": [
    "Taking the partial derivative with respect to $ \\beta_1 $\n",
    "\n",
    "$$ 0 = \\frac{\\partial}{\\partial \\beta_1} \\Biggl( y_1^2 + ( \\beta_1^2 x_1^2 + \\beta_2^2 x_1^2 + 2 \\beta_1 \\beta_2 x_1^2 ) - 2 y_1 x_1 \\beta_1 - 2 y_1 x_1  \\beta_2  + y_2^2 + (\\beta_1^2 x_2^2 + \\beta_2^2 x_2^2 + 2 \\beta_1 \\beta_2 x_2^2) -2 y_2 x_2 \\beta_1 -2 y_2 x_2 \\beta_2 + \\lambda | \\beta_1 |+ \\lambda | \\beta_2 | \\Biggr) $$\n",
    "\n",
    "$$ 0 =  ( 2 \\beta_1 x_1^2 + 2 \\beta_2 x_1^2 ) - 2 y_1 x_1 + ( 2 \\beta_1 x_2^2 + 2 \\beta_2 x_2^2) - 2 y_2 x_2 + \\lambda  $$\n",
    "\n",
    "$$ 0 =  \\beta_1 (x_1^2 + x_2^2 ) + \\beta_2 (x_1^2 + x_2^2 ) - y_1 x_1  - y_2 x_2 + \\lambda /2 $$"
   ]
  },
  {
   "cell_type": "markdown",
   "metadata": {},
   "source": [
    "Taking the partial derivative with respect to $ \\beta_2 $\n",
    "\n",
    "$$ 0 = \\frac{\\partial}{\\partial \\beta_2} \\Biggl( y_1^2 + ( \\beta_1^2 x_1^2 + \\beta_2^2 x_1^2 + 2 \\beta_1 \\beta_2 x_1^2 ) - 2 y_1 x_1 \\beta_1 - 2 y_1 x_1  \\beta_2  + y_2^2 + (\\beta_1^2 x_2^2 + \\beta_2^2 x_2^2 + 2 \\beta_1 \\beta_2 x_2^2) -2 y_2 x_2 \\beta_1 -2 y_2 x_2 \\beta_2 + \\lambda | \\beta_1 | + \\lambda | \\beta_2 | \\Biggr) $$\n",
    "\n",
    "$$ 0 =  2 \\beta_2 x_1^2 + 2 \\beta_1 x_1^2 - 2 y_1 x_1 + 2 \\beta_2 x_2^2 + 2 \\beta_1 x_2^2 - 2 y_2 x_2 + \\lambda   $$\n",
    "\n",
    "$$ 0 =  \\beta_2 ( x_1^2 + x_2^2 ) + \\beta_1 ( x_1^2 + x_2^2 ) - y_1 x_1 - y_2 x_2 + \\lambda /2$$"
   ]
  },
  {
   "cell_type": "markdown",
   "metadata": {},
   "source": [
    "The optimization system is\n",
    "\n",
    "$$ 0 =  \\beta_1 (x_1^2 + x_2^2 ) + \\beta_2 (x_1^2 + x_2^2) - y_1 x_1  - y_2 x_2 + \\lambda /2 $$\n",
    "\n",
    "$$ 0 =  \\beta_2 ( x_1^2 + x_2^2 ) + \\beta_1 ( x_1^2 + x_2^2) - y_1 x_1 - y_2 x_2 + \\lambda /2$$"
   ]
  },
  {
   "cell_type": "markdown",
   "metadata": {},
   "source": [
    "Which we can rewrite, as before\n",
    "\n",
    "$$ 0 =  \\beta_1 ( 2 x_2^2 ) + \\beta_2 ( 2 x_2^2 ) - y_1 x_1  - y_2 x_2 + \\lambda /2 $$\n",
    "\n",
    "$$ 0 =  \\beta_2 ( 2 x_2^2 ) + \\beta_1 ( 2 x_2^2 ) - y_1 x_1 - y_2 x_2 + \\lambda /2$$\n",
    "\n",
    "In this case, the minimizatino system yields two identical equations, so we cannot solve the system (the two lines run in parallel)."
   ]
  },
  {
   "cell_type": "markdown",
   "metadata": {},
   "source": [
    "**(d)** Argue that in this setting, the lasso coefficients $ \\hat{\\beta}_1 $ and $ \\hat{\\beta}_2 $ are not unique -- in other words, there are many possible solutions to the optimization problem in (c). Describe these solutions.\n",
    "\n",
    "\n",
    "Write the system as\n",
    "\n",
    "$$ 0 =  a \\beta_1 + a \\beta_2 + c $$\n",
    "\n",
    "$$ 0 =  a \\beta_2 + a \\beta_1 + c $$"
   ]
  },
  {
   "cell_type": "markdown",
   "metadata": {},
   "source": [
    "Set the two sides equal to one another\n",
    "\n",
    "$$ a \\beta_1 + a \\beta_2 = a \\beta_1 + a \\beta_2 $$\n",
    "\n",
    "$$ \\beta_1 + \\beta_2 = \\beta_1 + \\beta_2 $$\n",
    "\n",
    "$$ \\beta_1 - \\beta_1 = \\beta_2 - \\beta_2 $$\n",
    "\n",
    "The only definite statement we can make is that sum to a constant, that is, they differe by a fixed amount\n",
    "\n",
    "$$ \\beta_1 + \\beta_2 = -c/a =  (-) \\frac{- y_1 x_1  - y_2 x_2 + \\lambda /2}{x_1^2 + x_2^2} $$\n",
    "\n",
    "$$ \\beta_1 + \\beta_2  =  \\frac{y_1 x_1 + y_2 x_2 - \\lambda /2}{x_1^2 + x_2^2} $$"
   ]
  },
  {
   "cell_type": "markdown",
   "metadata": {},
   "source": [
    "### 6\n",
    "\n",
    "We will now explore (6.12) and (6.13) further."
   ]
  },
  {
   "cell_type": "markdown",
   "metadata": {},
   "source": [
    "**(a)** Consider (6.12) with $ p = 1 $. For some choice of $ y_1 $ and $ \\lambda > 0 $, plot (6.12) as a function of $ \\beta_1 $. Your plot should confirm that (6.12) is solved by (6.14).\n",
    "\n",
    "$$ \\sum_{j=1}^p (y_j - \\beta_j)^2 + \\lambda \\sum_{j=1}^p \\beta_j^2 $$\n",
    "\n",
    "with $ n = p = 1 $\n",
    "\n",
    "$$ (y_1 - \\beta_1)^2 + \\lambda \\beta_1^2 $$\n"
   ]
  },
  {
   "cell_type": "code",
   "execution_count": 1,
   "metadata": {},
   "outputs": [],
   "source": [
    "import numpy as np\n",
    "import pandas as pd\n",
    "from matplotlib.pyplot import subplots"
   ]
  },
  {
   "cell_type": "code",
   "execution_count": 17,
   "metadata": {},
   "outputs": [
    {
     "data": {
      "image/png": "[encoded data removed]",
      "text/plain": [
       "<Figure size 500x500 with 1 Axes>"
      ]
     },
     "metadata": {},
     "output_type": "display_data"
    }
   ],
   "source": [
    "beta = np.arange(100)\n",
    "y = 50\n",
    "lam = 1\n",
    "rss_ridge = (y - beta)**2 + lam * beta**2\n",
    "\n",
    "fig, ax = subplots(figsize=(5,5))\n",
    "ax.scatter(beta, rss_ridge);"
   ]
  },
  {
   "cell_type": "code",
   "execution_count": 15,
   "metadata": {},
   "outputs": [
    {
     "data": {
      "text/plain": [
       "True"
      ]
     },
     "execution_count": 15,
     "metadata": {},
     "output_type": "execute_result"
    }
   ],
   "source": [
    "min1 = rss_ridge.argmin()\n",
    "\n",
    "min2 = y/(1 + lam)\n",
    "\n",
    "np.allclose(min1, min2)"
   ]
  },
  {
   "cell_type": "markdown",
   "metadata": {},
   "source": [
    "**(b)** Consider (6.13) with $p = 1$. For some choice of $ y_1 $ and $ \\lambda > 0 $, plot (6.13) as a function of $ \\beta_1 $. Your plot should confirm that (6.13) is solved by (6.15).\n",
    "\n",
    "\n",
    "$$ \\sum_{j=1}^p (y_j - \\beta_j)^2 + \\lambda \\sum_{j=1}^p | \\beta_j | $$\n",
    "\n",
    "with $ n = p = 1 $\n",
    "\n",
    "$$ (y_1 - \\beta_1)^2 + \\lambda | \\beta_1 | $$"
   ]
  },
  {
   "cell_type": "code",
   "execution_count": 18,
   "metadata": {},
   "outputs": [
    {
     "data": {
      "image/png": "[encoded data removed]",
      "text/plain": [
       "<Figure size 500x500 with 1 Axes>"
      ]
     },
     "metadata": {},
     "output_type": "display_data"
    }
   ],
   "source": [
    "beta = np.arange(100)\n",
    "y = 50\n",
    "lam = 1\n",
    "rss_lasso = (y - beta)**2 + lam * np.abs(beta)\n",
    "\n",
    "fig, ax = subplots(figsize=(5,5))\n",
    "ax.scatter(beta, rss_lasso);"
   ]
  },
  {
   "cell_type": "code",
   "execution_count": 29,
   "metadata": {},
   "outputs": [
    {
     "data": {
      "text/plain": [
       "True"
      ]
     },
     "execution_count": 29,
     "metadata": {},
     "output_type": "execute_result"
    }
   ],
   "source": [
    "min1 = rss_lasso.argmin()\n",
    "\n",
    "if (y > lam/2):\n",
    "    min2 = y - lam/2\n",
    "elif (y < -lam/2):\n",
    "    min2 = y + lam/2\n",
    "else:\n",
    "    min2 = 0\n",
    "\n",
    "np.allclose(min1, min2, atol= 0.5)"
   ]
  },
  {
   "cell_type": "markdown",
   "metadata": {},
   "source": [
    "### 7\n",
    "\n",
    "We will now derive the Bayesian connection to the lasso and ridge regression discussed in Section 6.2.2."
   ]
  },
  {
   "cell_type": "markdown",
   "metadata": {},
   "source": [
    "**(a)** Suppose that $ y_i = \\beta_0 + \\sum_{j=1}^p x_{ij} \\beta_j + \\epsilon_i $ where $ \\epsilon_1, \\ldots , \\epsilon_n $ are independent and identically distributed from a $N(0, \\sigma^2) $ distribution. Write out the likelihood for the data."
   ]
  },
  {
   "cell_type": "markdown",
   "metadata": {},
   "source": [
    "The likelihood function for the data in a simple linear model, where $ \\beta = \\beta_0, \\beta_1, \\ldots, \\beta_j$, is\n",
    "\n",
    "$$ f(Y | X, \\beta) = L(\\beta, \\sigma^2 | Y, X) = \\prod_{i=1}^{n} \\frac{1}{\\sqrt{2\\pi\\sigma^2}} \\exp\\left( -\\frac{(y_i - \\beta_0 - \\sum_{j=1}^p x_{ij} \\beta_j  )^2}{2\\sigma^2} \\right) $$\n",
    "\n",
    "which is a product of normal distributions. This is the case because the only variability in the model comes from the error term $ \\epsilon $, which is i.i.d. with a normal distribution by assumption. Therefor, the likelihood function is the product of a series of normal distributions, each centered around $ y_i $ with mean given by the linear model itself: $ \\beta_0 + \\sum_{j=1}^p x_{ij} \\beta_j $.\n",
    "\n",
    "Simplifiying\n",
    "\n",
    "$$ f(Y | X, \\beta) = \\frac{1}{(\\sqrt{2\\pi\\sigma^2})^n} \\prod_{i=1}^{n} \\exp\\left( -\\frac{(y_i - \\beta_0 - \\sum_{j=1}^p x_{ij} \\beta_j  )^2}{2\\sigma^2} \\right) $$\n",
    "\n",
    "$$ f(Y | X, \\beta) = \\frac{1}{(2\\pi\\sigma^2)^{n/2}} \\exp\\left( \\sum_{i=1}^{n}  -\\frac{(y_i - \\beta_0 - \\sum_{j=1}^p x_{ij} \\beta_j  )^2}{2\\sigma^2} \\right) $$\n",
    "\n",
    "$$ f(Y | X, \\beta) = (2\\pi\\sigma^2)^{-n/2} \\exp\\left( -\\frac{1}{2\\sigma^2} \\sum_{i=1}^{n}  (y_i - \\beta_0 - \\sum_{j=1}^p x_{ij} \\beta_j  )^2 \\right) $$"
   ]
  },
  {
   "cell_type": "markdown",
   "metadata": {},
   "source": [
    "**(b)** Assume the following prior for $ \\beta $: $\\beta_1, \\ldots, \\beta_p $ are independent and identically distributed according to a double-exponential distribution with mean 0 and common scale parameter $ b $: i.e.\n",
    "\n",
    "$$ p(\\beta) = \\frac{1}{2b} \\exp(−|\\beta|/b) $$\n",
    "\n",
    "Write out the posterior for $ \\beta $ in this setting."
   ]
  },
  {
   "cell_type": "markdown",
   "metadata": {},
   "source": [
    "Assume $ p(\\beta) $ takes the form\n",
    "\n",
    "$$ p(\\beta) = \\prod_{j=1}^p g(\\beta_j) $$\n",
    "\n",
    "where $ g(\\cdot) $ is the distribution of an individual $ \\beta $. If individual $ \\beta s $ are distributed double-exponential, the prior becomes\n",
    "\n",
    "$$ p(\\beta) = \\prod_{j=1}^p \\frac{1}{2b} \\exp(−|\\beta|/b)  $$\n",
    "\n",
    "$$ p(\\beta) = \\frac{1}{(2b)^p}  \\exp( \\sum_{j=1}^p  −|\\beta_j|/b)  $$\n",
    "\n",
    "$$ p(\\beta) = (2b)^{-p} \\exp( -\\frac{1}{pb} \\sum_{j=1}^p |\\beta_j|)  $$"
   ]
  },
  {
   "cell_type": "markdown",
   "metadata": {},
   "source": [
    "The posterior distribution takes the form\n",
    "\n",
    "$$ p(\\beta | X, Y) \\propto f(Y | X, \\beta) p(\\beta | X) = f(Y | X, \\beta) p(\\beta) $$\n",
    "\n",
    "Technically\n",
    "\n",
    "$$ p(\\beta | X, Y) = \\frac{f(Y | X, \\beta) p(\\beta | X)}{P(Y | X)}  $$\n",
    "\n"
   ]
  },
  {
   "cell_type": "markdown",
   "metadata": {},
   "source": [
    "Substituting\n",
    "\n",
    "$$ p(\\beta | X, Y) \\propto f(Y | X, \\beta) p(\\beta) =  (2\\pi\\sigma^2)^{-n/2} \\exp\\left( -\\frac{1}{2\\sigma^2} \\sum_{i=1}^{n}  (y_i - \\beta_0 - \\sum_{j=1}^p x_{ij} \\beta_j  )^2 \\right) (2b)^{-p} \\exp( -\\frac{1}{pb} \\sum_{j=1}^p |\\beta_j|)  $$\n",
    "\n",
    "Taking logs\n",
    "\n",
    "$$ \\ln p(\\beta | X, Y) = -n/2 \\ln (2\\pi\\sigma^2) + \\left( -\\frac{1}{2\\sigma^2} \\sum_{i=1}^{n}  (y_i - \\beta_0 - \\sum_{j=1}^p x_{ij} \\beta_j  )^2 \\right) -p \\ln (2b) -\\frac{1}{pb} \\sum_{j=1}^p |\\beta_j| $$\n",
    "\n",
    "$$ \\ln p(\\beta | X, Y) = \\Biggl[ -n/2 \\ln (2\\pi\\sigma^2) -p \\ln (2b) \\Biggr]  -\\frac{1}{2\\sigma^2} \\Biggl[ \\sum_{i=1}^{n}  (y_i - \\beta_0 - \\sum_{j=1}^p x_{ij} \\beta_j  )^2 \\Biggr]  -  \\Biggl[ \\frac{1}{pb}  \\sum_{j=1}^p |\\beta_j| \\Biggr] $$\n",
    "\n"
   ]
  },
  {
   "cell_type": "markdown",
   "metadata": {},
   "source": [
    "**(c)** Argue that the lasso estimate is the *mode* for $ \\beta $ under this posterior distribution.\n",
    "\n",
    "Maximization of this log-likelihood function is equal to minimization of its opposite. The first term is a constant, and does not influence maximization. Maximization of the 2nd term is minimizatino of the RSS term in the lasso. Maximization of the 3rd term is minimization of the penalty term in the lasso, in which $ 1/pb = \\lambda $.\n",
    "\n",
    "In this case, the $ \\beta $ posterior is the product of a normal and double-exponential distribution, and in this case the mean is not equal to the mode. Note that $ \\lambda $ is not a mere constant, but rather a function of the number of parameters, $ p $."
   ]
  },
  {
   "cell_type": "markdown",
   "metadata": {},
   "source": [
    "**(d)** Now assume the following prior for $ \\beta $: $\\beta_1, \\ldots, \\beta_p $  are independent and identically distributed according to a normal distribution with mean zero and variance *c*. Write out the posterior for $ \\beta $ in this setting."
   ]
  },
  {
   "cell_type": "markdown",
   "metadata": {},
   "source": [
    "Now $ p(\\beta) $ takes the general form\n",
    "\n",
    "$$ p(\\beta) = \\prod_{j=1}^p g(\\beta_j) $$\n",
    "\n",
    "where $ g(\\cdot) $ is the normal distribution. So $ p(\\beta) $ is\n",
    "\n",
    "$$ p(\\beta) = \\prod_{j=1}^p \\frac{1}{\\sqrt{2\\pi c}} \\exp\\left( -\\frac{\\beta_j^2}{2 c} \\right) $$\n",
    "\n",
    "$$ p(\\beta) = (2 \\pi c)^{-p/2} \\prod_{j=1}^p \\exp\\left( -\\frac{\\beta_j^2}{2 c} \\right) $$\n",
    "\n",
    "Taking logs\n",
    "\n",
    "$$ \\ln p(\\beta) = -\\frac{p}{2} \\ln (2 \\pi c) +  \\sum_{j=1}^p \\left( -\\frac{\\beta_j^2}{2 c} \\right) $$\n",
    "\n",
    "$$ \\ln p(\\beta) = -\\frac{p}{2} \\ln (2 \\pi c) - \\frac{1}{2c} \\sum_{j=1}^p \\beta_j^2 $$\n",
    "\n",
    "Adding this to $ \\ln f(Y | \\beta, X ) $\n",
    "\n",
    "$$ \\ln p(\\beta | X, Y) = -n/2 \\ln (2\\pi\\sigma^2) + \\left( -\\frac{1}{2\\sigma^2} \\sum_{i=1}^{n}  (y_i - \\beta_0 - \\sum_{j=1}^p x_{ij} \\beta_j  )^2 \\right)  -\\frac{p}{2} \\ln (2 \\pi c) - \\frac{1}{2c} \\sum_{j=1}^p \\beta_j^2 $$\n",
    "\n",
    "$$ \\ln p(\\beta | X, Y) = \\Biggl[ -n/2 \\ln (2\\pi\\sigma^2) -\\frac{p}{2} \\ln (2 \\pi c) \\Biggr]  -\\frac{1}{2\\sigma^2} \\Biggl[ \\sum_{i=1}^{n}  (y_i - \\beta_0 - \\sum_{j=1}^p x_{ij} \\beta_j  )^2 \\Biggr]  - \\frac{1}{2c} \\Biggl[ \\sum_{j=1}^p \\beta_j^2 \\Biggr] $$"
   ]
  },
  {
   "cell_type": "markdown",
   "metadata": {},
   "source": [
    "**(e)** Argue that the ridge regression estimate is both the *mode* and the *mean* for $ \\beta $ under this posterior distribution."
   ]
  },
  {
   "cell_type": "markdown",
   "metadata": {},
   "source": [
    "As before, maximization of this log-likelihood function is equal to minimization of its opposite. The first term is a constant, and does not influence maximization. Maximization of the 2nd term is minimizatino of the RSS term in the ridge. Maximization of the 3rd term is minimization of the penalty term in the ridge, in which $ 1/2c = \\lambda $.\n",
    "\n",
    "The ridge regression estimates are equal to both the mean and mode of the $ \\beta $ posterior (via maximum likelihood) becuase the posterior if a function of multiple normal distributions, in which the mean is equal to the mode."
   ]
  }
 ],
 "metadata": {
  "kernelspec": {
   "display_name": "islp",
   "language": "python",
   "name": "python3"
  },
  "language_info": {
   "codemirror_mode": {
    "name": "ipython",
    "version": 3
   },
   "file_extension": ".py",
   "mimetype": "text/x-python",
   "name": "python",
   "nbconvert_exporter": "python",
   "pygments_lexer": "ipython3",
   "version": "3.11.5"
  }
 },
 "nbformat": 4,
 "nbformat_minor": 2
}
