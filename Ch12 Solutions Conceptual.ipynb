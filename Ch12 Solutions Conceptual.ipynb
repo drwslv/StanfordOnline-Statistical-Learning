{
 "cells": [
  {
   "cell_type": "markdown",
   "metadata": {},
   "source": [
    "# Chapter 10 - Excercise Solutions - Conceptual"
   ]
  },
  {
   "cell_type": "markdown",
   "metadata": {},
   "source": [
    "## 1\n",
    "\n",
    "This problem involves the K-means clustering algorithm."
   ]
  },
  {
   "cell_type": "markdown",
   "metadata": {},
   "source": [
    "**(a)** Prove (12.18)."
   ]
  },
  {
   "cell_type": "markdown",
   "metadata": {},
   "source": [
    "$$ \\frac{1}{|C_k|} \\sum_{i,i' \\in C_k} \\sum_{j=1}^{p} (x_{ij} - x_{i'j'})^2 = 2 \\sum_{i \\in C_k} \\sum_{j=1}^{p} (x_{ij} - \\bar{x}_{kj})^2 $$"
   ]
  },
  {
   "cell_type": "markdown",
   "metadata": {},
   "source": [
    "Starting with the left side:\n",
    "\n",
    "$$ \\frac{1}{|C_k|} \\sum_{i,i' \\in C_k} \\sum_{j=1}^{p} (x_{ij} - x_{i'j'})^2 $$\n",
    "\n",
    "$$ \\sum_{j=1}^{p} \\frac{1}{C_k} \\sum_{i,i' \\in C_k} (x_{ij} - x_{i'j'}) (x_{ij} - x_{i'j'}) $$\n",
    "\n",
    "$$ \\sum_{j=1}^{p} \\frac{1}{C_k} \\sum_{i,i' \\in C_k} x_{ij}^2 - 2 x_{ij}x_{i'j'} + x_{i'j'}^2  $$\n",
    "\n",
    "$$ \\sum_{j=1}^{p} \\left[ \\frac{1}{C_k} \\sum_{i,i' \\in C_k} x_{ij}^2 - 2 \\frac{1}{C_k} \\sum_{i,i' \\in C_k}  x_{ij}x_{i'j'} +  \\frac{1}{C_k} \\sum_{i,i' \\in C_k} x_{i'j'}^2 \\right] $$\n",
    "\n",
    "$$ \\sum_{j=1}^{p} \\left[ 2 \\frac{1}{C_k} \\sum_{i,i' \\in C_k} x_{ij}^2 - 2 \\frac{1}{C_k} \\sum_{i,i' \\in C_k}  x_{ij}x_{i'j'} \\right] $$\n",
    "\n",
    "$$ \\sum_{j=1}^{p} \\left[ 2 \\frac{1}{C_k} \\sum_{i \\in C_k} \\sum_{i' \\in C_k} x_{ij}^2 - 2 \\frac{1}{C_k} \\sum_{i \\in C_k} \\sum_{i' \\in C_k} x_{ij}x_{i'j'} \\right] $$\n",
    "\n",
    "$$ \\sum_{j=1}^{p} \\left[ 2 \\frac{1}{C_k} \\sum_{i \\in C_k} C_k x_{ij}^2 - 2 \\frac{1}{C_k} \\sum_{i \\in C_k} x_{ij} \\sum_{i' \\in C_k} x_{i'j'} \\right] $$\n",
    "\n",
    "$$ LHS = 2 \\sum_{j=1}^{p} \\left[ \\sum_{i \\in C_k} x_{ij}^2 - \\frac{1}{C_k} \\sum_{i \\in C_k} x_{ij} \\sum_{i' \\in C_k} x_{i'j'} \\right] $$\n",
    "\n"
   ]
  },
  {
   "cell_type": "markdown",
   "metadata": {},
   "source": [
    "On the right side we have:\n",
    "\n",
    "$$ 2 \\sum_{i \\in C_k} \\sum_{j=1}^{p} (x_{ij} - \\bar{x}_{kj})^2 $$\n",
    "\n",
    "$$ 2 \\sum_{j=1}^{p} \\sum_{i \\in C_k} (x_{ij}   - \\bar{x}_{kj}) (x_{ij}   - \\bar{x}_{kj})  $$\n",
    "\n",
    "$$ 2 \\sum_{j=1}^{p} \\sum_{i \\in C_k} x_{ij}^2   -2 x_{ij} \\bar{x}_{kj}  + \\bar{x}_{kj}^2  $$\n",
    "\n",
    "$$ 2 \\sum_{j=1}^{p} \\left[ \\sum_{i \\in C_k} x_{ij}^2   -2 \\sum_{i \\in C_k} x_{ij} \\bar{x}_{kj}  + \\sum_{i \\in C_k} \\bar{x}_{kj}^2 \\right] $$\n",
    "\n",
    "$$ 2 \\sum_{j=1}^{p} \\left[ \\sum_{i \\in C_k} x_{ij}^2   -2 \\bar{x}_{kj} \\sum_{i \\in C_k} x_{ij}   + C_k \\bar{x}_{kj}^2 \\right] $$"
   ]
  },
  {
   "cell_type": "markdown",
   "metadata": {},
   "source": [
    "Substitute for $ \\bar{x_{kj}} $, noting:\n",
    "\n",
    "$$ \\bar{x}_{kj} = \\frac{1}{C_k} \\sum_{i \\in C_k} x_{ij} $$\n",
    "\n",
    "So we have:\n",
    "\n",
    "$$ 2 \\sum_{j=1}^{p} \\left[ \\sum_{i \\in C_k} x_{ij}^2   -2  \\frac{1}{C_k} \\sum_{i \\in C_k} x_{ij}  \\sum_{i \\in C_k} x_{ij}  + C_k \\left( \\frac{1}{C_k} \\sum_{i \\in C_k} x_{ij} \\right) ^2 \\right] $$\n",
    "\n",
    "$$ 2 \\sum_{j=1}^{p} \\left[ \\sum_{i \\in C_k} x_{ij}^2   -2  \\frac{1}{C_k} \\sum_{i \\in C_k} x_{ij}  \\sum_{i \\in C_k} x_{ij}  +  \\frac{1}{C_k} \\sum_{i \\in C_k} x_{ij}   \\sum_{i \\in C_k} x_{ij}\\right] $$\n",
    "\n",
    "$$ RHS = 2 \\sum_{j=1}^{p} \\left[ \\sum_{i \\in C_k} x_{ij}^2   -  \\frac{1}{C_k} \\sum_{i \\in C_k} x_{ij}   \\sum_{i \\in C_k} x_{ij}\\right] $$"
   ]
  },
  {
   "cell_type": "markdown",
   "metadata": {},
   "source": [
    "And so $LHS = RHS$."
   ]
  },
  {
   "cell_type": "markdown",
   "metadata": {},
   "source": [
    "**(b)** On the basis of this identity, argue that the *K*-means clustering algorithm (Algorithm 12.2) decreases the objective (12.17) at each iteration."
   ]
  },
  {
   "cell_type": "markdown",
   "metadata": {},
   "source": [
    "Given the identity in (12.18), minimizing (12.17) is equivalent to minimizing the RHS of (12.18) over all $K$ groups.\n",
    "\n",
    "The first part of Algorithm (12.2) involves calculating the centroid of each of the $K$ clusters. The centroid is indicated as $\\bar{x}_kj$ in the RHS of (12.18). The second part of Algorithm (12.2) involves assigning each observation to the cluster whose centroid is closest (by euclidian distance). This second step necessarily means that the quantitiy $ (x_{ij} = \\bar{x}_ij)^2 $ in the RHS of (12.18) will be minimized, and by the identity (12.18), (12.17) will also be minimized."
   ]
  },
  {
   "cell_type": "markdown",
   "metadata": {},
   "source": [
    "# 2\n",
    "\n",
    "Suppose that we have four observations, for which we compute a dissimilarity matrix, given by\n",
    "\n",
    "\\begin{bmatrix}\n",
    "    & 0.3 & 0.4 & 0.7 \\\\\n",
    "0.3 &     & 0.5 & 0.8 \\\\\n",
    "0.4 & 0.5 &     & 0.45 \\\\\n",
    "0.7 & 0.8 & 0.45 &  \n",
    "\\end{bmatrix}\n",
    "\n",
    "For instance, the dissimilarity between the first and second observations is 0.3, and the dissimilarity between the second and fourth observations is 0.8."
   ]
  },
  {
   "cell_type": "markdown",
   "metadata": {},
   "source": [
    "**(a)** On the basis of this dissimilarity matrix, sketch the dendrogram that results from hierarchically clustering these four observations using **complete** linkage. Be sure to indicate on the plot the height at which each fusion occurs, as well as the observations corresponding to each leaf in the dendrogram."
   ]
  },
  {
   "cell_type": "markdown",
   "metadata": {},
   "source": [
    "Assume the observations are labeled 1-4, in order of the rows/columns of the dissimilarity matrix.\n",
    "\n",
    "* First, obs. 1 and 2 will fuse at dissimilarity = 0.3.\n",
    "\n",
    "* The next smallest dissimilarity is between obs. 1 and 3, at dissimilarity = 0.4. However, obs. 3 will not fuse with 1 and 2, because by complete linkage, the maximum dissimilarity is between obs. 2 and 3, at dissimilarity = 0.5.\n",
    "\n",
    "* The nest smallest dissimilarity is between obs. 3 and 4, at dissimilarity = 0.45. Obs. 3 and 4 fuse to make a new group.\n",
    "\n",
    "* The only remaining possible fusiong is between the first group (obs. 1 and 2) and second group (Obs. 3 and 4), which by complete linkage will take place at dissimilarity = 0.8, which is the maximum dissimilarity between the nodes considered."
   ]
  },
  {
   "cell_type": "markdown",
   "metadata": {},
   "source": [
    "<img src=\"Ch12_2_Dendrogram_a.png\" width=\"500\"/>"
   ]
  },
  {
   "cell_type": "markdown",
   "metadata": {},
   "source": [
    "**(b)** Repeat (a), this time using single linkage clustering."
   ]
  },
  {
   "cell_type": "markdown",
   "metadata": {},
   "source": [
    "* The first fusion is the same, as it does not depend on the linkage type used: 1 and 2 fuse at dissimilarity = 0.3\n",
    "\n",
    "* The next smallest dissimilarit is between obs. 1 and 3, at dissimilarity = 0.4. The group formed with obs. 1 and 2 will then fuse with obs. 3 at dissimilariity = 0.4, since this is the minimum dissimilarity within the group and obs. 3.\n",
    "\n",
    "* The enlarged grop then fuses with obs. 4 at the minimum dissimilarity, which is 0.45, which is the dissimilarit between obs. 3 and obs. 4."
   ]
  },
  {
   "cell_type": "markdown",
   "metadata": {},
   "source": [
    "<img src=\"Ch12_2_Dendrogram_b.png\" width=\"500\"/>"
   ]
  },
  {
   "cell_type": "markdown",
   "metadata": {},
   "source": [
    "**(c)** Suppose that we cut the dendrogram obtained in (a) such that two clusters result. Which observations are in each cluster?"
   ]
  },
  {
   "cell_type": "markdown",
   "metadata": {},
   "source": [
    "To yield two clusters in (a) (complete linkage), the dendrogram could be cut anywhere between 0.45 and 0.8:\n",
    "\n",
    "* Cluster 1: obs. 1 and 2\n",
    "\n",
    "* Cluster 2: obs. 3 and 4"
   ]
  },
  {
   "cell_type": "markdown",
   "metadata": {},
   "source": [
    "**(d)** Suppose that we cut the dendrogram obtained in (b) such that two clusters result. Which observations are in each cluster?"
   ]
  },
  {
   "cell_type": "markdown",
   "metadata": {},
   "source": [
    "To yield two clusters in (b) (single linkage), the dendrogram could be cut anywhere between 0.4 and 0.45:\n",
    "\n",
    "* Cluster 1: obs. 1, 2, and 3\n",
    "\n",
    "* Cluster 2: 4\n"
   ]
  },
  {
   "cell_type": "markdown",
   "metadata": {},
   "source": [
    "**(e)** It is mentioned in this chapter that at each fusion in the den-drogram, the position of the two clusters being fused can be swapped without changing the meaning of the dendrogram. Draw a dendrogram that is equivalent to the dendrogram in (a), for which two or more of the leaves are repositioned, but for which the meaning of the dendrogram is the same."
   ]
  },
  {
   "cell_type": "markdown",
   "metadata": {},
   "source": [
    "<img src=\"Ch12_2_Dendrogram_c.png\" width=\"500\"/>"
   ]
  },
  {
   "cell_type": "markdown",
   "metadata": {},
   "source": [
    "# 3\n",
    "\n",
    "In this problem, you will perform $K$-means clustering manually, with $K = 2$, on a small example with $n = 6$ observations and $p = 2$ features. The observations are as follows.\n",
    "\n",
    "\\begin{array}{c|cccc}\n",
    "\\text{Obs.} & X_1 & X_2 \\\\\n",
    "\\hline\n",
    "\\text{1} & 1 & 4 \\\\\n",
    "\\text{2} & 1 & 3 \\\\\n",
    "\\text{3} & 0 & 4 \\\\\n",
    "\\text{4} & 5 & 1 \\\\\n",
    "\\text{5} & 6 & 2 \\\\\n",
    "\\text{6} & 4 & 0 \\\\\n",
    "\\end{array}"
   ]
  },
  {
   "cell_type": "markdown",
   "metadata": {},
   "source": [
    "**(a)** Plot the observations."
   ]
  },
  {
   "cell_type": "code",
   "execution_count": 42,
   "metadata": {},
   "outputs": [
    {
     "data": {
      "image/png": "[encoded data removed]",
      "text/plain": [
       "<Figure size 500x500 with 1 Axes>"
      ]
     },
     "metadata": {},
     "output_type": "display_data"
    }
   ],
   "source": [
    "import matplotlib.pyplot as plt\n",
    "import numpy as np\n",
    "\n",
    "x1 = np.array([1, 1, 0, 5, 6, 4])\n",
    "x2 = np.array([4, 3, 4, 1, 2, 0])\n",
    "\n",
    "fig, ax = plt.subplots(figsize=(5,5))\n",
    "ax.set_xticks([0, 1, 2, 3, 4, 5, 6])\n",
    "ax.set_yticks([0, 1, 2, 3, 4, 5, 6])\n",
    "ax.set_xlabel('x1')\n",
    "ax.set_ylabel('x2')\n",
    "ax.scatter(x1, x2);"
   ]
  },
  {
   "cell_type": "markdown",
   "metadata": {},
   "source": [
    "**(b)**  Randomly assign a cluster label to each observation. You can use the `np.random.choice()` function to do this. Report the cluster labels for each observation."
   ]
  },
  {
   "cell_type": "code",
   "execution_count": 31,
   "metadata": {},
   "outputs": [
    {
     "data": {
      "text/plain": [
       "array([0, 1, 1, 0, 1, 1])"
      ]
     },
     "execution_count": 31,
     "metadata": {},
     "output_type": "execute_result"
    }
   ],
   "source": [
    "cluster = np.random.choice(2, 6)\n",
    "cluster"
   ]
  },
  {
   "cell_type": "code",
   "execution_count": 44,
   "metadata": {},
   "outputs": [
    {
     "data": {
      "text/plain": [
       "array([[1, 4, 0],\n",
       "       [1, 3, 1],\n",
       "       [0, 4, 1],\n",
       "       [5, 1, 0],\n",
       "       [6, 2, 1],\n",
       "       [4, 0, 1]])"
      ]
     },
     "execution_count": 44,
     "metadata": {},
     "output_type": "execute_result"
    }
   ],
   "source": [
    "mat = np.concatenate((x1[:,None], x2[:,None], cluster[:,None]), axis=1)\n",
    "mat"
   ]
  },
  {
   "cell_type": "markdown",
   "metadata": {},
   "source": [
    "**(c)** Compute the centroid for each cluster."
   ]
  },
  {
   "cell_type": "code",
   "execution_count": 81,
   "metadata": {},
   "outputs": [
    {
     "data": {
      "text/html": [
       "<div>\n",
       "<style scoped>\n",
       "    .dataframe tbody tr th:only-of-type {\n",
       "        vertical-align: middle;\n",
       "    }\n",
       "\n",
       "    .dataframe tbody tr th {\n",
       "        vertical-align: top;\n",
       "    }\n",
       "\n",
       "    .dataframe thead th {\n",
       "        text-align: right;\n",
       "    }\n",
       "</style>\n",
       "<table border=\"1\" class=\"dataframe\">\n",
       "  <thead>\n",
       "    <tr style=\"text-align: right;\">\n",
       "      <th></th>\n",
       "      <th>x1</th>\n",
       "      <th>x2</th>\n",
       "      <th>k</th>\n",
       "    </tr>\n",
       "  </thead>\n",
       "  <tbody>\n",
       "    <tr>\n",
       "      <th>0</th>\n",
       "      <td>1</td>\n",
       "      <td>4</td>\n",
       "      <td>0</td>\n",
       "    </tr>\n",
       "    <tr>\n",
       "      <th>1</th>\n",
       "      <td>1</td>\n",
       "      <td>3</td>\n",
       "      <td>1</td>\n",
       "    </tr>\n",
       "    <tr>\n",
       "      <th>2</th>\n",
       "      <td>0</td>\n",
       "      <td>4</td>\n",
       "      <td>1</td>\n",
       "    </tr>\n",
       "    <tr>\n",
       "      <th>3</th>\n",
       "      <td>5</td>\n",
       "      <td>1</td>\n",
       "      <td>0</td>\n",
       "    </tr>\n",
       "    <tr>\n",
       "      <th>4</th>\n",
       "      <td>6</td>\n",
       "      <td>2</td>\n",
       "      <td>1</td>\n",
       "    </tr>\n",
       "    <tr>\n",
       "      <th>5</th>\n",
       "      <td>4</td>\n",
       "      <td>0</td>\n",
       "      <td>1</td>\n",
       "    </tr>\n",
       "  </tbody>\n",
       "</table>\n",
       "</div>"
      ],
      "text/plain": [
       "   x1  x2  k\n",
       "0   1   4  0\n",
       "1   1   3  1\n",
       "2   0   4  1\n",
       "3   5   1  0\n",
       "4   6   2  1\n",
       "5   4   0  1"
      ]
     },
     "execution_count": 81,
     "metadata": {},
     "output_type": "execute_result"
    }
   ],
   "source": [
    "import pandas as pd\n",
    "mat_df = pd.DataFrame(mat, columns=['x1','x2','k'])\n",
    "mat_df"
   ]
  },
  {
   "cell_type": "code",
   "execution_count": 97,
   "metadata": {},
   "outputs": [
    {
     "data": {
      "text/plain": [
       "(3.0, 2.5)"
      ]
     },
     "execution_count": 97,
     "metadata": {},
     "output_type": "execute_result"
    }
   ],
   "source": [
    "centroid1 = tuple(mat_df.loc[ mat_df['k'] == 0, ['x1','x2']].mean(axis=0))\n",
    "centroid1 # (x1, x2)"
   ]
  },
  {
   "cell_type": "code",
   "execution_count": 98,
   "metadata": {},
   "outputs": [
    {
     "data": {
      "text/plain": [
       "(2.75, 2.25)"
      ]
     },
     "execution_count": 98,
     "metadata": {},
     "output_type": "execute_result"
    }
   ],
   "source": [
    "centroid2 = tuple(mat_df.loc[ mat_df['k'] == 1, ['x1','x2']].mean(axis=0))\n",
    "centroid2 # (x1, x2)"
   ]
  },
  {
   "cell_type": "markdown",
   "metadata": {},
   "source": [
    "**(d)** Assign each observation to the centroid to which it is closest, in terms of Euclidean distance. Report the cluster labels for each observation."
   ]
  },
  {
   "cell_type": "code",
   "execution_count": 77,
   "metadata": {},
   "outputs": [],
   "source": [
    "def eucdist(p1, p2):\n",
    "    return np.sqrt( (p1[0]-p2[0])**2 + (p1[1]-p2[1])**2 )"
   ]
  },
  {
   "cell_type": "code",
   "execution_count": 87,
   "metadata": {},
   "outputs": [],
   "source": [
    "dist_to_1 = []\n",
    "dist_to_2 = []\n",
    "\n",
    "for obs in range(0,mat_df.shape[0]):\n",
    "    point = tuple(mat_df.iloc[obs, 0:2])\n",
    "\n",
    "    dist_to_1.append(eucdist(point, centroid1))\n",
    "    dist_to_2.append(eucdist(point, centroid2))\n",
    "\n"
   ]
  },
  {
   "cell_type": "code",
   "execution_count": 88,
   "metadata": {},
   "outputs": [
    {
     "data": {
      "text/plain": [
       "array([[2.5       , 2.47487373],\n",
       "       [2.06155281, 1.90394328],\n",
       "       [3.35410197, 3.2596012 ],\n",
       "       [2.5       , 2.57390754],\n",
       "       [3.04138127, 3.2596012 ],\n",
       "       [2.6925824 , 2.57390754]])"
      ]
     },
     "execution_count": 88,
     "metadata": {},
     "output_type": "execute_result"
    }
   ],
   "source": [
    "np.concatenate((np.array(dist_to_1)[:,None],np.array(dist_to_2)[:,None]), axis=1)"
   ]
  },
  {
   "cell_type": "code",
   "execution_count": 94,
   "metadata": {},
   "outputs": [
    {
     "data": {
      "text/plain": [
       "[1, 1, 1, 0, 0, 1]"
      ]
     },
     "execution_count": 94,
     "metadata": {},
     "output_type": "execute_result"
    }
   ],
   "source": [
    "k2 = [0 if dist_to_1[i] < dist_to_2[i] else 1 for i in range(0,len(dist_to_1))]\n",
    "k2"
   ]
  },
  {
   "cell_type": "markdown",
   "metadata": {},
   "source": [
    "New grops are defined in `k2`. Two observations have changed groups."
   ]
  },
  {
   "cell_type": "code",
   "execution_count": 96,
   "metadata": {},
   "outputs": [
    {
     "data": {
      "text/html": [
       "<div>\n",
       "<style scoped>\n",
       "    .dataframe tbody tr th:only-of-type {\n",
       "        vertical-align: middle;\n",
       "    }\n",
       "\n",
       "    .dataframe tbody tr th {\n",
       "        vertical-align: top;\n",
       "    }\n",
       "\n",
       "    .dataframe thead th {\n",
       "        text-align: right;\n",
       "    }\n",
       "</style>\n",
       "<table border=\"1\" class=\"dataframe\">\n",
       "  <thead>\n",
       "    <tr style=\"text-align: right;\">\n",
       "      <th></th>\n",
       "      <th>x1</th>\n",
       "      <th>x2</th>\n",
       "      <th>k</th>\n",
       "      <th>k2</th>\n",
       "    </tr>\n",
       "  </thead>\n",
       "  <tbody>\n",
       "    <tr>\n",
       "      <th>0</th>\n",
       "      <td>1</td>\n",
       "      <td>4</td>\n",
       "      <td>0</td>\n",
       "      <td>1</td>\n",
       "    </tr>\n",
       "    <tr>\n",
       "      <th>1</th>\n",
       "      <td>1</td>\n",
       "      <td>3</td>\n",
       "      <td>1</td>\n",
       "      <td>1</td>\n",
       "    </tr>\n",
       "    <tr>\n",
       "      <th>2</th>\n",
       "      <td>0</td>\n",
       "      <td>4</td>\n",
       "      <td>1</td>\n",
       "      <td>1</td>\n",
       "    </tr>\n",
       "    <tr>\n",
       "      <th>3</th>\n",
       "      <td>5</td>\n",
       "      <td>1</td>\n",
       "      <td>0</td>\n",
       "      <td>0</td>\n",
       "    </tr>\n",
       "    <tr>\n",
       "      <th>4</th>\n",
       "      <td>6</td>\n",
       "      <td>2</td>\n",
       "      <td>1</td>\n",
       "      <td>0</td>\n",
       "    </tr>\n",
       "    <tr>\n",
       "      <th>5</th>\n",
       "      <td>4</td>\n",
       "      <td>0</td>\n",
       "      <td>1</td>\n",
       "      <td>1</td>\n",
       "    </tr>\n",
       "  </tbody>\n",
       "</table>\n",
       "</div>"
      ],
      "text/plain": [
       "   x1  x2  k  k2\n",
       "0   1   4  0   1\n",
       "1   1   3  1   1\n",
       "2   0   4  1   1\n",
       "3   5   1  0   0\n",
       "4   6   2  1   0\n",
       "5   4   0  1   1"
      ]
     },
     "execution_count": 96,
     "metadata": {},
     "output_type": "execute_result"
    }
   ],
   "source": [
    "mat_df['k2'] = k2\n",
    "mat_df"
   ]
  },
  {
   "cell_type": "markdown",
   "metadata": {},
   "source": [
    "**(e)** Repeat (c) and (d) until the answers obtained stop changing."
   ]
  },
  {
   "cell_type": "code",
   "execution_count": 99,
   "metadata": {},
   "outputs": [
    {
     "data": {
      "text/plain": [
       "(5.5, 1.5)"
      ]
     },
     "execution_count": 99,
     "metadata": {},
     "output_type": "execute_result"
    }
   ],
   "source": [
    "centroid1 = tuple(mat_df.loc[ mat_df['k2'] == 0, ['x1','x2']].mean(axis=0))\n",
    "centroid1 # (x1, x2)"
   ]
  },
  {
   "cell_type": "code",
   "execution_count": 100,
   "metadata": {},
   "outputs": [
    {
     "data": {
      "text/plain": [
       "(1.5, 2.75)"
      ]
     },
     "execution_count": 100,
     "metadata": {},
     "output_type": "execute_result"
    }
   ],
   "source": [
    "centroid2 = tuple(mat_df.loc[ mat_df['k2'] == 1, ['x1','x2']].mean(axis=0))\n",
    "centroid2 # (x1, x2)"
   ]
  },
  {
   "cell_type": "code",
   "execution_count": 101,
   "metadata": {},
   "outputs": [],
   "source": [
    "dist_to_1 = []\n",
    "dist_to_2 = []\n",
    "\n",
    "for obs in range(0,mat_df.shape[0]):\n",
    "    point = tuple(mat_df.iloc[obs, 0:2])\n",
    "\n",
    "    dist_to_1.append(eucdist(point, centroid1))\n",
    "    dist_to_2.append(eucdist(point, centroid2))"
   ]
  },
  {
   "cell_type": "code",
   "execution_count": 102,
   "metadata": {},
   "outputs": [
    {
     "data": {
      "text/plain": [
       "array([[5.14781507, 1.3462912 ],\n",
       "       [4.74341649, 0.55901699],\n",
       "       [6.04152299, 1.95256242],\n",
       "       [0.70710678, 3.91311896],\n",
       "       [0.70710678, 4.5620719 ],\n",
       "       [2.12132034, 3.71651719]])"
      ]
     },
     "execution_count": 102,
     "metadata": {},
     "output_type": "execute_result"
    }
   ],
   "source": [
    "np.concatenate((np.array(dist_to_1)[:,None],np.array(dist_to_2)[:,None]), axis=1)"
   ]
  },
  {
   "cell_type": "code",
   "execution_count": 103,
   "metadata": {},
   "outputs": [
    {
     "data": {
      "text/plain": [
       "[1, 1, 1, 0, 0, 0]"
      ]
     },
     "execution_count": 103,
     "metadata": {},
     "output_type": "execute_result"
    }
   ],
   "source": [
    "k3 = [0 if dist_to_1[i] < dist_to_2[i] else 1 for i in range(0,len(dist_to_1))]\n",
    "k3"
   ]
  },
  {
   "cell_type": "code",
   "execution_count": 104,
   "metadata": {},
   "outputs": [
    {
     "data": {
      "text/html": [
       "<div>\n",
       "<style scoped>\n",
       "    .dataframe tbody tr th:only-of-type {\n",
       "        vertical-align: middle;\n",
       "    }\n",
       "\n",
       "    .dataframe tbody tr th {\n",
       "        vertical-align: top;\n",
       "    }\n",
       "\n",
       "    .dataframe thead th {\n",
       "        text-align: right;\n",
       "    }\n",
       "</style>\n",
       "<table border=\"1\" class=\"dataframe\">\n",
       "  <thead>\n",
       "    <tr style=\"text-align: right;\">\n",
       "      <th></th>\n",
       "      <th>x1</th>\n",
       "      <th>x2</th>\n",
       "      <th>k</th>\n",
       "      <th>k2</th>\n",
       "      <th>k3</th>\n",
       "    </tr>\n",
       "  </thead>\n",
       "  <tbody>\n",
       "    <tr>\n",
       "      <th>0</th>\n",
       "      <td>1</td>\n",
       "      <td>4</td>\n",
       "      <td>0</td>\n",
       "      <td>1</td>\n",
       "      <td>1</td>\n",
       "    </tr>\n",
       "    <tr>\n",
       "      <th>1</th>\n",
       "      <td>1</td>\n",
       "      <td>3</td>\n",
       "      <td>1</td>\n",
       "      <td>1</td>\n",
       "      <td>1</td>\n",
       "    </tr>\n",
       "    <tr>\n",
       "      <th>2</th>\n",
       "      <td>0</td>\n",
       "      <td>4</td>\n",
       "      <td>1</td>\n",
       "      <td>1</td>\n",
       "      <td>1</td>\n",
       "    </tr>\n",
       "    <tr>\n",
       "      <th>3</th>\n",
       "      <td>5</td>\n",
       "      <td>1</td>\n",
       "      <td>0</td>\n",
       "      <td>0</td>\n",
       "      <td>0</td>\n",
       "    </tr>\n",
       "    <tr>\n",
       "      <th>4</th>\n",
       "      <td>6</td>\n",
       "      <td>2</td>\n",
       "      <td>1</td>\n",
       "      <td>0</td>\n",
       "      <td>0</td>\n",
       "    </tr>\n",
       "    <tr>\n",
       "      <th>5</th>\n",
       "      <td>4</td>\n",
       "      <td>0</td>\n",
       "      <td>1</td>\n",
       "      <td>1</td>\n",
       "      <td>0</td>\n",
       "    </tr>\n",
       "  </tbody>\n",
       "</table>\n",
       "</div>"
      ],
      "text/plain": [
       "   x1  x2  k  k2  k3\n",
       "0   1   4  0   1   1\n",
       "1   1   3  1   1   1\n",
       "2   0   4  1   1   1\n",
       "3   5   1  0   0   0\n",
       "4   6   2  1   0   0\n",
       "5   4   0  1   1   0"
      ]
     },
     "execution_count": 104,
     "metadata": {},
     "output_type": "execute_result"
    }
   ],
   "source": [
    "mat_df['k3'] = k3\n",
    "mat_df"
   ]
  },
  {
   "cell_type": "code",
   "execution_count": 105,
   "metadata": {},
   "outputs": [
    {
     "data": {
      "text/plain": [
       "(5.0, 1.0)"
      ]
     },
     "execution_count": 105,
     "metadata": {},
     "output_type": "execute_result"
    }
   ],
   "source": [
    "centroid1 = tuple(mat_df.loc[ mat_df['k3'] == 0, ['x1','x2']].mean(axis=0))\n",
    "centroid1 # (x1, x2)"
   ]
  },
  {
   "cell_type": "code",
   "execution_count": 106,
   "metadata": {},
   "outputs": [
    {
     "data": {
      "text/plain": [
       "(0.6666666666666666, 3.6666666666666665)"
      ]
     },
     "execution_count": 106,
     "metadata": {},
     "output_type": "execute_result"
    }
   ],
   "source": [
    "centroid2 = tuple(mat_df.loc[ mat_df['k3'] == 1, ['x1','x2']].mean(axis=0))\n",
    "centroid2 # (x1, x2)"
   ]
  },
  {
   "cell_type": "code",
   "execution_count": 107,
   "metadata": {},
   "outputs": [],
   "source": [
    "dist_to_1 = []\n",
    "dist_to_2 = []\n",
    "\n",
    "for obs in range(0,mat_df.shape[0]):\n",
    "    point = tuple(mat_df.iloc[obs, 0:2])\n",
    "\n",
    "    dist_to_1.append(eucdist(point, centroid1))\n",
    "    dist_to_2.append(eucdist(point, centroid2))"
   ]
  },
  {
   "cell_type": "code",
   "execution_count": 108,
   "metadata": {},
   "outputs": [
    {
     "data": {
      "text/plain": [
       "[1, 1, 1, 0, 0, 0]"
      ]
     },
     "execution_count": 108,
     "metadata": {},
     "output_type": "execute_result"
    }
   ],
   "source": [
    "k4 = [0 if dist_to_1[i] < dist_to_2[i] else 1 for i in range(0,len(dist_to_1))]\n",
    "k4"
   ]
  },
  {
   "cell_type": "code",
   "execution_count": 109,
   "metadata": {},
   "outputs": [
    {
     "data": {
      "text/html": [
       "<div>\n",
       "<style scoped>\n",
       "    .dataframe tbody tr th:only-of-type {\n",
       "        vertical-align: middle;\n",
       "    }\n",
       "\n",
       "    .dataframe tbody tr th {\n",
       "        vertical-align: top;\n",
       "    }\n",
       "\n",
       "    .dataframe thead th {\n",
       "        text-align: right;\n",
       "    }\n",
       "</style>\n",
       "<table border=\"1\" class=\"dataframe\">\n",
       "  <thead>\n",
       "    <tr style=\"text-align: right;\">\n",
       "      <th></th>\n",
       "      <th>x1</th>\n",
       "      <th>x2</th>\n",
       "      <th>k</th>\n",
       "      <th>k2</th>\n",
       "      <th>k3</th>\n",
       "      <th>k4</th>\n",
       "    </tr>\n",
       "  </thead>\n",
       "  <tbody>\n",
       "    <tr>\n",
       "      <th>0</th>\n",
       "      <td>1</td>\n",
       "      <td>4</td>\n",
       "      <td>0</td>\n",
       "      <td>1</td>\n",
       "      <td>1</td>\n",
       "      <td>1</td>\n",
       "    </tr>\n",
       "    <tr>\n",
       "      <th>1</th>\n",
       "      <td>1</td>\n",
       "      <td>3</td>\n",
       "      <td>1</td>\n",
       "      <td>1</td>\n",
       "      <td>1</td>\n",
       "      <td>1</td>\n",
       "    </tr>\n",
       "    <tr>\n",
       "      <th>2</th>\n",
       "      <td>0</td>\n",
       "      <td>4</td>\n",
       "      <td>1</td>\n",
       "      <td>1</td>\n",
       "      <td>1</td>\n",
       "      <td>1</td>\n",
       "    </tr>\n",
       "    <tr>\n",
       "      <th>3</th>\n",
       "      <td>5</td>\n",
       "      <td>1</td>\n",
       "      <td>0</td>\n",
       "      <td>0</td>\n",
       "      <td>0</td>\n",
       "      <td>0</td>\n",
       "    </tr>\n",
       "    <tr>\n",
       "      <th>4</th>\n",
       "      <td>6</td>\n",
       "      <td>2</td>\n",
       "      <td>1</td>\n",
       "      <td>0</td>\n",
       "      <td>0</td>\n",
       "      <td>0</td>\n",
       "    </tr>\n",
       "    <tr>\n",
       "      <th>5</th>\n",
       "      <td>4</td>\n",
       "      <td>0</td>\n",
       "      <td>1</td>\n",
       "      <td>1</td>\n",
       "      <td>0</td>\n",
       "      <td>0</td>\n",
       "    </tr>\n",
       "  </tbody>\n",
       "</table>\n",
       "</div>"
      ],
      "text/plain": [
       "   x1  x2  k  k2  k3  k4\n",
       "0   1   4  0   1   1   1\n",
       "1   1   3  1   1   1   1\n",
       "2   0   4  1   1   1   1\n",
       "3   5   1  0   0   0   0\n",
       "4   6   2  1   0   0   0\n",
       "5   4   0  1   1   0   0"
      ]
     },
     "execution_count": 109,
     "metadata": {},
     "output_type": "execute_result"
    }
   ],
   "source": [
    "mat_df['k4'] = k4\n",
    "mat_df"
   ]
  },
  {
   "cell_type": "markdown",
   "metadata": {},
   "source": [
    "**(f)** In your plot from (a), color the observations according to the cluster labels obtained."
   ]
  },
  {
   "cell_type": "code",
   "execution_count": 111,
   "metadata": {},
   "outputs": [
    {
     "data": {
      "image/png": "[encoded data removed]",
      "text/plain": [
       "<Figure size 500x500 with 1 Axes>"
      ]
     },
     "metadata": {},
     "output_type": "display_data"
    }
   ],
   "source": [
    "x1 = np.array([1, 1, 0, 5, 6, 4])\n",
    "x2 = np.array([4, 3, 4, 1, 2, 0])\n",
    "\n",
    "fig, ax = plt.subplots(figsize=(5,5))\n",
    "ax.set_xticks([0, 1, 2, 3, 4, 5, 6])\n",
    "ax.set_yticks([0, 1, 2, 3, 4, 5, 6])\n",
    "ax.set_xlabel('x1')\n",
    "ax.set_ylabel('x2')\n",
    "ax.scatter(x1, x2, c= k4);"
   ]
  }
 ],
 "metadata": {
  "language_info": {
   "name": "python"
  }
 },
 "nbformat": 4,
 "nbformat_minor": 2
}
