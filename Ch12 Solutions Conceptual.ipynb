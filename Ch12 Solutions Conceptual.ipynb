{
 "cells": [
  {
   "cell_type": "markdown",
   "metadata": {},
   "source": [
    "# Chapter 10 - Excercise Solutions - Conceptual"
   ]
  },
  {
   "cell_type": "markdown",
   "metadata": {},
   "source": [
    "## 1\n",
    "\n",
    "This problem involves the K-means clustering algorithm."
   ]
  },
  {
   "cell_type": "markdown",
   "metadata": {},
   "source": [
    "**(a)** Prove (12.18)."
   ]
  },
  {
   "cell_type": "markdown",
   "metadata": {},
   "source": [
    "$$ \\frac{1}{|C_k|} \\sum_{i,i' \\in C_k} \\sum_{j=1}^{p} (x_{ij} - x_{i'j'})^2 = 2 \\sum_{i \\in C_k} \\sum_{j=1}^{p} (x_{ij} - \\bar{x}_{kj})^2 $$"
   ]
  },
  {
   "cell_type": "markdown",
   "metadata": {},
   "source": [
    "Starting with the left side:\n",
    "\n",
    "$$ \\frac{1}{|C_k|} \\sum_{i,i' \\in C_k} \\sum_{j=1}^{p} (x_{ij} - x_{i'j'})^2 $$\n",
    "\n",
    "$$ \\sum_{j=1}^{p} \\frac{1}{C_k} \\sum_{i,i' \\in C_k} (x_{ij} - x_{i'j'}) (x_{ij} - x_{i'j'}) $$\n",
    "\n",
    "$$ \\sum_{j=1}^{p} \\frac{1}{C_k} \\sum_{i,i' \\in C_k} x_{ij}^2 - 2 x_{ij}x_{i'j'} + x_{i'j'}^2  $$\n",
    "\n",
    "$$ \\sum_{j=1}^{p} \\left[ \\frac{1}{C_k} \\sum_{i,i' \\in C_k} x_{ij}^2 - 2 \\frac{1}{C_k} \\sum_{i,i' \\in C_k}  x_{ij}x_{i'j'} +  \\frac{1}{C_k} \\sum_{i,i' \\in C_k} x_{i'j'}^2 \\right] $$\n",
    "\n",
    "$$ \\sum_{j=1}^{p} \\left[ 2 \\frac{1}{C_k} \\sum_{i,i' \\in C_k} x_{ij}^2 - 2 \\frac{1}{C_k} \\sum_{i,i' \\in C_k}  x_{ij}x_{i'j'} \\right] $$\n",
    "\n",
    "$$ \\sum_{j=1}^{p} \\left[ 2 \\frac{1}{C_k} \\sum_{i \\in C_k} \\sum_{i' \\in C_k} x_{ij}^2 - 2 \\frac{1}{C_k} \\sum_{i \\in C_k} \\sum_{i' \\in C_k} x_{ij}x_{i'j'} \\right] $$\n",
    "\n",
    "$$ \\sum_{j=1}^{p} \\left[ 2 \\frac{1}{C_k} \\sum_{i \\in C_k} C_k x_{ij}^2 - 2 \\frac{1}{C_k} \\sum_{i \\in C_k} x_{ij} \\sum_{i' \\in C_k} x_{i'j'} \\right] $$\n",
    "\n",
    "$$ LHS = 2 \\sum_{j=1}^{p} \\left[ \\sum_{i \\in C_k} x_{ij}^2 - \\frac{1}{C_k} \\sum_{i \\in C_k} x_{ij} \\sum_{i' \\in C_k} x_{i'j'} \\right] $$\n",
    "\n"
   ]
  },
  {
   "cell_type": "markdown",
   "metadata": {},
   "source": [
    "On the right side we have:\n",
    "\n",
    "$$ 2 \\sum_{i \\in C_k} \\sum_{j=1}^{p} (x_{ij} - \\bar{x}_{kj})^2 $$\n",
    "\n",
    "$$ 2 \\sum_{j=1}^{p} \\sum_{i \\in C_k} (x_{ij}   - \\bar{x}_{kj}) (x_{ij}   - \\bar{x}_{kj})  $$\n",
    "\n",
    "$$ 2 \\sum_{j=1}^{p} \\sum_{i \\in C_k} x_{ij}^2   -2 x_{ij} \\bar{x}_{kj}  + \\bar{x}_{kj}^2  $$\n",
    "\n",
    "$$ 2 \\sum_{j=1}^{p} \\left[ \\sum_{i \\in C_k} x_{ij}^2   -2 \\sum_{i \\in C_k} x_{ij} \\bar{x}_{kj}  + \\sum_{i \\in C_k} \\bar{x}_{kj}^2 \\right] $$\n",
    "\n",
    "$$ 2 \\sum_{j=1}^{p} \\left[ \\sum_{i \\in C_k} x_{ij}^2   -2 \\bar{x}_{kj} \\sum_{i \\in C_k} x_{ij}   + C_k \\bar{x}_{kj}^2 \\right] $$"
   ]
  },
  {
   "cell_type": "markdown",
   "metadata": {},
   "source": [
    "Substitute for $ \\bar{x_{kj}} $, noting:\n",
    "\n",
    "$$ \\bar{x}_{kj} = \\frac{1}{C_k} \\sum_{i \\in C_k} x_{ij} $$\n",
    "\n",
    "So we have:\n",
    "\n",
    "$$ 2 \\sum_{j=1}^{p} \\left[ \\sum_{i \\in C_k} x_{ij}^2   -2  \\frac{1}{C_k} \\sum_{i \\in C_k} x_{ij}  \\sum_{i \\in C_k} x_{ij}  + C_k \\left( \\frac{1}{C_k} \\sum_{i \\in C_k} x_{ij} \\right) ^2 \\right] $$\n",
    "\n",
    "$$ 2 \\sum_{j=1}^{p} \\left[ \\sum_{i \\in C_k} x_{ij}^2   -2  \\frac{1}{C_k} \\sum_{i \\in C_k} x_{ij}  \\sum_{i \\in C_k} x_{ij}  +  \\frac{1}{C_k} \\sum_{i \\in C_k} x_{ij}   \\sum_{i \\in C_k} x_{ij}\\right] $$\n",
    "\n",
    "$$ RHS = 2 \\sum_{j=1}^{p} \\left[ \\sum_{i \\in C_k} x_{ij}^2   -  \\frac{1}{C_k} \\sum_{i \\in C_k} x_{ij}   \\sum_{i \\in C_k} x_{ij}\\right] $$"
   ]
  },
  {
   "cell_type": "markdown",
   "metadata": {},
   "source": [
    "And so $LHS = RHS$."
   ]
  }
 ],
 "metadata": {
  "language_info": {
   "name": "python"
  }
 },
 "nbformat": 4,
 "nbformat_minor": 2
}
