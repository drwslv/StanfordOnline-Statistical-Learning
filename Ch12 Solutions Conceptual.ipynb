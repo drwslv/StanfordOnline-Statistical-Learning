{
 "cells": [
  {
   "cell_type": "markdown",
   "metadata": {},
   "source": [
    "# Chapter 10 - Excercise Solutions - Conceptual"
   ]
  },
  {
   "cell_type": "markdown",
   "metadata": {},
   "source": [
    "## 1\n",
    "\n",
    "This problem involves the K-means clustering algorithm."
   ]
  },
  {
   "cell_type": "markdown",
   "metadata": {},
   "source": [
    "**(a)** Prove (12.18)."
   ]
  },
  {
   "cell_type": "markdown",
   "metadata": {},
   "source": [
    "$$ \\frac{1}{|C_k|} \\sum_{i,i' \\in C_k} \\sum_{j=1}^{p} (x_{ij} - x_{i'j'})^2 = 2 \\sum_{i \\in C_k} \\sum_{j=1}^{p} (x_{ij} - \\bar{x}_{kj})^2 $$"
   ]
  },
  {
   "cell_type": "markdown",
   "metadata": {},
   "source": [
    "Starting with the left side:\n",
    "\n",
    "$$ \\frac{1}{|C_k|} \\sum_{i,i' \\in C_k} \\sum_{j=1}^{p} (x_{ij} - x_{i'j'})^2 $$\n",
    "\n",
    "$$ \\sum_{j=1}^{p} \\frac{1}{C_k} \\sum_{i,i' \\in C_k} (x_{ij} - x_{i'j'}) (x_{ij} - x_{i'j'}) $$\n",
    "\n",
    "$$ \\sum_{j=1}^{p} \\frac{1}{C_k} \\sum_{i,i' \\in C_k} x_{ij}^2 - 2 x_{ij}x_{i'j'} + x_{i'j'}^2  $$\n",
    "\n",
    "$$ \\sum_{j=1}^{p} \\left[ \\frac{1}{C_k} \\sum_{i,i' \\in C_k} x_{ij}^2 - 2 \\frac{1}{C_k} \\sum_{i,i' \\in C_k}  x_{ij}x_{i'j'} +  \\frac{1}{C_k} \\sum_{i,i' \\in C_k} x_{i'j'}^2 \\right] $$\n",
    "\n",
    "$$ \\sum_{j=1}^{p} \\left[ 2 \\frac{1}{C_k} \\sum_{i,i' \\in C_k} x_{ij}^2 - 2 \\frac{1}{C_k} \\sum_{i,i' \\in C_k}  x_{ij}x_{i'j'} \\right] $$\n",
    "\n",
    "$$ \\sum_{j=1}^{p} \\left[ 2 \\frac{1}{C_k} \\sum_{i \\in C_k} \\sum_{i' \\in C_k} x_{ij}^2 - 2 \\frac{1}{C_k} \\sum_{i \\in C_k} \\sum_{i' \\in C_k} x_{ij}x_{i'j'} \\right] $$\n",
    "\n",
    "$$ \\sum_{j=1}^{p} \\left[ 2 \\frac{1}{C_k} \\sum_{i \\in C_k} C_k x_{ij}^2 - 2 \\frac{1}{C_k} \\sum_{i \\in C_k} x_{ij} \\sum_{i' \\in C_k} x_{i'j'} \\right] $$\n",
    "\n",
    "$$ LHS = 2 \\sum_{j=1}^{p} \\left[ \\sum_{i \\in C_k} x_{ij}^2 - \\frac{1}{C_k} \\sum_{i \\in C_k} x_{ij} \\sum_{i' \\in C_k} x_{i'j'} \\right] $$\n",
    "\n"
   ]
  },
  {
   "cell_type": "markdown",
   "metadata": {},
   "source": [
    "On the right side we have:\n",
    "\n",
    "$$ 2 \\sum_{i \\in C_k} \\sum_{j=1}^{p} (x_{ij} - \\bar{x}_{kj})^2 $$\n",
    "\n",
    "$$ 2 \\sum_{j=1}^{p} \\sum_{i \\in C_k} (x_{ij}   - \\bar{x}_{kj}) (x_{ij}   - \\bar{x}_{kj})  $$\n",
    "\n",
    "$$ 2 \\sum_{j=1}^{p} \\sum_{i \\in C_k} x_{ij}^2   -2 x_{ij} \\bar{x}_{kj}  + \\bar{x}_{kj}^2  $$\n",
    "\n",
    "$$ 2 \\sum_{j=1}^{p} \\left[ \\sum_{i \\in C_k} x_{ij}^2   -2 \\sum_{i \\in C_k} x_{ij} \\bar{x}_{kj}  + \\sum_{i \\in C_k} \\bar{x}_{kj}^2 \\right] $$\n",
    "\n",
    "$$ 2 \\sum_{j=1}^{p} \\left[ \\sum_{i \\in C_k} x_{ij}^2   -2 \\bar{x}_{kj} \\sum_{i \\in C_k} x_{ij}   + C_k \\bar{x}_{kj}^2 \\right] $$"
   ]
  },
  {
   "cell_type": "markdown",
   "metadata": {},
   "source": [
    "Substitute for $ \\bar{x_{kj}} $, noting:\n",
    "\n",
    "$$ \\bar{x}_{kj} = \\frac{1}{C_k} \\sum_{i \\in C_k} x_{ij} $$\n",
    "\n",
    "So we have:\n",
    "\n",
    "$$ 2 \\sum_{j=1}^{p} \\left[ \\sum_{i \\in C_k} x_{ij}^2   -2  \\frac{1}{C_k} \\sum_{i \\in C_k} x_{ij}  \\sum_{i \\in C_k} x_{ij}  + C_k \\left( \\frac{1}{C_k} \\sum_{i \\in C_k} x_{ij} \\right) ^2 \\right] $$\n",
    "\n",
    "$$ 2 \\sum_{j=1}^{p} \\left[ \\sum_{i \\in C_k} x_{ij}^2   -2  \\frac{1}{C_k} \\sum_{i \\in C_k} x_{ij}  \\sum_{i \\in C_k} x_{ij}  +  \\frac{1}{C_k} \\sum_{i \\in C_k} x_{ij}   \\sum_{i \\in C_k} x_{ij}\\right] $$\n",
    "\n",
    "$$ RHS = 2 \\sum_{j=1}^{p} \\left[ \\sum_{i \\in C_k} x_{ij}^2   -  \\frac{1}{C_k} \\sum_{i \\in C_k} x_{ij}   \\sum_{i \\in C_k} x_{ij}\\right] $$"
   ]
  },
  {
   "cell_type": "markdown",
   "metadata": {},
   "source": [
    "And so $LHS = RHS$."
   ]
  },
  {
   "cell_type": "markdown",
   "metadata": {},
   "source": [
    "**(b)** On the basis of this identity, argue that the *K*-means clustering algorithm (Algorithm 12.2) decreases the objective (12.17) at each iteration."
   ]
  },
  {
   "cell_type": "markdown",
   "metadata": {},
   "source": [
    "Given the identity in (12.18), minimizing (12.17) is equivalent to minimizing the RHS of (12.18) over all $K$ groups.\n",
    "\n",
    "The first part of Algorithm (12.2) involves calculating the centroid of each of the $K$ clusters. The centroid is indicated as $\\bar{x}_kj$ in the RHS of (12.18). The second part of Algorithm (12.2) involves assigning each observation to the cluster whose centroid is closest (by euclidian distance). This second step necessarily means that the quantitiy $ (x_{ij} = \\bar{x}_ij)^2 $ in the RHS of (12.18) will be minimized, and by the identity (12.18), (12.17) will also be minimized."
   ]
  },
  {
   "cell_type": "markdown",
   "metadata": {},
   "source": [
    "# 2\n",
    "\n",
    "Suppose that we have four observations, for which we compute a dissimilarity matrix, given by\n",
    "\n",
    "\\begin{bmatrix}\n",
    "    & 0.3 & 0.4 & 0.7 \\\\\n",
    "0.3 &     & 0.5 & 0.8 \\\\\n",
    "0.4 & 0.5 &     & 0.45 \\\\\n",
    "0.7 & 0.8 & 0.45 &  \n",
    "\\end{bmatrix}\n",
    "\n",
    "For instance, the dissimilarity between the first and second observations is 0.3, and the dissimilarity between the second and fourth observations is 0.8."
   ]
  },
  {
   "cell_type": "markdown",
   "metadata": {},
   "source": [
    "**(a)** On the basis of this dissimilarity matrix, sketch the dendrogram that results from hierarchically clustering these four observations using **complete** linkage. Be sure to indicate on the plot the height at which each fusion occurs, as well as the observations corresponding to each leaf in the dendrogram."
   ]
  },
  {
   "cell_type": "markdown",
   "metadata": {},
   "source": [
    "Assume the observations are labeled 1-4, in order of the rows/columns of the dissimilarity matrix.\n",
    "\n",
    "* First, obs. 1 and 2 will fuse at dissimilarity = 0.3.\n",
    "\n",
    "* The next smallest dissimilarity is between obs. 1 and 3, at dissimilarity = 0.4. However, obs. 3 will not fuse with 1 and 2, because by complete linkage, the maximum dissimilarity is between obs. 2 and 3, at dissimilarity = 0.5.\n",
    "\n",
    "* The nest smallest dissimilarity is between obs. 3 and 4, at dissimilarity = 0.45. Obs. 3 and 4 fuse to make a new group.\n",
    "\n",
    "* The only remaining possible fusiong is between the first group (obs. 1 and 2) and second group (Obs. 3 and 4), which by complete linkage will take place at dissimilarity = 0.8, which is the maximum dissimilarity between the nodes considered."
   ]
  },
  {
   "cell_type": "markdown",
   "metadata": {},
   "source": [
    "<img src=\"Ch12_2_Dendrogram_a.png\" width=\"500\"/>"
   ]
  },
  {
   "cell_type": "markdown",
   "metadata": {},
   "source": [
    "**(b)** Repeat (a), this time using single linkage clustering."
   ]
  },
  {
   "cell_type": "markdown",
   "metadata": {},
   "source": [
    "* The first fusion is the same, as it does not depend on the linkage type used: 1 and 2 fuse at dissimilarity = 0.3\n",
    "\n",
    "* The next smallest dissimilarit is between obs. 1 and 3, at dissimilarity = 0.4. The group formed with obs. 1 and 2 will then fuse with obs. 3 at dissimilariity = 0.4, since this is the minimum dissimilarity within the group and obs. 3.\n",
    "\n",
    "* The enlarged grop then fuses with obs. 4 at the minimum dissimilarity, which is 0.45, which is the dissimilarit between obs. 3 and obs. 4."
   ]
  },
  {
   "cell_type": "markdown",
   "metadata": {},
   "source": [
    "<img src=\"Ch12_2_Dendrogram_b.png\" width=\"500\"/>"
   ]
  },
  {
   "cell_type": "markdown",
   "metadata": {},
   "source": [
    "**(c)** Suppose that we cut the dendrogram obtained in (a) such that two clusters result. Which observations are in each cluster?"
   ]
  },
  {
   "cell_type": "markdown",
   "metadata": {},
   "source": [
    "To yield two clusters in (a) (complete linkage), the dendrogram could be cut anywhere between 0.45 and 0.8:\n",
    "\n",
    "* Cluster 1: obs. 1 and 2\n",
    "\n",
    "* Cluster 2: obs. 3 and 4"
   ]
  },
  {
   "cell_type": "markdown",
   "metadata": {},
   "source": [
    "**(d)** Suppose that we cut the dendrogram obtained in (b) such that two clusters result. Which observations are in each cluster?"
   ]
  },
  {
   "cell_type": "markdown",
   "metadata": {},
   "source": [
    "To yield two clusters in (b) (single linkage), the dendrogram could be cut anywhere between 0.4 and 0.45:\n",
    "\n",
    "* Cluster 1: obs. 1, 2, and 3\n",
    "\n",
    "* Cluster 2: 4\n"
   ]
  },
  {
   "cell_type": "markdown",
   "metadata": {},
   "source": [
    "**(e)** It is mentioned in this chapter that at each fusion in the den-drogram, the position of the two clusters being fused can be swapped without changing the meaning of the dendrogram. Draw a dendrogram that is equivalent to the dendrogram in (a), for which two or more of the leaves are repositioned, but for which the meaning of the dendrogram is the same."
   ]
  },
  {
   "cell_type": "markdown",
   "metadata": {},
   "source": [
    "<img src=\"Ch12_2_Dendrogram_c.png\" width=\"500\"/>"
   ]
  }
 ],
 "metadata": {
  "language_info": {
   "name": "python"
  }
 },
 "nbformat": 4,
 "nbformat_minor": 2
}
